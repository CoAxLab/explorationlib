{
 "metadata": {
  "language_info": {
   "codemirror_mode": {
    "name": "ipython",
    "version": 3
   },
   "file_extension": ".py",
   "mimetype": "text/x-python",
   "name": "python",
   "nbconvert_exporter": "python",
   "pygments_lexer": "ipython3",
   "version": "3.6.7-final"
  },
  "orig_nbformat": 2,
  "kernelspec": {
   "name": "python3",
   "display_name": "Python 3",
   "language": "python"
  }
 },
 "nbformat": 4,
 "nbformat_minor": 2,
 "cells": [
  {
   "source": [
    "# Test - moving targets - CooperativeField\n",
    "Predators hunting prey, who can team up to present a smaller target at the cost of greater visibility."
   ],
   "cell_type": "markdown",
   "metadata": {}
  },
  {
   "cell_type": "code",
   "execution_count": 1,
   "metadata": {},
   "outputs": [
    {
     "output_type": "stream",
     "name": "stdout",
     "text": [
      "pygame 2.0.1 (SDL 2.0.14, Python 3.6.7)\nHello from the pygame community. https://www.pygame.org/contribute.html\n"
     ]
    }
   ],
   "source": [
    "import shutil\n",
    "import glob\n",
    "import os\n",
    "\n",
    "import numpy as np\n",
    "import pandas as pd\n",
    "import seaborn as sns\n",
    "import matplotlib.pyplot as plt\n",
    "\n",
    "import explorationlib\n",
    "from explorationlib.agent import Diffusion2d\n",
    "from explorationlib.agent import DiffusionDiscrete\n",
    "from explorationlib.agent import DiffusionGrid\n",
    "\n",
    "from explorationlib.local_gym import uniform_targets\n",
    "from explorationlib.local_gym import constant_values\n",
    "from explorationlib.local_gym import CooperativeGrid\n",
    "\n",
    "from explorationlib.run import multi_experiment\n",
    "from explorationlib.util import select_exp\n",
    "from explorationlib.util import select_agent\n",
    "from explorationlib.util import load\n",
    "from explorationlib.util import save\n",
    "\n",
    "from explorationlib.plot import plot_position2d\n",
    "from explorationlib.plot import plot_positions2d\n",
    "from explorationlib.plot import plot_length_hist\n",
    "from explorationlib.plot import plot_length\n",
    "from explorationlib.plot import plot_targets2d\n",
    "from explorationlib.plot import show_gif\n",
    "\n",
    "from explorationlib import score\n",
    "from explorationlib.score import search_efficiency\n",
    "from explorationlib.score import first_reward\n",
    "from explorationlib.score import total_reward"
   ]
  },
  {
   "cell_type": "code",
   "execution_count": 2,
   "metadata": {},
   "outputs": [
    {
     "output_type": "display_data",
     "data": {
      "text/plain": "<IPython.core.display.Javascript object>",
      "application/javascript": "\n            setTimeout(function() {\n                var nbb_cell_id = 2;\n                var nbb_unformatted_code = \"# Pretty plots\\n%matplotlib inline\\n%config InlineBackend.figure_format='retina'\\n%config IPCompleter.greedy=True\\n\\nplt.rcParams[\\\"axes.facecolor\\\"] = \\\"white\\\"\\nplt.rcParams[\\\"figure.facecolor\\\"] = \\\"white\\\"\\nplt.rcParams[\\\"font.size\\\"] = \\\"16\\\"\\n\\n# Uncomment for local development\\n%load_ext nb_black\\n%load_ext autoreload\\n%autoreload 2\";\n                var nbb_formatted_code = \"# Pretty plots\\n%matplotlib inline\\n%config InlineBackend.figure_format='retina'\\n%config IPCompleter.greedy=True\\n\\nplt.rcParams[\\\"axes.facecolor\\\"] = \\\"white\\\"\\nplt.rcParams[\\\"figure.facecolor\\\"] = \\\"white\\\"\\nplt.rcParams[\\\"font.size\\\"] = \\\"16\\\"\\n\\n# Uncomment for local development\\n%load_ext nb_black\\n%load_ext autoreload\\n%autoreload 2\";\n                var nbb_cells = Jupyter.notebook.get_cells();\n                for (var i = 0; i < nbb_cells.length; ++i) {\n                    if (nbb_cells[i].input_prompt_number == nbb_cell_id) {\n                        if (nbb_cells[i].get_text() == nbb_unformatted_code) {\n                             nbb_cells[i].set_text(nbb_formatted_code);\n                        }\n                        break;\n                    }\n                }\n            }, 500);\n            "
     },
     "metadata": {}
    }
   ],
   "source": [
    "# Pretty plots\n",
    "%matplotlib inline\n",
    "%config InlineBackend.figure_format='retina'\n",
    "%config IPCompleter.greedy=True\n",
    "\n",
    "plt.rcParams[\"axes.facecolor\"] = \"white\"\n",
    "plt.rcParams[\"figure.facecolor\"] = \"white\"\n",
    "plt.rcParams[\"font.size\"] = \"16\"\n",
    "\n",
    "# Uncomment for local development\n",
    "%load_ext nb_black\n",
    "%load_ext autoreload\n",
    "%autoreload 2"
   ]
  },
  {
   "source": [
    "# 10 pred, 190 preys"
   ],
   "cell_type": "markdown",
   "metadata": {}
  },
  {
   "source": [
    "# How long to run? Longer is better, but slower.\n",
    "num_steps = 40\n",
    "num_experiments = 1\n",
    "\n",
    "num_agents = 200\n",
    "num_targets = 190 # aka friends\n",
    "target_index = list(range(0, num_targets))\n",
    "\n",
    "detection_radius =  1\n",
    "p_target = 0.5\n",
    "\n",
    "friend_radius =  2\n",
    "p_friend = 1.0\n",
    "\n",
    "# Intial size of 'box' targets\n",
    "# start in.\n",
    "target_boundary = (10, 10)\n",
    "\n",
    "# -\n",
    "min_length = 1\n",
    "step_size = 1\n",
    "\n",
    "# Create env \n",
    "env = CooperativeGrid(num_agents=num_agents)\n",
    "\n",
    "# Preds and preys\n",
    "scale = 2\n",
    "agents = [DiffusionGrid(scale=scale) for _ in range(num_agents)]\n",
    "\n",
    "# Intial target locations\n",
    "targets = uniform_targets(num_targets, target_boundary)\n",
    "values = constant_values(targets, 1.0)\n",
    "\n",
    "# Register target locations\n",
    "env.add_targets(\n",
    "    target_index, \n",
    "    targets, \n",
    "    values, \n",
    "    detection_radius=detection_radius,\n",
    "    friend_radius=friend_radius,\n",
    "    p_target=p_target,\n",
    "    p_friend=p_friend\n",
    ")\n",
    "\n",
    "# Run!\n",
    "comp_exp = multi_experiment(\n",
    "    f\"test_comp\",\n",
    "    agents, \n",
    "    env,\n",
    "    num_steps=num_steps,\n",
    "    num_experiments=num_experiments,\n",
    "    seed=404,\n",
    "    split_state=False,\n",
    "    dump=False\n",
    ")"
   ],
   "cell_type": "code",
   "metadata": {
    "tags": []
   },
   "execution_count": null,
   "outputs": []
  },
  {
   "cell_type": "code",
   "execution_count": 4,
   "metadata": {},
   "outputs": [
    {
     "output_type": "stream",
     "name": "stdout",
     "text": [
      ">>> Target index : [0, 1, 2, 3, 4, 5, 6, 7, 8, 9, 10, 11, 12, 13, 14, 15, 16, 17, 18, 19, 20, 21, 22, 23, 24, 25, 26, 27, 28, 29, 30, 31, 32, 33, 34, 35, 36, 37, 38, 39, 40, 41, 42, 43, 44, 45, 46, 47, 48, 49, 50, 51, 52, 53, 54, 55, 56, 57, 58, 59, 60, 61, 62, 63, 64, 65, 66, 67, 68, 69, 70, 71, 72, 73, 74, 75, 76, 77, 78, 79, 80, 81, 82, 83, 84, 85, 86, 87, 88, 89, 90, 91, 92, 93, 94, 95, 96, 97, 98, 99, 100, 101, 102, 103, 104, 105, 106, 107, 108, 109, 110, 111, 112, 113, 114, 115, 116, 117, 118, 119, 120, 121, 122, 123, 124, 125, 126, 127, 128, 129, 130, 131, 132, 133, 134, 135, 136, 137, 138, 139, 140, 141, 142, 143, 144, 145, 146, 147, 148, 149, 150, 151, 152, 153, 154, 155, 156, 157, 158, 159, 160, 161, 162, 163, 164, 165, 166, 167, 168, 169, 170, 171, 172, 173, 174, 175, 176, 177, 178, 179, 180, 181, 182, 183, 184, 185, 186, 187, 188, 189]\n"
     ]
    },
    {
     "output_type": "display_data",
     "data": {
      "text/plain": "<IPython.core.display.Javascript object>",
      "application/javascript": "\n            setTimeout(function() {\n                var nbb_cell_id = 4;\n                var nbb_unformatted_code = \"print(f\\\">>> Target index : {target_index}\\\")\";\n                var nbb_formatted_code = \"print(f\\\">>> Target index : {target_index}\\\")\";\n                var nbb_cells = Jupyter.notebook.get_cells();\n                for (var i = 0; i < nbb_cells.length; ++i) {\n                    if (nbb_cells[i].input_prompt_number == nbb_cell_id) {\n                        if (nbb_cells[i].get_text() == nbb_unformatted_code) {\n                             nbb_cells[i].set_text(nbb_formatted_code);\n                        }\n                        break;\n                    }\n                }\n            }, 500);\n            "
     },
     "metadata": {}
    }
   ],
   "source": [
    "print(f\">>> Target index : {target_index}\")"
   ]
  },
  {
   "cell_type": "code",
   "execution_count": 5,
   "metadata": {},
   "outputs": [
    {
     "output_type": "display_data",
     "data": {
      "text/plain": "<Figure size 216x216 with 1 Axes>",
      "image/png": "[encoded data removed]"
     },
     "metadata": {
      "image/png": {
       "width": 368,
       "height": 219
      }
     }
    },
    {
     "output_type": "display_data",
     "data": {
      "text/plain": "<IPython.core.display.Javascript object>",
      "application/javascript": "\n            setTimeout(function() {\n                var nbb_cell_id = 5;\n                var nbb_unformatted_code = \"num_experiment = 0\\nnum_agent = 0\\nplot_boundary = (50, 50)\\n\\n# Example bout\\nax = None\\nax = plot_positions2d(\\n    select_exp(comp_exp, num_experiment),\\n    num_agents,\\n    boundary=plot_boundary,\\n    # labels=[\\\"Prey 1\\\", \\\"Prey 2\\\", \\\"Pred\\\"],\\n    colors=None,\\n    alpha=0.3,\\n    figsize=(3, 3),\\n)\\nax = plot_targets2d(\\n    env,\\n    boundary=plot_boundary,\\n    color=\\\"black\\\",\\n    alpha=1,\\n    label=\\\"Targets\\\",\\n    ax=ax,\\n)\";\n                var nbb_formatted_code = \"num_experiment = 0\\nnum_agent = 0\\nplot_boundary = (50, 50)\\n\\n# Example bout\\nax = None\\nax = plot_positions2d(\\n    select_exp(comp_exp, num_experiment),\\n    num_agents,\\n    boundary=plot_boundary,\\n    # labels=[\\\"Prey 1\\\", \\\"Prey 2\\\", \\\"Pred\\\"],\\n    colors=None,\\n    alpha=0.3,\\n    figsize=(3, 3),\\n)\\nax = plot_targets2d(\\n    env,\\n    boundary=plot_boundary,\\n    color=\\\"black\\\",\\n    alpha=1,\\n    label=\\\"Targets\\\",\\n    ax=ax,\\n)\";\n                var nbb_cells = Jupyter.notebook.get_cells();\n                for (var i = 0; i < nbb_cells.length; ++i) {\n                    if (nbb_cells[i].input_prompt_number == nbb_cell_id) {\n                        if (nbb_cells[i].get_text() == nbb_unformatted_code) {\n                             nbb_cells[i].set_text(nbb_formatted_code);\n                        }\n                        break;\n                    }\n                }\n            }, 500);\n            "
     },
     "metadata": {}
    }
   ],
   "source": [
    "num_experiment = 0\n",
    "num_agent = 0\n",
    "plot_boundary = (50, 50)\n",
    "\n",
    "# Example bout\n",
    "ax = None\n",
    "ax = plot_positions2d(\n",
    "    select_exp(comp_exp, num_experiment),\n",
    "    num_agents,\n",
    "    boundary=plot_boundary,\n",
    "    # labels=[\"Prey 1\", \"Prey 2\", \"Pred\"],\n",
    "    colors=None,\n",
    "    alpha=0.3,\n",
    "    figsize=(3, 3),\n",
    ")\n",
    "ax = plot_targets2d(\n",
    "    env,\n",
    "    boundary=plot_boundary,\n",
    "    color=\"black\",\n",
    "    alpha=1,\n",
    "    label=\"Targets\",\n",
    "    ax=ax,\n",
    ")"
   ]
  },
  {
   "cell_type": "code",
   "execution_count": 6,
   "metadata": {},
   "outputs": [
    {
     "output_type": "stream",
     "name": "stderr",
     "text": [
      "total_reward: 100%|██████████| 1/1 [00:00<00:00, 161.01it/s]\n"
     ]
    },
    {
     "output_type": "execute_result",
     "data": {
      "text/plain": [
       "[368.0]"
      ]
     },
     "metadata": {},
     "execution_count": 6
    },
    {
     "output_type": "display_data",
     "data": {
      "text/plain": "<IPython.core.display.Javascript object>",
      "application/javascript": "\n            setTimeout(function() {\n                var nbb_cell_id = 6;\n                var nbb_unformatted_code = \"total_reward(comp_exp)\";\n                var nbb_formatted_code = \"total_reward(comp_exp)\";\n                var nbb_cells = Jupyter.notebook.get_cells();\n                for (var i = 0; i < nbb_cells.length; ++i) {\n                    if (nbb_cells[i].input_prompt_number == nbb_cell_id) {\n                        if (nbb_cells[i].get_text() == nbb_unformatted_code) {\n                             nbb_cells[i].set_text(nbb_formatted_code);\n                        }\n                        break;\n                    }\n                }\n            }, 500);\n            "
     },
     "metadata": {}
    }
   ],
   "source": [
    "total_reward(comp_exp)"
   ]
  },
  {
   "cell_type": "code",
   "execution_count": 7,
   "metadata": {},
   "outputs": [
    {
     "output_type": "execute_result",
     "data": {
      "text/plain": [
       "[0,\n",
       " 1,\n",
       " 2,\n",
       " 3,\n",
       " 4,\n",
       " 5,\n",
       " 6,\n",
       " 7,\n",
       " 9,\n",
       " 10,\n",
       " 11,\n",
       " 12,\n",
       " 14,\n",
       " 16,\n",
       " 17,\n",
       " 18,\n",
       " 19,\n",
       " 20,\n",
       " 21,\n",
       " 22,\n",
       " 23,\n",
       " 24,\n",
       " 25,\n",
       " 26,\n",
       " 27,\n",
       " 28,\n",
       " 29,\n",
       " 30,\n",
       " 31,\n",
       " 32,\n",
       " 33,\n",
       " 35,\n",
       " 36,\n",
       " 37,\n",
       " 39,\n",
       " 40,\n",
       " 41,\n",
       " 42,\n",
       " 43,\n",
       " 44,\n",
       " 45,\n",
       " 47,\n",
       " 48,\n",
       " 49,\n",
       " 50,\n",
       " 51,\n",
       " 52,\n",
       " 53,\n",
       " 54,\n",
       " 55,\n",
       " 56,\n",
       " 58,\n",
       " 59,\n",
       " 60,\n",
       " 61,\n",
       " 62,\n",
       " 63,\n",
       " 64,\n",
       " 65,\n",
       " 66,\n",
       " 67,\n",
       " 68,\n",
       " 69,\n",
       " 70,\n",
       " 71,\n",
       " 72,\n",
       " 73,\n",
       " 74,\n",
       " 75,\n",
       " 76,\n",
       " 77,\n",
       " 78,\n",
       " 79,\n",
       " 80,\n",
       " 81,\n",
       " 82,\n",
       " 83,\n",
       " 84,\n",
       " 85,\n",
       " 86,\n",
       " 87,\n",
       " 88,\n",
       " 89,\n",
       " 90,\n",
       " 91,\n",
       " 92,\n",
       " 93,\n",
       " 94,\n",
       " 95,\n",
       " 96,\n",
       " 97,\n",
       " 98,\n",
       " 99,\n",
       " 100,\n",
       " 101,\n",
       " 102,\n",
       " 103,\n",
       " 104,\n",
       " 105,\n",
       " 106,\n",
       " 107,\n",
       " 108,\n",
       " 109,\n",
       " 110,\n",
       " 111,\n",
       " 112,\n",
       " 113,\n",
       " 115,\n",
       " 116,\n",
       " 117,\n",
       " 119,\n",
       " 120,\n",
       " 121,\n",
       " 122,\n",
       " 123,\n",
       " 124,\n",
       " 126,\n",
       " 127,\n",
       " 128,\n",
       " 129,\n",
       " 130,\n",
       " 131,\n",
       " 132,\n",
       " 133,\n",
       " 134,\n",
       " 135,\n",
       " 136,\n",
       " 137,\n",
       " 138,\n",
       " 139,\n",
       " 140,\n",
       " 141,\n",
       " 142,\n",
       " 143,\n",
       " 145,\n",
       " 146,\n",
       " 147,\n",
       " 148,\n",
       " 149,\n",
       " 150,\n",
       " 151,\n",
       " 152,\n",
       " 153,\n",
       " 154,\n",
       " 155,\n",
       " 156,\n",
       " 157,\n",
       " 158,\n",
       " 160,\n",
       " 161,\n",
       " 162,\n",
       " 164,\n",
       " 165,\n",
       " 167,\n",
       " 168,\n",
       " 169,\n",
       " 170,\n",
       " 172,\n",
       " 173,\n",
       " 174,\n",
       " 175,\n",
       " 176,\n",
       " 177,\n",
       " 178,\n",
       " 179,\n",
       " 180,\n",
       " 182,\n",
       " 183,\n",
       " 185,\n",
       " 187,\n",
       " 188,\n",
       " 189]"
      ]
     },
     "metadata": {},
     "execution_count": 7
    },
    {
     "output_type": "display_data",
     "data": {
      "text/plain": "<IPython.core.display.Javascript object>",
      "application/javascript": "\n            setTimeout(function() {\n                var nbb_cell_id = 7;\n                var nbb_unformatted_code = \"sorted(env.dead)\";\n                var nbb_formatted_code = \"sorted(env.dead)\";\n                var nbb_cells = Jupyter.notebook.get_cells();\n                for (var i = 0; i < nbb_cells.length; ++i) {\n                    if (nbb_cells[i].input_prompt_number == nbb_cell_id) {\n                        if (nbb_cells[i].get_text() == nbb_unformatted_code) {\n                             nbb_cells[i].set_text(nbb_formatted_code);\n                        }\n                        break;\n                    }\n                }\n            }, 500);\n            "
     },
     "metadata": {}
    }
   ],
   "source": [
    "sorted(env.dead)"
   ]
  },
  {
   "source": [
    "Print all friend events/pairs. (This is not the same as final team sizes as teams can have more than two member; parse common prefixs to get teams)"
   ],
   "cell_type": "markdown",
   "metadata": {}
  },
  {
   "cell_type": "code",
   "execution_count": 8,
   "metadata": {},
   "outputs": [
    {
     "output_type": "execute_result",
     "data": {
      "text/plain": [
       "[(0, 26),\n",
       " (1, 48),\n",
       " (2, 161),\n",
       " (4, 119),\n",
       " (5, 61),\n",
       " (5, 100),\n",
       " (5, 169),\n",
       " (7, 21),\n",
       " (7, 73),\n",
       " (8, 30),\n",
       " (8, 67),\n",
       " (8, 96),\n",
       " (8, 142),\n",
       " (8, 143),\n",
       " (10, 23),\n",
       " (12, 136),\n",
       " (13, 53),\n",
       " (13, 62),\n",
       " (13, 108),\n",
       " (14, 141),\n",
       " (15, 109),\n",
       " (16, 110),\n",
       " (17, 1),\n",
       " (17, 94),\n",
       " (17, 106),\n",
       " (17, 177),\n",
       " (18, 126),\n",
       " (18, 168),\n",
       " (18, 188),\n",
       " (19, 135),\n",
       " (20, 99),\n",
       " (24, 157),\n",
       " (27, 36),\n",
       " (29, 145),\n",
       " (30, 158),\n",
       " (32, 50),\n",
       " (32, 74),\n",
       " (32, 102),\n",
       " (34, 17),\n",
       " (37, 4),\n",
       " (38, 24),\n",
       " (43, 10),\n",
       " (44, 9),\n",
       " (46, 3),\n",
       " (46, 71),\n",
       " (46, 86),\n",
       " (46, 131),\n",
       " (46, 167),\n",
       " (46, 180),\n",
       " (47, 112),\n",
       " (52, 111),\n",
       " (53, 25),\n",
       " (53, 151),\n",
       " (54, 79),\n",
       " (56, 35),\n",
       " (56, 44),\n",
       " (56, 98),\n",
       " (56, 134),\n",
       " (57, 117),\n",
       " (58, 164),\n",
       " (59, 42),\n",
       " (59, 149),\n",
       " (60, 45),\n",
       " (60, 172),\n",
       " (63, 104),\n",
       " (66, 155),\n",
       " (67, 123),\n",
       " (68, 54),\n",
       " (68, 80),\n",
       " (71, 55),\n",
       " (72, 91),\n",
       " (74, 87),\n",
       " (74, 133),\n",
       " (74, 173),\n",
       " (75, 113),\n",
       " (77, 101),\n",
       " (78, 89),\n",
       " (81, 90),\n",
       " (81, 92),\n",
       " (81, 187),\n",
       " (82, 29),\n",
       " (84, 138),\n",
       " (85, 75),\n",
       " (85, 107),\n",
       " (85, 160),\n",
       " (87, 178),\n",
       " (88, 83),\n",
       " (88, 152),\n",
       " (88, 176),\n",
       " (90, 154),\n",
       " (92, 39),\n",
       " (93, 175),\n",
       " (94, 129),\n",
       " (95, 76),\n",
       " (101, 41),\n",
       " (103, 97),\n",
       " (104, 147),\n",
       " (105, 0),\n",
       " (107, 31),\n",
       " (107, 84),\n",
       " (114, 27),\n",
       " (114, 156),\n",
       " (115, 105),\n",
       " (116, 56),\n",
       " (116, 115),\n",
       " (116, 183),\n",
       " (118, 18),\n",
       " (118, 37),\n",
       " (118, 140),\n",
       " (118, 148),\n",
       " (120, 59),\n",
       " (120, 64),\n",
       " (121, 11),\n",
       " (122, 58),\n",
       " (123, 150),\n",
       " (125, 5),\n",
       " (125, 51),\n",
       " (125, 189),\n",
       " (127, 22),\n",
       " (127, 60),\n",
       " (127, 165),\n",
       " (128, 14),\n",
       " (128, 69),\n",
       " (129, 6),\n",
       " (131, 33),\n",
       " (132, 82),\n",
       " (134, 103),\n",
       " (137, 19),\n",
       " (139, 153),\n",
       " (140, 146),\n",
       " (143, 70),\n",
       " (143, 95),\n",
       " (143, 182),\n",
       " (144, 65),\n",
       " (146, 20),\n",
       " (148, 122),\n",
       " (148, 170),\n",
       " (152, 40),\n",
       " (158, 121),\n",
       " (159, 12),\n",
       " (159, 68),\n",
       " (159, 127),\n",
       " (162, 77),\n",
       " (163, 43),\n",
       " (166, 120),\n",
       " (167, 49),\n",
       " (167, 132),\n",
       " (168, 130),\n",
       " (173, 78),\n",
       " (176, 137),\n",
       " (180, 16),\n",
       " (180, 124),\n",
       " (180, 174),\n",
       " (182, 47),\n",
       " (184, 93),\n",
       " (184, 128),\n",
       " (184, 139),\n",
       " (185, 72),\n",
       " (185, 88),\n",
       " (186, 52),\n",
       " (186, 85),\n",
       " (186, 116)]"
      ]
     },
     "metadata": {},
     "execution_count": 8
    },
    {
     "output_type": "display_data",
     "data": {
      "text/plain": "<IPython.core.display.Javascript object>",
      "application/javascript": "\n            setTimeout(function() {\n                var nbb_cell_id = 8;\n                var nbb_unformatted_code = \"sorted(env.friends)\";\n                var nbb_formatted_code = \"sorted(env.friends)\";\n                var nbb_cells = Jupyter.notebook.get_cells();\n                for (var i = 0; i < nbb_cells.length; ++i) {\n                    if (nbb_cells[i].input_prompt_number == nbb_cell_id) {\n                        if (nbb_cells[i].get_text() == nbb_unformatted_code) {\n                             nbb_cells[i].set_text(nbb_formatted_code);\n                        }\n                        break;\n                    }\n                }\n            }, 500);\n            "
     },
     "metadata": {}
    }
   ],
   "source": [
    "sorted(env.friends)"
   ]
  },
  {
   "source": [
    "Any values > 0 at the end are from surviving teams"
   ],
   "cell_type": "markdown",
   "metadata": {}
  },
  {
   "cell_type": "code",
   "execution_count": 62,
   "metadata": {},
   "outputs": [
    {
     "output_type": "execute_result",
     "data": {
      "text/plain": [
       "array([ 0.,  0.,  0.,  0.,  1.,  0.,  0.,  0.,  0.,  0.,  0.,  0.,  0.,\n",
       "        0.,  0.,  6.,  0.,  0.,  0.,  0.,  0.,  4.,  0.,  1.,  0.,  0.,\n",
       "        0.,  0.,  0.,  0.,  0.,  0.,  0.,  0.,  0.,  0.,  0.,  1.,  0.,\n",
       "        0.,  0.,  0., 16.,  9.,  0.,  0.,  0., 16.,  0.,  0.,  3.,  0.,\n",
       "        0.,  0.,  0., 10.,  0.,  0.,  0.,  0.,  0.,  0., 10.,  9., 17.,\n",
       "       20.,  0.,  0.,  0.,  0.,  9.,  0.,  0.,  0.,  0.,  0.,  0.,  6.,\n",
       "        0.,  0.,  0.,  0.,  0.,  0.,  0.,  0.,  0.,  0.,  0.,  0.,  0.,\n",
       "        0.,  0.,  0.,  0.,  0.,  0.,  0.,  0.,  0.,  0.,  0.,  0.,  0.,\n",
       "        0.,  0.,  0.,  0.,  0.,  2.,  0.,  0.,  0.,  3.,  0.,  0.,  2.,\n",
       "        0.,  0.,  0.,  0.,  0.,  0.,  0.,  0.,  3.,  0.,  0.,  0.,  0.,\n",
       "        0.,  0.,  0.,  0.,  0.,  0.,  0.,  0.,  0.,  0.,  0.,  0.,  0.,\n",
       "        0.,  0., 10., 20.,  0.,  0.,  0.,  0.,  0.,  8.,  0.,  0.,  0.,\n",
       "        0.,  0.,  0.,  0.,  0.,  0.,  0.,  0.,  0.,  0.,  0.,  0.,  0.,\n",
       "        0.,  0.,  0.,  0.,  0.,  0.,  1.,  0.,  0.,  0.,  0.,  0.,  0.,\n",
       "        3.,  0.,  0.,  0.,  0.,  0.,  0.,  0.])"
      ]
     },
     "metadata": {},
     "execution_count": 62
    },
    {
     "output_type": "display_data",
     "data": {
      "text/plain": "<IPython.core.display.Javascript object>",
      "application/javascript": "\n            setTimeout(function() {\n                var nbb_cell_id = 62;\n                var nbb_unformatted_code = \"env.values\";\n                var nbb_formatted_code = \"env.values\";\n                var nbb_cells = Jupyter.notebook.get_cells();\n                for (var i = 0; i < nbb_cells.length; ++i) {\n                    if (nbb_cells[i].input_prompt_number == nbb_cell_id) {\n                        if (nbb_cells[i].get_text() == nbb_unformatted_code) {\n                             nbb_cells[i].set_text(nbb_formatted_code);\n                        }\n                        break;\n                    }\n                }\n            }, 500);\n            "
     },
     "metadata": {}
    }
   ],
   "source": [
    "env.values"
   ]
  },
  {
   "cell_type": "code",
   "execution_count": null,
   "metadata": {},
   "outputs": [],
   "source": []
  },
  {
   "cell_type": "code",
   "execution_count": null,
   "metadata": {},
   "outputs": [],
   "source": []
  }
 ]
}