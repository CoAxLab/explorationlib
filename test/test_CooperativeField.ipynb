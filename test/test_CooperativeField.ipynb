{
 "metadata": {
  "language_info": {
   "codemirror_mode": {
    "name": "ipython",
    "version": 3
   },
   "file_extension": ".py",
   "mimetype": "text/x-python",
   "name": "python",
   "nbconvert_exporter": "python",
   "pygments_lexer": "ipython3",
   "version": "3.6.7-final"
  },
  "orig_nbformat": 2,
  "kernelspec": {
   "name": "python3",
   "display_name": "Python 3",
   "language": "python"
  }
 },
 "nbformat": 4,
 "nbformat_minor": 2,
 "cells": [
  {
   "source": [
    "# Test - moving targets - CooperativeField\n",
    "Predators hunting prey, who can team up to present a smaller target at the cost of greater visibility."
   ],
   "cell_type": "markdown",
   "metadata": {}
  },
  {
   "cell_type": "code",
   "execution_count": 4,
   "metadata": {},
   "outputs": [
    {
     "output_type": "display_data",
     "data": {
      "text/plain": "<IPython.core.display.Javascript object>",
      "application/javascript": "\n            setTimeout(function() {\n                var nbb_cell_id = 4;\n                var nbb_unformatted_code = \"import shutil\\nimport glob\\nimport os\\n\\nimport numpy as np\\nimport pandas as pd\\nimport seaborn as sns\\nimport matplotlib.pyplot as plt\\n\\nimport explorationlib\\nfrom explorationlib.agent import Diffusion2d\\nfrom explorationlib.agent import DiffusionDiscrete\\nfrom explorationlib.agent import DiffusionGrid\\n\\nfrom explorationlib.local_gym import uniform_targets\\nfrom explorationlib.local_gym import constant_values\\nfrom explorationlib.local_gym import CooperativeGrid\\n\\nfrom explorationlib.run import multi_experiment\\nfrom explorationlib.util import select_exp\\nfrom explorationlib.util import select_agent\\nfrom explorationlib.util import load\\nfrom explorationlib.util import save\\n\\nfrom explorationlib.plot import plot_position2d\\nfrom explorationlib.plot import plot_positions2d\\nfrom explorationlib.plot import plot_length_hist\\nfrom explorationlib.plot import plot_length\\nfrom explorationlib.plot import plot_targets2d\\nfrom explorationlib.plot import show_gif\\n\\nfrom explorationlib import score\\nfrom explorationlib.score import search_efficiency\\nfrom explorationlib.score import first_reward\\nfrom explorationlib.score import total_reward\";\n                var nbb_formatted_code = \"import shutil\\nimport glob\\nimport os\\n\\nimport numpy as np\\nimport pandas as pd\\nimport seaborn as sns\\nimport matplotlib.pyplot as plt\\n\\nimport explorationlib\\nfrom explorationlib.agent import Diffusion2d\\nfrom explorationlib.agent import DiffusionDiscrete\\nfrom explorationlib.agent import DiffusionGrid\\n\\nfrom explorationlib.local_gym import uniform_targets\\nfrom explorationlib.local_gym import constant_values\\nfrom explorationlib.local_gym import CooperativeGrid\\n\\nfrom explorationlib.run import multi_experiment\\nfrom explorationlib.util import select_exp\\nfrom explorationlib.util import select_agent\\nfrom explorationlib.util import load\\nfrom explorationlib.util import save\\n\\nfrom explorationlib.plot import plot_position2d\\nfrom explorationlib.plot import plot_positions2d\\nfrom explorationlib.plot import plot_length_hist\\nfrom explorationlib.plot import plot_length\\nfrom explorationlib.plot import plot_targets2d\\nfrom explorationlib.plot import show_gif\\n\\nfrom explorationlib import score\\nfrom explorationlib.score import search_efficiency\\nfrom explorationlib.score import first_reward\\nfrom explorationlib.score import total_reward\";\n                var nbb_cells = Jupyter.notebook.get_cells();\n                for (var i = 0; i < nbb_cells.length; ++i) {\n                    if (nbb_cells[i].input_prompt_number == nbb_cell_id) {\n                        if (nbb_cells[i].get_text() == nbb_unformatted_code) {\n                             nbb_cells[i].set_text(nbb_formatted_code);\n                        }\n                        break;\n                    }\n                }\n            }, 500);\n            "
     },
     "metadata": {}
    }
   ],
   "source": [
    "import shutil\n",
    "import glob\n",
    "import os\n",
    "\n",
    "import numpy as np\n",
    "import pandas as pd\n",
    "import seaborn as sns\n",
    "import matplotlib.pyplot as plt\n",
    "\n",
    "import explorationlib\n",
    "from explorationlib.agent import Diffusion2d\n",
    "from explorationlib.agent import DiffusionDiscrete\n",
    "from explorationlib.agent import DiffusionGrid\n",
    "\n",
    "from explorationlib.local_gym import uniform_targets\n",
    "from explorationlib.local_gym import constant_values\n",
    "from explorationlib.local_gym import CooperativeGrid\n",
    "\n",
    "from explorationlib.run import multi_experiment\n",
    "from explorationlib.util import select_exp\n",
    "from explorationlib.util import select_agent\n",
    "from explorationlib.util import load\n",
    "from explorationlib.util import save\n",
    "\n",
    "from explorationlib.plot import plot_position2d\n",
    "from explorationlib.plot import plot_positions2d\n",
    "from explorationlib.plot import plot_length_hist\n",
    "from explorationlib.plot import plot_length\n",
    "from explorationlib.plot import plot_targets2d\n",
    "from explorationlib.plot import show_gif\n",
    "\n",
    "from explorationlib import score\n",
    "from explorationlib.score import search_efficiency\n",
    "from explorationlib.score import first_reward\n",
    "from explorationlib.score import total_reward"
   ]
  },
  {
   "cell_type": "code",
   "execution_count": 5,
   "metadata": {},
   "outputs": [
    {
     "output_type": "stream",
     "name": "stdout",
     "text": [
      "The nb_black extension is already loaded. To reload it, use:\n  %reload_ext nb_black\nThe autoreload extension is already loaded. To reload it, use:\n  %reload_ext autoreload\n"
     ]
    },
    {
     "output_type": "display_data",
     "data": {
      "text/plain": "<IPython.core.display.Javascript object>",
      "application/javascript": "\n            setTimeout(function() {\n                var nbb_cell_id = 5;\n                var nbb_unformatted_code = \"# Pretty plots\\n%matplotlib inline\\n%config InlineBackend.figure_format='retina'\\n%config IPCompleter.greedy=True\\n\\nplt.rcParams[\\\"axes.facecolor\\\"] = \\\"white\\\"\\nplt.rcParams[\\\"figure.facecolor\\\"] = \\\"white\\\"\\nplt.rcParams[\\\"font.size\\\"] = \\\"16\\\"\\n\\n# Uncomment for local development\\n%load_ext nb_black\\n%load_ext autoreload\\n%autoreload 2\";\n                var nbb_formatted_code = \"# Pretty plots\\n%matplotlib inline\\n%config InlineBackend.figure_format='retina'\\n%config IPCompleter.greedy=True\\n\\nplt.rcParams[\\\"axes.facecolor\\\"] = \\\"white\\\"\\nplt.rcParams[\\\"figure.facecolor\\\"] = \\\"white\\\"\\nplt.rcParams[\\\"font.size\\\"] = \\\"16\\\"\\n\\n# Uncomment for local development\\n%load_ext nb_black\\n%load_ext autoreload\\n%autoreload 2\";\n                var nbb_cells = Jupyter.notebook.get_cells();\n                for (var i = 0; i < nbb_cells.length; ++i) {\n                    if (nbb_cells[i].input_prompt_number == nbb_cell_id) {\n                        if (nbb_cells[i].get_text() == nbb_unformatted_code) {\n                             nbb_cells[i].set_text(nbb_formatted_code);\n                        }\n                        break;\n                    }\n                }\n            }, 500);\n            "
     },
     "metadata": {}
    }
   ],
   "source": [
    "# Pretty plots\n",
    "%matplotlib inline\n",
    "%config InlineBackend.figure_format='retina'\n",
    "%config IPCompleter.greedy=True\n",
    "\n",
    "plt.rcParams[\"axes.facecolor\"] = \"white\"\n",
    "plt.rcParams[\"figure.facecolor\"] = \"white\"\n",
    "plt.rcParams[\"font.size\"] = \"16\"\n",
    "\n",
    "# Uncomment for local development\n",
    "%load_ext nb_black\n",
    "%load_ext autoreload\n",
    "%autoreload 2"
   ]
  },
  {
   "source": [
    "# 10 pred, 190 preys"
   ],
   "cell_type": "markdown",
   "metadata": {}
  },
  {
   "source": [
    "# How long to run? Longer is better, but slower.\n",
    "num_steps = 20\n",
    "num_experiments = 10\n",
    "\n",
    "num_agents = 200\n",
    "num_targets = 190 # aka friends\n",
    "target_index = list(range(0, num_targets))\n",
    "\n",
    "detection_radius =  1\n",
    "p_target = 0.5\n",
    "\n",
    "friend_radius =  2\n",
    "p_friend = 1.0\n",
    "\n",
    "# Intial size of 'box' targets\n",
    "# start in.\n",
    "target_boundary = (10, 10)\n",
    "min_length = 1\n",
    "step_size = 1\n",
    "\n",
    "# Create env \n",
    "env = CooperativeGrid(num_agents=num_agents)\n",
    "\n",
    "# Preds and preys\n",
    "scale = 2\n",
    "agents = [DiffusionGrid(scale=scale) for _ in range(num_agents)]\n",
    "\n",
    "# Intial target locations\n",
    "targets = uniform_targets(num_targets, target_boundary)\n",
    "values = constant_values(targets, 1.0)\n",
    "\n",
    "# Register target locations\n",
    "env.add_targets(\n",
    "    target_index, \n",
    "    targets, \n",
    "    values, \n",
    "    detection_radius=detection_radius,\n",
    "    friend_radius=friend_radius,\n",
    "    p_target=p_target,\n",
    "    p_friend=p_friend\n",
    ")\n",
    "\n",
    "# Run!\n",
    "comp_exp = multi_experiment(\n",
    "    f\"test_comp\",\n",
    "    agents, \n",
    "    env,\n",
    "    num_steps=num_steps,\n",
    "    num_experiments=num_experiments,\n",
    "    seed=404,\n",
    "    split_state=False,\n",
    "    dump=False\n",
    ")"
   ],
   "cell_type": "code",
   "metadata": {
    "tags": []
   },
   "execution_count": 6,
   "outputs": [
    {
     "output_type": "stream",
     "name": "stderr",
     "text": [
      "test_comp:   0%|          | 0/4 [00:00<?, ?it/s]---------------\n",
      "[1. 1. 1. 1. 1. 1. 1. 1. 1. 1. 1. 1. 1. 1. 1. 1. 1. 1. 1. 1. 1. 1. 1. 1.\n",
      " 1. 1. 1. 1. 1. 1. 1. 1. 1. 1. 1. 1. 1. 1. 1. 1. 1. 1. 1. 1. 1. 1. 1. 1.\n",
      " 1. 1. 1. 1. 1. 1. 1. 1. 1. 1. 1. 1. 1. 1. 1. 1. 1. 1. 1. 1. 1. 1. 1. 1.\n",
      " 1. 1. 1. 1. 1. 1. 1. 1. 1. 1. 1. 1. 1. 1. 1. 1. 1. 1. 1. 1. 1. 1. 1. 1.\n",
      " 1. 1. 1. 1. 1. 1. 1. 1. 1. 1. 1. 1. 1. 1. 1. 1. 1. 1. 1. 1. 1. 1. 1. 1.\n",
      " 1. 1. 1. 1. 1. 1. 1. 1. 1. 1. 1. 1. 1. 1. 1. 1. 1. 1. 1. 1. 1. 1. 1. 1.\n",
      " 1. 1. 1. 1. 1. 1. 1. 1. 1. 1. 1. 1. 1. 1. 1. 1. 1. 1. 1. 1. 1. 1. 1. 1.\n",
      " 1. 1. 1. 1. 1. 1. 1. 1. 1. 1. 1. 1. 1. 1. 1. 1. 1. 1. 1. 1. 1. 1.]\n",
      "---------------\n",
      "test_comp:  25%|██▌       | 1/4 [00:02<00:08,  2.88s/it]---------------\n",
      "[1. 1. 1. 1. 1. 1. 1. 1. 1. 1. 1. 1. 1. 1. 1. 1. 1. 1. 1. 1. 1. 1. 1. 1.\n",
      " 1. 1. 1. 1. 1. 1. 1. 1. 1. 1. 1. 1. 1. 1. 1. 1. 1. 1. 1. 1. 1. 1. 1. 1.\n",
      " 1. 1. 1. 1. 1. 1. 1. 1. 1. 1. 1. 1. 1. 1. 1. 1. 1. 1. 1. 1. 1. 1. 1. 1.\n",
      " 1. 1. 1. 1. 1. 1. 1. 1. 1. 1. 1. 1. 1. 1. 1. 1. 1. 1. 1. 1. 1. 1. 1. 1.\n",
      " 1. 1. 1. 1. 1. 1. 1. 1. 1. 1. 1. 1. 1. 1. 1. 1. 1. 1. 1. 1. 1. 1. 1. 1.\n",
      " 1. 1. 1. 1. 1. 1. 1. 1. 1. 1. 1. 1. 1. 1. 1. 1. 1. 1. 1. 1. 1. 1. 1. 1.\n",
      " 1. 1. 1. 1. 1. 1. 1. 1. 1. 1. 1. 1. 1. 1. 1. 1. 1. 1. 1. 1. 1. 1. 1. 1.\n",
      " 1. 1. 1. 1. 1. 1. 1. 1. 1. 1. 1. 1. 1. 1. 1. 1. 1. 1. 1. 1. 1. 1.]\n",
      "---------------\n",
      "test_comp:  50%|█████     | 2/4 [00:04<00:05,  2.63s/it]---------------\n",
      "[1. 1. 1. 1. 1. 1. 1. 1. 1. 1. 1. 1. 1. 1. 1. 1. 1. 1. 1. 1. 1. 1. 1. 1.\n",
      " 1. 1. 1. 1. 1. 1. 1. 1. 1. 1. 1. 1. 1. 1. 1. 1. 1. 1. 1. 1. 1. 1. 1. 1.\n",
      " 1. 1. 1. 1. 1. 1. 1. 1. 1. 1. 1. 1. 1. 1. 1. 1. 1. 1. 1. 1. 1. 1. 1. 1.\n",
      " 1. 1. 1. 1. 1. 1. 1. 1. 1. 1. 1. 1. 1. 1. 1. 1. 1. 1. 1. 1. 1. 1. 1. 1.\n",
      " 1. 1. 1. 1. 1. 1. 1. 1. 1. 1. 1. 1. 1. 1. 1. 1. 1. 1. 1. 1. 1. 1. 1. 1.\n",
      " 1. 1. 1. 1. 1. 1. 1. 1. 1. 1. 1. 1. 1. 1. 1. 1. 1. 1. 1. 1. 1. 1. 1. 1.\n",
      " 1. 1. 1. 1. 1. 1. 1. 1. 1. 1. 1. 1. 1. 1. 1. 1. 1. 1. 1. 1. 1. 1. 1. 1.\n",
      " 1. 1. 1. 1. 1. 1. 1. 1. 1. 1. 1. 1. 1. 1. 1. 1. 1. 1. 1. 1. 1. 1.]\n",
      "---------------\n",
      "test_comp:  75%|███████▌  | 3/4 [00:07<00:02,  2.48s/it]---------------\n",
      "[1. 1. 1. 1. 1. 1. 1. 1. 1. 1. 1. 1. 1. 1. 1. 1. 1. 1. 1. 1. 1. 1. 1. 1.\n",
      " 1. 1. 1. 1. 1. 1. 1. 1. 1. 1. 1. 1. 1. 1. 1. 1. 1. 1. 1. 1. 1. 1. 1. 1.\n",
      " 1. 1. 1. 1. 1. 1. 1. 1. 1. 1. 1. 1. 1. 1. 1. 1. 1. 1. 1. 1. 1. 1. 1. 1.\n",
      " 1. 1. 1. 1. 1. 1. 1. 1. 1. 1. 1. 1. 1. 1. 1. 1. 1. 1. 1. 1. 1. 1. 1. 1.\n",
      " 1. 1. 1. 1. 1. 1. 1. 1. 1. 1. 1. 1. 1. 1. 1. 1. 1. 1. 1. 1. 1. 1. 1. 1.\n",
      " 1. 1. 1. 1. 1. 1. 1. 1. 1. 1. 1. 1. 1. 1. 1. 1. 1. 1. 1. 1. 1. 1. 1. 1.\n",
      " 1. 1. 1. 1. 1. 1. 1. 1. 1. 1. 1. 1. 1. 1. 1. 1. 1. 1. 1. 1. 1. 1. 1. 1.\n",
      " 1. 1. 1. 1. 1. 1. 1. 1. 1. 1. 1. 1. 1. 1. 1. 1. 1. 1. 1. 1. 1. 1.]\n",
      "---------------\n",
      "test_comp: 100%|██████████| 4/4 [00:09<00:00,  2.33s/it]\n"
     ]
    },
    {
     "output_type": "display_data",
     "data": {
      "text/plain": "<IPython.core.display.Javascript object>",
      "application/javascript": "\n            setTimeout(function() {\n                var nbb_cell_id = 6;\n                var nbb_unformatted_code = \"# How long to run? Longer is better, but slower.\\nnum_steps = 20\\nnum_experiments = 4\\n\\nnum_agents = 200\\nnum_targets = 190 # aka friends\\ntarget_index = list(range(0, num_targets))\\n\\ndetection_radius =  1\\np_target = 0.5\\n\\nfriend_radius =  2\\np_friend = 1.0\\n\\n# Intial size of 'box' targets\\n# start in.\\ntarget_boundary = (10, 10)\\nmin_length = 1\\nstep_size = 1\\n\\n# Create env \\nenv = CooperativeGrid(num_agents=num_agents)\\n\\n# Preds and preys\\nscale = 2\\nagents = [DiffusionGrid(scale=scale) for _ in range(num_agents)]\\n\\n# Intial target locations\\ntargets = uniform_targets(num_targets, target_boundary)\\nvalues = constant_values(targets, 1.0)\\n\\n# Register target locations\\nenv.add_targets(\\n    target_index, \\n    targets, \\n    values, \\n    detection_radius=detection_radius,\\n    friend_radius=friend_radius,\\n    p_target=p_target,\\n    p_friend=p_friend\\n)\\n\\n# Run!\\ncomp_exp = multi_experiment(\\n    f\\\"test_comp\\\",\\n    agents, \\n    env,\\n    num_steps=num_steps,\\n    num_experiments=num_experiments,\\n    seed=404,\\n    split_state=False,\\n    dump=False\\n)\";\n                var nbb_formatted_code = \"# How long to run? Longer is better, but slower.\\nnum_steps = 20\\nnum_experiments = 4\\n\\nnum_agents = 200\\nnum_targets = 190  # aka friends\\ntarget_index = list(range(0, num_targets))\\n\\ndetection_radius = 1\\np_target = 0.5\\n\\nfriend_radius = 2\\np_friend = 1.0\\n\\n# Intial size of 'box' targets\\n# start in.\\ntarget_boundary = (10, 10)\\nmin_length = 1\\nstep_size = 1\\n\\n# Create env\\nenv = CooperativeGrid(num_agents=num_agents)\\n\\n# Preds and preys\\nscale = 2\\nagents = [DiffusionGrid(scale=scale) for _ in range(num_agents)]\\n\\n# Intial target locations\\ntargets = uniform_targets(num_targets, target_boundary)\\nvalues = constant_values(targets, 1.0)\\n\\n# Register target locations\\nenv.add_targets(\\n    target_index,\\n    targets,\\n    values,\\n    detection_radius=detection_radius,\\n    friend_radius=friend_radius,\\n    p_target=p_target,\\n    p_friend=p_friend,\\n)\\n\\n# Run!\\ncomp_exp = multi_experiment(\\n    f\\\"test_comp\\\",\\n    agents,\\n    env,\\n    num_steps=num_steps,\\n    num_experiments=num_experiments,\\n    seed=404,\\n    split_state=False,\\n    dump=False,\\n)\";\n                var nbb_cells = Jupyter.notebook.get_cells();\n                for (var i = 0; i < nbb_cells.length; ++i) {\n                    if (nbb_cells[i].input_prompt_number == nbb_cell_id) {\n                        if (nbb_cells[i].get_text() == nbb_unformatted_code) {\n                             nbb_cells[i].set_text(nbb_formatted_code);\n                        }\n                        break;\n                    }\n                }\n            }, 500);\n            "
     },
     "metadata": {}
    }
   ]
  },
  {
   "cell_type": "code",
   "execution_count": 7,
   "metadata": {},
   "outputs": [
    {
     "output_type": "stream",
     "name": "stdout",
     "text": [
      ">>> Target index : [0, 1, 2, 3, 4, 5, 6, 7, 8, 9, 10, 11, 12, 13, 14, 15, 16, 17, 18, 19, 20, 21, 22, 23, 24, 25, 26, 27, 28, 29, 30, 31, 32, 33, 34, 35, 36, 37, 38, 39, 40, 41, 42, 43, 44, 45, 46, 47, 48, 49, 50, 51, 52, 53, 54, 55, 56, 57, 58, 59, 60, 61, 62, 63, 64, 65, 66, 67, 68, 69, 70, 71, 72, 73, 74, 75, 76, 77, 78, 79, 80, 81, 82, 83, 84, 85, 86, 87, 88, 89, 90, 91, 92, 93, 94, 95, 96, 97, 98, 99, 100, 101, 102, 103, 104, 105, 106, 107, 108, 109, 110, 111, 112, 113, 114, 115, 116, 117, 118, 119, 120, 121, 122, 123, 124, 125, 126, 127, 128, 129, 130, 131, 132, 133, 134, 135, 136, 137, 138, 139, 140, 141, 142, 143, 144, 145, 146, 147, 148, 149, 150, 151, 152, 153, 154, 155, 156, 157, 158, 159, 160, 161, 162, 163, 164, 165, 166, 167, 168, 169, 170, 171, 172, 173, 174, 175, 176, 177, 178, 179, 180, 181, 182, 183, 184, 185, 186, 187, 188, 189]\n"
     ]
    },
    {
     "output_type": "display_data",
     "data": {
      "text/plain": "<IPython.core.display.Javascript object>",
      "application/javascript": "\n            setTimeout(function() {\n                var nbb_cell_id = 7;\n                var nbb_unformatted_code = \"print(f\\\">>> Target index : {target_index}\\\")\";\n                var nbb_formatted_code = \"print(f\\\">>> Target index : {target_index}\\\")\";\n                var nbb_cells = Jupyter.notebook.get_cells();\n                for (var i = 0; i < nbb_cells.length; ++i) {\n                    if (nbb_cells[i].input_prompt_number == nbb_cell_id) {\n                        if (nbb_cells[i].get_text() == nbb_unformatted_code) {\n                             nbb_cells[i].set_text(nbb_formatted_code);\n                        }\n                        break;\n                    }\n                }\n            }, 500);\n            "
     },
     "metadata": {}
    }
   ],
   "source": [
    "print(f\">>> Target index : {target_index}\")"
   ]
  },
  {
   "cell_type": "code",
   "execution_count": 23,
   "metadata": {},
   "outputs": [
    {
     "output_type": "display_data",
     "data": {
      "text/plain": "<Figure size 216x216 with 1 Axes>",
      "image/png": "[encoded data removed]"
     },
     "metadata": {
      "image/png": {
       "width": 368,
       "height": 219
      }
     }
    },
    {
     "output_type": "display_data",
     "data": {
      "text/plain": "<IPython.core.display.Javascript object>",
      "application/javascript": "\n            setTimeout(function() {\n                var nbb_cell_id = 23;\n                var nbb_unformatted_code = \"num_experiment = 3\\nnum_agent = 0\\nplot_boundary = (50, 50)\\n\\n# Example bout\\nax = None\\nax = plot_positions2d(\\n    select_exp(comp_exp, num_experiment),\\n    num_agents,\\n    boundary=plot_boundary,\\n    # labels=[\\\"Prey 1\\\", \\\"Prey 2\\\", \\\"Pred\\\"],\\n    colors=None,\\n    alpha=0.3,\\n    figsize=(3, 3),\\n)\\nax = plot_targets2d(\\n    env,\\n    boundary=plot_boundary,\\n    color=\\\"black\\\",\\n    alpha=1,\\n    label=\\\"Targets\\\",\\n    ax=ax,\\n)\";\n                var nbb_formatted_code = \"num_experiment = 3\\nnum_agent = 0\\nplot_boundary = (50, 50)\\n\\n# Example bout\\nax = None\\nax = plot_positions2d(\\n    select_exp(comp_exp, num_experiment),\\n    num_agents,\\n    boundary=plot_boundary,\\n    # labels=[\\\"Prey 1\\\", \\\"Prey 2\\\", \\\"Pred\\\"],\\n    colors=None,\\n    alpha=0.3,\\n    figsize=(3, 3),\\n)\\nax = plot_targets2d(\\n    env,\\n    boundary=plot_boundary,\\n    color=\\\"black\\\",\\n    alpha=1,\\n    label=\\\"Targets\\\",\\n    ax=ax,\\n)\";\n                var nbb_cells = Jupyter.notebook.get_cells();\n                for (var i = 0; i < nbb_cells.length; ++i) {\n                    if (nbb_cells[i].input_prompt_number == nbb_cell_id) {\n                        if (nbb_cells[i].get_text() == nbb_unformatted_code) {\n                             nbb_cells[i].set_text(nbb_formatted_code);\n                        }\n                        break;\n                    }\n                }\n            }, 500);\n            "
     },
     "metadata": {}
    }
   ],
   "source": [
    "num_experiment = 3\n",
    "num_agent = 0\n",
    "plot_boundary = (50, 50)\n",
    "\n",
    "# Example bout\n",
    "ax = None\n",
    "ax = plot_positions2d(\n",
    "    select_exp(comp_exp, num_experiment),\n",
    "    num_agents,\n",
    "    boundary=plot_boundary,\n",
    "    # labels=[\"Prey 1\", \"Prey 2\", \"Pred\"],\n",
    "    colors=None,\n",
    "    alpha=0.3,\n",
    "    figsize=(3, 3),\n",
    ")\n",
    "ax = plot_targets2d(\n",
    "    env,\n",
    "    boundary=plot_boundary,\n",
    "    color=\"black\",\n",
    "    alpha=1,\n",
    "    label=\"Targets\",\n",
    "    ax=ax,\n",
    ")"
   ]
  },
  {
   "cell_type": "code",
   "execution_count": 9,
   "metadata": {},
   "outputs": [
    {
     "output_type": "stream",
     "name": "stderr",
     "text": [
      "total_reward: 100%|██████████| 4/4 [00:00<00:00, 4269.01it/s]\n"
     ]
    },
    {
     "output_type": "execute_result",
     "data": {
      "text/plain": [
       "[47.0, 71.0, 55.0, 89.0]"
      ]
     },
     "metadata": {},
     "execution_count": 9
    },
    {
     "output_type": "display_data",
     "data": {
      "text/plain": "<IPython.core.display.Javascript object>",
      "application/javascript": "\n            setTimeout(function() {\n                var nbb_cell_id = 9;\n                var nbb_unformatted_code = \"total_reward(comp_exp)\";\n                var nbb_formatted_code = \"total_reward(comp_exp)\";\n                var nbb_cells = Jupyter.notebook.get_cells();\n                for (var i = 0; i < nbb_cells.length; ++i) {\n                    if (nbb_cells[i].input_prompt_number == nbb_cell_id) {\n                        if (nbb_cells[i].get_text() == nbb_unformatted_code) {\n                             nbb_cells[i].set_text(nbb_formatted_code);\n                        }\n                        break;\n                    }\n                }\n            }, 500);\n            "
     },
     "metadata": {}
    }
   ],
   "source": [
    "total_reward(comp_exp)"
   ]
  },
  {
   "cell_type": "code",
   "execution_count": 10,
   "metadata": {},
   "outputs": [
    {
     "output_type": "execute_result",
     "data": {
      "text/plain": [
       "171"
      ]
     },
     "metadata": {},
     "execution_count": 10
    },
    {
     "output_type": "display_data",
     "data": {
      "text/plain": "<IPython.core.display.Javascript object>",
      "application/javascript": "\n            setTimeout(function() {\n                var nbb_cell_id = 10;\n                var nbb_unformatted_code = \"len(env.dead)\";\n                var nbb_formatted_code = \"len(env.dead)\";\n                var nbb_cells = Jupyter.notebook.get_cells();\n                for (var i = 0; i < nbb_cells.length; ++i) {\n                    if (nbb_cells[i].input_prompt_number == nbb_cell_id) {\n                        if (nbb_cells[i].get_text() == nbb_unformatted_code) {\n                             nbb_cells[i].set_text(nbb_formatted_code);\n                        }\n                        break;\n                    }\n                }\n            }, 500);\n            "
     },
     "metadata": {}
    }
   ],
   "source": [
    "len(env.dead)"
   ]
  },
  {
   "source": [
    "Print all friend events/pairs. (This is not the same as final team sizes as teams can have more than two member; parse common prefixs to get teams)"
   ],
   "cell_type": "markdown",
   "metadata": {}
  },
  {
   "cell_type": "code",
   "execution_count": 11,
   "metadata": {},
   "outputs": [
    {
     "output_type": "execute_result",
     "data": {
      "text/plain": [
       "[(1, 6),\n",
       " (1, 87),\n",
       " (5, 53),\n",
       " (5, 84),\n",
       " (5, 103),\n",
       " (6, 21),\n",
       " (7, 157),\n",
       " (8, 91),\n",
       " (9, 121),\n",
       " (11, 73),\n",
       " (12, 17),\n",
       " (13, 168),\n",
       " (15, 2),\n",
       " (16, 8),\n",
       " (16, 65),\n",
       " (16, 180),\n",
       " (18, 1),\n",
       " (18, 19),\n",
       " (20, 89),\n",
       " (23, 28),\n",
       " (24, 95),\n",
       " (25, 52),\n",
       " (25, 123),\n",
       " (26, 64),\n",
       " (26, 120),\n",
       " (26, 144),\n",
       " (27, 69),\n",
       " (33, 178),\n",
       " (35, 138),\n",
       " (36, 166),\n",
       " (37, 117),\n",
       " (37, 171),\n",
       " (38, 42),\n",
       " (38, 81),\n",
       " (38, 176),\n",
       " (44, 177),\n",
       " (45, 80),\n",
       " (46, 82),\n",
       " (47, 26),\n",
       " (47, 135),\n",
       " (47, 172),\n",
       " (48, 114),\n",
       " (49, 104),\n",
       " (51, 100),\n",
       " (51, 115),\n",
       " (51, 151),\n",
       " (52, 122),\n",
       " (54, 3),\n",
       " (56, 35),\n",
       " (56, 66),\n",
       " (57, 58),\n",
       " (57, 99),\n",
       " (57, 112),\n",
       " (59, 133),\n",
       " (61, 140),\n",
       " (61, 147),\n",
       " (62, 10),\n",
       " (62, 11),\n",
       " (63, 48),\n",
       " (63, 148),\n",
       " (66, 164),\n",
       " (67, 18),\n",
       " (67, 102),\n",
       " (70, 142),\n",
       " (72, 160),\n",
       " (74, 13),\n",
       " (75, 41),\n",
       " (75, 45),\n",
       " (76, 14),\n",
       " (77, 27),\n",
       " (77, 88),\n",
       " (79, 7),\n",
       " (79, 156),\n",
       " (79, 161),\n",
       " (81, 163),\n",
       " (84, 85),\n",
       " (85, 105),\n",
       " (86, 0),\n",
       " (86, 29),\n",
       " (86, 67),\n",
       " (88, 44),\n",
       " (88, 136),\n",
       " (90, 173),\n",
       " (93, 154),\n",
       " (93, 167),\n",
       " (96, 83),\n",
       " (97, 78),\n",
       " (98, 55),\n",
       " (101, 72),\n",
       " (104, 76),\n",
       " (106, 22),\n",
       " (108, 145),\n",
       " (108, 174),\n",
       " (109, 126),\n",
       " (109, 153),\n",
       " (110, 96),\n",
       " (111, 20),\n",
       " (111, 113),\n",
       " (111, 159),\n",
       " (112, 37),\n",
       " (112, 189),\n",
       " (113, 68),\n",
       " (115, 70),\n",
       " (115, 116),\n",
       " (115, 129),\n",
       " (115, 150),\n",
       " (119, 16),\n",
       " (119, 90),\n",
       " (119, 106),\n",
       " (123, 132),\n",
       " (124, 15),\n",
       " (125, 34),\n",
       " (125, 49),\n",
       " (125, 183),\n",
       " (126, 101),\n",
       " (127, 94),\n",
       " (127, 125),\n",
       " (127, 146),\n",
       " (129, 9),\n",
       " (129, 32),\n",
       " (136, 74),\n",
       " (137, 12),\n",
       " (139, 43),\n",
       " (139, 47),\n",
       " (145, 56),\n",
       " (148, 75),\n",
       " (148, 79),\n",
       " (149, 98),\n",
       " (149, 130),\n",
       " (150, 182),\n",
       " (155, 50),\n",
       " (155, 51),\n",
       " (155, 181),\n",
       " (166, 186),\n",
       " (169, 170),\n",
       " (173, 40),\n",
       " (173, 110),\n",
       " (175, 24),\n",
       " (175, 60),\n",
       " (175, 131),\n",
       " (175, 134),\n",
       " (175, 139),\n",
       " (176, 33),\n",
       " (176, 71),\n",
       " (176, 93),\n",
       " (176, 165),\n",
       " (179, 107),\n",
       " (179, 124),\n",
       " (181, 137),\n",
       " (181, 141),\n",
       " (184, 158),\n",
       " (185, 39),\n",
       " (186, 128),\n",
       " (188, 31),\n",
       " (188, 184)]"
      ]
     },
     "metadata": {},
     "execution_count": 11
    },
    {
     "output_type": "display_data",
     "data": {
      "text/plain": "<IPython.core.display.Javascript object>",
      "application/javascript": "\n            setTimeout(function() {\n                var nbb_cell_id = 11;\n                var nbb_unformatted_code = \"sorted(env.friends)\";\n                var nbb_formatted_code = \"sorted(env.friends)\";\n                var nbb_cells = Jupyter.notebook.get_cells();\n                for (var i = 0; i < nbb_cells.length; ++i) {\n                    if (nbb_cells[i].input_prompt_number == nbb_cell_id) {\n                        if (nbb_cells[i].get_text() == nbb_unformatted_code) {\n                             nbb_cells[i].set_text(nbb_formatted_code);\n                        }\n                        break;\n                    }\n                }\n            }, 500);\n            "
     },
     "metadata": {}
    }
   ],
   "source": [
    "sorted(env.friends)"
   ]
  },
  {
   "source": [
    "Any values > 0 at the end are from surviving teams"
   ],
   "cell_type": "markdown",
   "metadata": {}
  },
  {
   "cell_type": "code",
   "execution_count": 12,
   "metadata": {},
   "outputs": [
    {
     "output_type": "execute_result",
     "data": {
      "text/plain": [
       "array([ 0.,  0.,  0.,  0.,  0.,  6.,  0.,  0.,  0.,  0.,  0.,  0.,  0.,\n",
       "        0.,  0.,  0.,  0.,  0.,  0.,  0.,  0.,  0.,  0.,  2.,  0.,  5.,\n",
       "        0.,  0.,  0.,  0.,  0.,  0.,  0.,  0.,  0.,  0.,  0.,  0., 12.,\n",
       "        0.,  0.,  0.,  0.,  0.,  0.,  0.,  0.,  0.,  0.,  0.,  0.,  0.,\n",
       "        0.,  0.,  0.,  0.,  0.,  8.,  0.,  0.,  0.,  3.,  4.,  0.,  0.,\n",
       "        0.,  0.,  0.,  0.,  0.,  0.,  0.,  0.,  0.,  0.,  0.,  0.,  0.,\n",
       "        0.,  0.,  0.,  0.,  0.,  0.,  0.,  0.,  0.,  0.,  0.,  0.,  0.,\n",
       "        0.,  0.,  0.,  0.,  0.,  0.,  0.,  0.,  0.,  0.,  0.,  0.,  0.,\n",
       "        0.,  0.,  0.,  0.,  8.,  6.,  0.,  6.,  0.,  0.,  0.,  0.,  0.,\n",
       "        0.,  1.,  0.,  0.,  0.,  0.,  0.,  0.,  0.,  0., 10.,  0.,  0.,\n",
       "        0.,  0.,  0.,  0.,  0.,  0.,  0.,  0.,  0.,  0.,  0.,  0.,  0.,\n",
       "        0.,  0.,  0.,  0.,  0.,  0.,  4.,  0.,  0.,  1.,  0.,  0.,  0.,\n",
       "        0.,  0.,  0.,  0.,  0.,  0.,  1.,  0.,  0.,  0.,  0.,  0.,  0.,\n",
       "        2.,  0.,  0.,  0.,  0.,  0., 15.,  0.,  0.,  0.,  5.,  0.,  0.,\n",
       "        0.,  0.,  0.,  2.,  0.,  0.,  0.,  0.])"
      ]
     },
     "metadata": {},
     "execution_count": 12
    },
    {
     "output_type": "display_data",
     "data": {
      "text/plain": "<IPython.core.display.Javascript object>",
      "application/javascript": "\n            setTimeout(function() {\n                var nbb_cell_id = 12;\n                var nbb_unformatted_code = \"env.values\";\n                var nbb_formatted_code = \"env.values\";\n                var nbb_cells = Jupyter.notebook.get_cells();\n                for (var i = 0; i < nbb_cells.length; ++i) {\n                    if (nbb_cells[i].input_prompt_number == nbb_cell_id) {\n                        if (nbb_cells[i].get_text() == nbb_unformatted_code) {\n                             nbb_cells[i].set_text(nbb_formatted_code);\n                        }\n                        break;\n                    }\n                }\n            }, 500);\n            "
     },
     "metadata": {}
    }
   ],
   "source": [
    "env.values"
   ]
  },
  {
   "source": [
    "How much value is left on the grid? How many prey are alive?"
   ],
   "cell_type": "markdown",
   "metadata": {}
  },
  {
   "cell_type": "code",
   "execution_count": 13,
   "metadata": {},
   "outputs": [
    {
     "output_type": "execute_result",
     "data": {
      "text/plain": [
       "101.0"
      ]
     },
     "metadata": {},
     "execution_count": 13
    },
    {
     "output_type": "display_data",
     "data": {
      "text/plain": "<IPython.core.display.Javascript object>",
      "application/javascript": "\n            setTimeout(function() {\n                var nbb_cell_id = 13;\n                var nbb_unformatted_code = \"sum(env.values)\";\n                var nbb_formatted_code = \"sum(env.values)\";\n                var nbb_cells = Jupyter.notebook.get_cells();\n                for (var i = 0; i < nbb_cells.length; ++i) {\n                    if (nbb_cells[i].input_prompt_number == nbb_cell_id) {\n                        if (nbb_cells[i].get_text() == nbb_unformatted_code) {\n                             nbb_cells[i].set_text(nbb_formatted_code);\n                        }\n                        break;\n                    }\n                }\n            }, 500);\n            "
     },
     "metadata": {}
    }
   ],
   "source": [
    "sum(env.values)"
   ]
  },
  {
   "source": [
    "How many rewards? Same question as, how many prey were eaten?"
   ],
   "cell_type": "markdown",
   "metadata": {}
  },
  {
   "cell_type": "code",
   "execution_count": 14,
   "metadata": {},
   "outputs": [
    {
     "output_type": "execute_result",
     "data": {
      "text/plain": [
       "47.0"
      ]
     },
     "metadata": {},
     "execution_count": 14
    },
    {
     "output_type": "display_data",
     "data": {
      "text/plain": "<IPython.core.display.Javascript object>",
      "application/javascript": "\n            setTimeout(function() {\n                var nbb_cell_id = 14;\n                var nbb_unformatted_code = \"sum(comp_exp[0][\\\"exp_reward\\\"])\";\n                var nbb_formatted_code = \"sum(comp_exp[0][\\\"exp_reward\\\"])\";\n                var nbb_cells = Jupyter.notebook.get_cells();\n                for (var i = 0; i < nbb_cells.length; ++i) {\n                    if (nbb_cells[i].input_prompt_number == nbb_cell_id) {\n                        if (nbb_cells[i].get_text() == nbb_unformatted_code) {\n                             nbb_cells[i].set_text(nbb_formatted_code);\n                        }\n                        break;\n                    }\n                }\n            }, 500);\n            "
     },
     "metadata": {}
    }
   ],
   "source": [
    "sum(comp_exp[0][\"exp_reward\"])"
   ]
  },
  {
   "source": [
    "How many teams/prey are left"
   ],
   "cell_type": "markdown",
   "metadata": {}
  },
  {
   "cell_type": "code",
   "execution_count": 15,
   "metadata": {},
   "outputs": [
    {
     "output_type": "stream",
     "name": "stdout",
     "text": [
      "19\n"
     ]
    },
    {
     "output_type": "display_data",
     "data": {
      "text/plain": "<IPython.core.display.Javascript object>",
      "application/javascript": "\n            setTimeout(function() {\n                var nbb_cell_id = 15;\n                var nbb_unformatted_code = \"num_teams = np.sum(np.array(env.values) > 0)\\nprint(num_teams)\";\n                var nbb_formatted_code = \"num_teams = np.sum(np.array(env.values) > 0)\\nprint(num_teams)\";\n                var nbb_cells = Jupyter.notebook.get_cells();\n                for (var i = 0; i < nbb_cells.length; ++i) {\n                    if (nbb_cells[i].input_prompt_number == nbb_cell_id) {\n                        if (nbb_cells[i].get_text() == nbb_unformatted_code) {\n                             nbb_cells[i].set_text(nbb_formatted_code);\n                        }\n                        break;\n                    }\n                }\n            }, 500);\n            "
     },
     "metadata": {}
    }
   ],
   "source": [
    "num_teams = np.sum(np.array(env.values) > 0)\n",
    "print(num_teams)"
   ]
  },
  {
   "source": [
    "Check that (num prey alive matches + num eaten) matches num_targets."
   ],
   "cell_type": "markdown",
   "metadata": {}
  },
  {
   "cell_type": "code",
   "execution_count": 24,
   "metadata": {},
   "outputs": [
    {
     "output_type": "stream",
     "name": "stdout",
     "text": [
      "190 101.0 89.0\n"
     ]
    },
    {
     "output_type": "display_data",
     "data": {
      "text/plain": "<IPython.core.display.Javascript object>",
      "application/javascript": "\n            setTimeout(function() {\n                var nbb_cell_id = 24;\n                var nbb_unformatted_code = \"num_eaten = sum(comp_exp[num_experiments-1][\\\"exp_reward\\\"])\\nnum_alive = sum(env.values)\\nprint(num_targets, num_alive, num_eaten)\\n\\nassert num_targets == (num_alive + num_eaten)\";\n                var nbb_formatted_code = \"num_eaten = sum(comp_exp[num_experiments - 1][\\\"exp_reward\\\"])\\nnum_alive = sum(env.values)\\nprint(num_targets, num_alive, num_eaten)\\n\\nassert num_targets == (num_alive + num_eaten)\";\n                var nbb_cells = Jupyter.notebook.get_cells();\n                for (var i = 0; i < nbb_cells.length; ++i) {\n                    if (nbb_cells[i].input_prompt_number == nbb_cell_id) {\n                        if (nbb_cells[i].get_text() == nbb_unformatted_code) {\n                             nbb_cells[i].set_text(nbb_formatted_code);\n                        }\n                        break;\n                    }\n                }\n            }, 500);\n            "
     },
     "metadata": {}
    }
   ],
   "source": [
    "num_eaten = sum(comp_exp[num_experiments-1][\"exp_reward\"])\n",
    "num_alive = sum(env.values)\n",
    "print(num_targets, num_alive, num_eaten)\n",
    "\n",
    "assert num_targets == (num_alive + num_eaten)"
   ]
  },
  {
   "cell_type": "code",
   "execution_count": null,
   "metadata": {},
   "outputs": [],
   "source": []
  }
 ]
}