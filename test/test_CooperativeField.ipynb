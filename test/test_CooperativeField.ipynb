{
 "metadata": {
  "language_info": {
   "codemirror_mode": {
    "name": "ipython",
    "version": 3
   },
   "file_extension": ".py",
   "mimetype": "text/x-python",
   "name": "python",
   "nbconvert_exporter": "python",
   "pygments_lexer": "ipython3",
   "version": "3.6.7-final"
  },
  "orig_nbformat": 2,
  "kernelspec": {
   "name": "python3",
   "display_name": "Python 3",
   "language": "python"
  }
 },
 "nbformat": 4,
 "nbformat_minor": 2,
 "cells": [
  {
   "source": [
    "# Test - moving targets - CooperativeField"
   ],
   "cell_type": "markdown",
   "metadata": {}
  },
  {
   "cell_type": "code",
   "execution_count": 52,
   "metadata": {},
   "outputs": [
    {
     "output_type": "display_data",
     "data": {
      "text/plain": "<IPython.core.display.Javascript object>",
      "application/javascript": "\n            setTimeout(function() {\n                var nbb_cell_id = 52;\n                var nbb_unformatted_code = \"import shutil\\nimport glob\\nimport os\\n\\nimport numpy as np\\nimport pandas as pd\\nimport seaborn as sns\\nimport matplotlib.pyplot as plt\\n\\nimport explorationlib\\nfrom explorationlib.agent import Diffusion2d\\nfrom explorationlib.agent import DiffusionDiscrete\\nfrom explorationlib.agent import DiffusionGrid\\n\\nfrom explorationlib.local_gym import uniform_targets\\nfrom explorationlib.local_gym import constant_values\\nfrom explorationlib.local_gym import CooperativeGrid\\n\\nfrom explorationlib.run import multi_experiment\\nfrom explorationlib.util import select_exp\\nfrom explorationlib.util import select_agent\\nfrom explorationlib.util import load\\nfrom explorationlib.util import save\\n\\nfrom explorationlib.plot import plot_position2d\\nfrom explorationlib.plot import plot_positions2d\\nfrom explorationlib.plot import plot_length_hist\\nfrom explorationlib.plot import plot_length\\nfrom explorationlib.plot import plot_targets2d\\nfrom explorationlib.plot import show_gif\\n\\nfrom explorationlib import score\\nfrom explorationlib.score import search_efficiency\\nfrom explorationlib.score import first_reward\\nfrom explorationlib.score import total_reward\";\n                var nbb_formatted_code = \"import shutil\\nimport glob\\nimport os\\n\\nimport numpy as np\\nimport pandas as pd\\nimport seaborn as sns\\nimport matplotlib.pyplot as plt\\n\\nimport explorationlib\\nfrom explorationlib.agent import Diffusion2d\\nfrom explorationlib.agent import DiffusionDiscrete\\nfrom explorationlib.agent import DiffusionGrid\\n\\nfrom explorationlib.local_gym import uniform_targets\\nfrom explorationlib.local_gym import constant_values\\nfrom explorationlib.local_gym import CooperativeGrid\\n\\nfrom explorationlib.run import multi_experiment\\nfrom explorationlib.util import select_exp\\nfrom explorationlib.util import select_agent\\nfrom explorationlib.util import load\\nfrom explorationlib.util import save\\n\\nfrom explorationlib.plot import plot_position2d\\nfrom explorationlib.plot import plot_positions2d\\nfrom explorationlib.plot import plot_length_hist\\nfrom explorationlib.plot import plot_length\\nfrom explorationlib.plot import plot_targets2d\\nfrom explorationlib.plot import show_gif\\n\\nfrom explorationlib import score\\nfrom explorationlib.score import search_efficiency\\nfrom explorationlib.score import first_reward\\nfrom explorationlib.score import total_reward\";\n                var nbb_cells = Jupyter.notebook.get_cells();\n                for (var i = 0; i < nbb_cells.length; ++i) {\n                    if (nbb_cells[i].input_prompt_number == nbb_cell_id) {\n                        if (nbb_cells[i].get_text() == nbb_unformatted_code) {\n                             nbb_cells[i].set_text(nbb_formatted_code);\n                        }\n                        break;\n                    }\n                }\n            }, 500);\n            "
     },
     "metadata": {}
    }
   ],
   "source": [
    "import shutil\n",
    "import glob\n",
    "import os\n",
    "\n",
    "import numpy as np\n",
    "import pandas as pd\n",
    "import seaborn as sns\n",
    "import matplotlib.pyplot as plt\n",
    "\n",
    "import explorationlib\n",
    "from explorationlib.agent import Diffusion2d\n",
    "from explorationlib.agent import DiffusionDiscrete\n",
    "from explorationlib.agent import DiffusionGrid\n",
    "\n",
    "from explorationlib.local_gym import uniform_targets\n",
    "from explorationlib.local_gym import constant_values\n",
    "from explorationlib.local_gym import CooperativeGrid\n",
    "\n",
    "from explorationlib.run import multi_experiment\n",
    "from explorationlib.util import select_exp\n",
    "from explorationlib.util import select_agent\n",
    "from explorationlib.util import load\n",
    "from explorationlib.util import save\n",
    "\n",
    "from explorationlib.plot import plot_position2d\n",
    "from explorationlib.plot import plot_positions2d\n",
    "from explorationlib.plot import plot_length_hist\n",
    "from explorationlib.plot import plot_length\n",
    "from explorationlib.plot import plot_targets2d\n",
    "from explorationlib.plot import show_gif\n",
    "\n",
    "from explorationlib import score\n",
    "from explorationlib.score import search_efficiency\n",
    "from explorationlib.score import first_reward\n",
    "from explorationlib.score import total_reward"
   ]
  },
  {
   "cell_type": "code",
   "execution_count": 53,
   "metadata": {},
   "outputs": [
    {
     "output_type": "stream",
     "name": "stdout",
     "text": [
      "The nb_black extension is already loaded. To reload it, use:\n  %reload_ext nb_black\nThe autoreload extension is already loaded. To reload it, use:\n  %reload_ext autoreload\n"
     ]
    },
    {
     "output_type": "display_data",
     "data": {
      "text/plain": "<IPython.core.display.Javascript object>",
      "application/javascript": "\n            setTimeout(function() {\n                var nbb_cell_id = 53;\n                var nbb_unformatted_code = \"# Pretty plots\\n%matplotlib inline\\n%config InlineBackend.figure_format='retina'\\n%config IPCompleter.greedy=True\\n\\nplt.rcParams[\\\"axes.facecolor\\\"] = \\\"white\\\"\\nplt.rcParams[\\\"figure.facecolor\\\"] = \\\"white\\\"\\nplt.rcParams[\\\"font.size\\\"] = \\\"16\\\"\\n\\n# Uncomment for local development\\n%load_ext nb_black\\n%load_ext autoreload\\n%autoreload 2\";\n                var nbb_formatted_code = \"# Pretty plots\\n%matplotlib inline\\n%config InlineBackend.figure_format='retina'\\n%config IPCompleter.greedy=True\\n\\nplt.rcParams[\\\"axes.facecolor\\\"] = \\\"white\\\"\\nplt.rcParams[\\\"figure.facecolor\\\"] = \\\"white\\\"\\nplt.rcParams[\\\"font.size\\\"] = \\\"16\\\"\\n\\n# Uncomment for local development\\n%load_ext nb_black\\n%load_ext autoreload\\n%autoreload 2\";\n                var nbb_cells = Jupyter.notebook.get_cells();\n                for (var i = 0; i < nbb_cells.length; ++i) {\n                    if (nbb_cells[i].input_prompt_number == nbb_cell_id) {\n                        if (nbb_cells[i].get_text() == nbb_unformatted_code) {\n                             nbb_cells[i].set_text(nbb_formatted_code);\n                        }\n                        break;\n                    }\n                }\n            }, 500);\n            "
     },
     "metadata": {}
    }
   ],
   "source": [
    "# Pretty plots\n",
    "%matplotlib inline\n",
    "%config InlineBackend.figure_format='retina'\n",
    "%config IPCompleter.greedy=True\n",
    "\n",
    "plt.rcParams[\"axes.facecolor\"] = \"white\"\n",
    "plt.rcParams[\"figure.facecolor\"] = \"white\"\n",
    "plt.rcParams[\"font.size\"] = \"16\"\n",
    "\n",
    "# Uncomment for local development\n",
    "%load_ext nb_black\n",
    "%load_ext autoreload\n",
    "%autoreload 2"
   ]
  },
  {
   "cell_type": "code",
   "execution_count": null,
   "metadata": {},
   "outputs": [],
   "source": []
  },
  {
   "source": [
    "# 10 pred, 10 preys"
   ],
   "cell_type": "markdown",
   "metadata": {}
  },
  {
   "cell_type": "code",
   "execution_count": 55,
   "metadata": {
    "tags": []
   },
   "outputs": [
    {
     "output_type": "stream",
     "name": "stderr",
     "text": [
      "test_comp: 100%|██████████| 1/1 [00:02<00:00,  2.49s/it]\n"
     ]
    },
    {
     "output_type": "display_data",
     "data": {
      "text/plain": "<IPython.core.display.Javascript object>",
      "application/javascript": "\n            setTimeout(function() {\n                var nbb_cell_id = 55;\n                var nbb_unformatted_code = \"# How long to run? Longer is better, but slower.\\nnum_steps = 40\\nnum_experiments = 1\\n\\nnum_agents = 200\\nnum_targets = 190 # aka friends\\ntarget_index = list(range(0, num_targets))\\n\\ndetection_radius =  1\\np_target = 0.5\\n\\nfriend_radius =  2\\np_friend = 1.0\\n\\n# Intial size of 'box' targets\\n# start in.\\ntarget_boundary = (10, 10)\\n\\n# -\\nmin_length = 1\\nstep_size = 1\\n\\n# Create env \\nenv = CooperativeGrid(num_agents=num_agents)\\n\\n# Preds and preys\\nscale = 2\\nagents = [DiffusionGrid(scale=scale) for _ in range(num_agents)]\\n\\n# Intial target locations\\ntargets = uniform_targets(num_targets, target_boundary)\\nvalues = constant_values(targets, 1.0)\\n\\n# Register target locations\\nenv.add_targets(\\n    target_index, \\n    targets, \\n    values, \\n    detection_radius=detection_radius,\\n    friend_radius=friend_radius,\\n    p_target=p_target,\\n    p_friend=p_friend\\n)\\n\\n# Run!\\ncomp_exp = multi_experiment(\\n    f\\\"test_comp\\\",\\n    agents, \\n    env,\\n    num_steps=num_steps,\\n    num_experiments=num_experiments,\\n    seed=404,\\n    split_state=False,\\n    dump=False\\n)\";\n                var nbb_formatted_code = \"# How long to run? Longer is better, but slower.\\nnum_steps = 40\\nnum_experiments = 1\\n\\nnum_agents = 200\\nnum_targets = 190  # aka friends\\ntarget_index = list(range(0, num_targets))\\n\\ndetection_radius = 1\\np_target = 0.5\\n\\nfriend_radius = 2\\np_friend = 1.0\\n\\n# Intial size of 'box' targets\\n# start in.\\ntarget_boundary = (10, 10)\\n\\n# -\\nmin_length = 1\\nstep_size = 1\\n\\n# Create env\\nenv = CooperativeGrid(num_agents=num_agents)\\n\\n# Preds and preys\\nscale = 2\\nagents = [DiffusionGrid(scale=scale) for _ in range(num_agents)]\\n\\n# Intial target locations\\ntargets = uniform_targets(num_targets, target_boundary)\\nvalues = constant_values(targets, 1.0)\\n\\n# Register target locations\\nenv.add_targets(\\n    target_index,\\n    targets,\\n    values,\\n    detection_radius=detection_radius,\\n    friend_radius=friend_radius,\\n    p_target=p_target,\\n    p_friend=p_friend,\\n)\\n\\n# Run!\\ncomp_exp = multi_experiment(\\n    f\\\"test_comp\\\",\\n    agents,\\n    env,\\n    num_steps=num_steps,\\n    num_experiments=num_experiments,\\n    seed=404,\\n    split_state=False,\\n    dump=False,\\n)\";\n                var nbb_cells = Jupyter.notebook.get_cells();\n                for (var i = 0; i < nbb_cells.length; ++i) {\n                    if (nbb_cells[i].input_prompt_number == nbb_cell_id) {\n                        if (nbb_cells[i].get_text() == nbb_unformatted_code) {\n                             nbb_cells[i].set_text(nbb_formatted_code);\n                        }\n                        break;\n                    }\n                }\n            }, 500);\n            "
     },
     "metadata": {}
    }
   ],
   "source": [
    "# How long to run? Longer is better, but slower.\n",
    "num_steps = 40\n",
    "num_experiments = 1\n",
    "\n",
    "num_agents = 200\n",
    "num_targets = 190 # aka friends\n",
    "target_index = list(range(0, num_targets))\n",
    "\n",
    "detection_radius =  1\n",
    "p_target = 0.5\n",
    "\n",
    "friend_radius =  2\n",
    "p_friend = 1.0\n",
    "\n",
    "# Intial size of 'box' targets\n",
    "# start in.\n",
    "target_boundary = (10, 10)\n",
    "\n",
    "# -\n",
    "min_length = 1\n",
    "step_size = 1\n",
    "\n",
    "# Create env \n",
    "env = CooperativeGrid(num_agents=num_agents)\n",
    "\n",
    "# Preds and preys\n",
    "scale = 2\n",
    "agents = [DiffusionGrid(scale=scale) for _ in range(num_agents)]\n",
    "\n",
    "# Intial target locations\n",
    "targets = uniform_targets(num_targets, target_boundary)\n",
    "values = constant_values(targets, 1.0)\n",
    "\n",
    "# Register target locations\n",
    "env.add_targets(\n",
    "    target_index, \n",
    "    targets, \n",
    "    values, \n",
    "    detection_radius=detection_radius,\n",
    "    friend_radius=friend_radius,\n",
    "    p_target=p_target,\n",
    "    p_friend=p_friend\n",
    ")\n",
    "\n",
    "# Run!\n",
    "comp_exp = multi_experiment(\n",
    "    f\"test_comp\",\n",
    "    agents, \n",
    "    env,\n",
    "    num_steps=num_steps,\n",
    "    num_experiments=num_experiments,\n",
    "    seed=404,\n",
    "    split_state=False,\n",
    "    dump=False\n",
    ")"
   ]
  },
  {
   "cell_type": "code",
   "execution_count": 56,
   "metadata": {},
   "outputs": [
    {
     "output_type": "stream",
     "name": "stdout",
     "text": [
      ">>> Target index : [0, 1, 2, 3, 4, 5, 6, 7, 8, 9, 10, 11, 12, 13, 14, 15, 16, 17, 18, 19, 20, 21, 22, 23, 24, 25, 26, 27, 28, 29, 30, 31, 32, 33, 34, 35, 36, 37, 38, 39, 40, 41, 42, 43, 44, 45, 46, 47, 48, 49, 50, 51, 52, 53, 54, 55, 56, 57, 58, 59, 60, 61, 62, 63, 64, 65, 66, 67, 68, 69, 70, 71, 72, 73, 74, 75, 76, 77, 78, 79, 80, 81, 82, 83, 84, 85, 86, 87, 88, 89, 90, 91, 92, 93, 94, 95, 96, 97, 98, 99, 100, 101, 102, 103, 104, 105, 106, 107, 108, 109, 110, 111, 112, 113, 114, 115, 116, 117, 118, 119, 120, 121, 122, 123, 124, 125, 126, 127, 128, 129, 130, 131, 132, 133, 134, 135, 136, 137, 138, 139, 140, 141, 142, 143, 144, 145, 146, 147, 148, 149, 150, 151, 152, 153, 154, 155, 156, 157, 158, 159, 160, 161, 162, 163, 164, 165, 166, 167, 168, 169, 170, 171, 172, 173, 174, 175, 176, 177, 178, 179, 180, 181, 182, 183, 184, 185, 186, 187, 188, 189]\n"
     ]
    },
    {
     "output_type": "display_data",
     "data": {
      "text/plain": "<IPython.core.display.Javascript object>",
      "application/javascript": "\n            setTimeout(function() {\n                var nbb_cell_id = 56;\n                var nbb_unformatted_code = \"print(f\\\">>> Target index : {target_index}\\\")\";\n                var nbb_formatted_code = \"print(f\\\">>> Target index : {target_index}\\\")\";\n                var nbb_cells = Jupyter.notebook.get_cells();\n                for (var i = 0; i < nbb_cells.length; ++i) {\n                    if (nbb_cells[i].input_prompt_number == nbb_cell_id) {\n                        if (nbb_cells[i].get_text() == nbb_unformatted_code) {\n                             nbb_cells[i].set_text(nbb_formatted_code);\n                        }\n                        break;\n                    }\n                }\n            }, 500);\n            "
     },
     "metadata": {}
    }
   ],
   "source": [
    "print(f\">>> Target index : {target_index}\")"
   ]
  },
  {
   "cell_type": "code",
   "execution_count": 57,
   "metadata": {},
   "outputs": [
    {
     "output_type": "display_data",
     "data": {
      "text/plain": "<Figure size 216x216 with 1 Axes>",
      "image/png": "[encoded data removed]"
     },
     "metadata": {
      "image/png": {
       "width": 368,
       "height": 219
      }
     }
    },
    {
     "output_type": "display_data",
     "data": {
      "text/plain": "<IPython.core.display.Javascript object>",
      "application/javascript": "\n            setTimeout(function() {\n                var nbb_cell_id = 57;\n                var nbb_unformatted_code = \"num_experiment = 0\\nnum_agent = 0\\nplot_boundary = (50, 50)\\n\\n# Example bout\\nax = None\\nax = plot_positions2d(\\n    select_exp(comp_exp, num_experiment),\\n    num_agents,\\n    boundary=plot_boundary,\\n    # labels=[\\\"Prey 1\\\", \\\"Prey 2\\\", \\\"Pred\\\"],\\n    colors=None,\\n    alpha=0.3,\\n    figsize=(3, 3),\\n)\\nax = plot_targets2d(\\n    env,\\n    boundary=plot_boundary,\\n    color=\\\"black\\\",\\n    alpha=1,\\n    label=\\\"Targets\\\",\\n    ax=ax,\\n)\";\n                var nbb_formatted_code = \"num_experiment = 0\\nnum_agent = 0\\nplot_boundary = (50, 50)\\n\\n# Example bout\\nax = None\\nax = plot_positions2d(\\n    select_exp(comp_exp, num_experiment),\\n    num_agents,\\n    boundary=plot_boundary,\\n    # labels=[\\\"Prey 1\\\", \\\"Prey 2\\\", \\\"Pred\\\"],\\n    colors=None,\\n    alpha=0.3,\\n    figsize=(3, 3),\\n)\\nax = plot_targets2d(\\n    env,\\n    boundary=plot_boundary,\\n    color=\\\"black\\\",\\n    alpha=1,\\n    label=\\\"Targets\\\",\\n    ax=ax,\\n)\";\n                var nbb_cells = Jupyter.notebook.get_cells();\n                for (var i = 0; i < nbb_cells.length; ++i) {\n                    if (nbb_cells[i].input_prompt_number == nbb_cell_id) {\n                        if (nbb_cells[i].get_text() == nbb_unformatted_code) {\n                             nbb_cells[i].set_text(nbb_formatted_code);\n                        }\n                        break;\n                    }\n                }\n            }, 500);\n            "
     },
     "metadata": {}
    }
   ],
   "source": [
    "num_experiment = 0\n",
    "num_agent = 0\n",
    "plot_boundary = (50, 50)\n",
    "\n",
    "# Example bout\n",
    "ax = None\n",
    "ax = plot_positions2d(\n",
    "    select_exp(comp_exp, num_experiment),\n",
    "    num_agents,\n",
    "    boundary=plot_boundary,\n",
    "    # labels=[\"Prey 1\", \"Prey 2\", \"Pred\"],\n",
    "    colors=None,\n",
    "    alpha=0.3,\n",
    "    figsize=(3, 3),\n",
    ")\n",
    "ax = plot_targets2d(\n",
    "    env,\n",
    "    boundary=plot_boundary,\n",
    "    color=\"black\",\n",
    "    alpha=1,\n",
    "    label=\"Targets\",\n",
    "    ax=ax,\n",
    ")"
   ]
  },
  {
   "cell_type": "code",
   "execution_count": 58,
   "metadata": {},
   "outputs": [
    {
     "output_type": "stream",
     "name": "stderr",
     "text": [
      "total_reward: 100%|██████████| 1/1 [00:00<00:00, 169.12it/s]\n"
     ]
    },
    {
     "output_type": "execute_result",
     "data": {
      "text/plain": [
       "[462.0]"
      ]
     },
     "metadata": {},
     "execution_count": 58
    },
    {
     "output_type": "display_data",
     "data": {
      "text/plain": "<IPython.core.display.Javascript object>",
      "application/javascript": "\n            setTimeout(function() {\n                var nbb_cell_id = 58;\n                var nbb_unformatted_code = \"total_reward(comp_exp)\";\n                var nbb_formatted_code = \"total_reward(comp_exp)\";\n                var nbb_cells = Jupyter.notebook.get_cells();\n                for (var i = 0; i < nbb_cells.length; ++i) {\n                    if (nbb_cells[i].input_prompt_number == nbb_cell_id) {\n                        if (nbb_cells[i].get_text() == nbb_unformatted_code) {\n                             nbb_cells[i].set_text(nbb_formatted_code);\n                        }\n                        break;\n                    }\n                }\n            }, 500);\n            "
     },
     "metadata": {}
    }
   ],
   "source": [
    "total_reward(comp_exp)"
   ]
  },
  {
   "cell_type": "code",
   "execution_count": 59,
   "metadata": {},
   "outputs": [
    {
     "output_type": "execute_result",
     "data": {
      "text/plain": [
       "[0,\n",
       " 1,\n",
       " 2,\n",
       " 3,\n",
       " 4,\n",
       " 5,\n",
       " 6,\n",
       " 7,\n",
       " 8,\n",
       " 9,\n",
       " 10,\n",
       " 11,\n",
       " 12,\n",
       " 13,\n",
       " 14,\n",
       " 16,\n",
       " 17,\n",
       " 18,\n",
       " 19,\n",
       " 20,\n",
       " 21,\n",
       " 22,\n",
       " 23,\n",
       " 24,\n",
       " 25,\n",
       " 26,\n",
       " 27,\n",
       " 28,\n",
       " 29,\n",
       " 30,\n",
       " 31,\n",
       " 32,\n",
       " 33,\n",
       " 34,\n",
       " 35,\n",
       " 36,\n",
       " 37,\n",
       " 38,\n",
       " 39,\n",
       " 40,\n",
       " 41,\n",
       " 44,\n",
       " 45,\n",
       " 46,\n",
       " 47,\n",
       " 48,\n",
       " 49,\n",
       " 50,\n",
       " 51,\n",
       " 52,\n",
       " 53,\n",
       " 54,\n",
       " 56,\n",
       " 57,\n",
       " 58,\n",
       " 59,\n",
       " 60,\n",
       " 61,\n",
       " 63,\n",
       " 64,\n",
       " 67,\n",
       " 68,\n",
       " 69,\n",
       " 70,\n",
       " 71,\n",
       " 72,\n",
       " 73,\n",
       " 74,\n",
       " 75,\n",
       " 76,\n",
       " 77,\n",
       " 78,\n",
       " 79,\n",
       " 80,\n",
       " 81,\n",
       " 82,\n",
       " 83,\n",
       " 84,\n",
       " 85,\n",
       " 86,\n",
       " 87,\n",
       " 88,\n",
       " 89,\n",
       " 90,\n",
       " 91,\n",
       " 92,\n",
       " 93,\n",
       " 94,\n",
       " 95,\n",
       " 96,\n",
       " 97,\n",
       " 98,\n",
       " 99,\n",
       " 100,\n",
       " 101,\n",
       " 102,\n",
       " 103,\n",
       " 104,\n",
       " 105,\n",
       " 106,\n",
       " 107,\n",
       " 108,\n",
       " 109,\n",
       " 110,\n",
       " 111,\n",
       " 112,\n",
       " 113,\n",
       " 114,\n",
       " 115,\n",
       " 116,\n",
       " 117,\n",
       " 118,\n",
       " 119,\n",
       " 120,\n",
       " 121,\n",
       " 122,\n",
       " 123,\n",
       " 124,\n",
       " 125,\n",
       " 126,\n",
       " 127,\n",
       " 128,\n",
       " 129,\n",
       " 130,\n",
       " 131,\n",
       " 132,\n",
       " 133,\n",
       " 134,\n",
       " 135,\n",
       " 136,\n",
       " 137,\n",
       " 138,\n",
       " 139,\n",
       " 140,\n",
       " 141,\n",
       " 142,\n",
       " 143,\n",
       " 144,\n",
       " 146,\n",
       " 147,\n",
       " 148,\n",
       " 149,\n",
       " 150,\n",
       " 151,\n",
       " 153,\n",
       " 154,\n",
       " 155,\n",
       " 156,\n",
       " 157,\n",
       " 158,\n",
       " 159,\n",
       " 160,\n",
       " 161,\n",
       " 162,\n",
       " 163,\n",
       " 164,\n",
       " 165,\n",
       " 166,\n",
       " 167,\n",
       " 168,\n",
       " 169,\n",
       " 170,\n",
       " 171,\n",
       " 172,\n",
       " 173,\n",
       " 174,\n",
       " 175,\n",
       " 176,\n",
       " 177,\n",
       " 178,\n",
       " 179,\n",
       " 180,\n",
       " 181,\n",
       " 183,\n",
       " 185,\n",
       " 186,\n",
       " 187,\n",
       " 188,\n",
       " 189]"
      ]
     },
     "metadata": {},
     "execution_count": 59
    },
    {
     "output_type": "display_data",
     "data": {
      "text/plain": "<IPython.core.display.Javascript object>",
      "application/javascript": "\n            setTimeout(function() {\n                var nbb_cell_id = 59;\n                var nbb_unformatted_code = \"sorted(env.dead)\";\n                var nbb_formatted_code = \"sorted(env.dead)\";\n                var nbb_cells = Jupyter.notebook.get_cells();\n                for (var i = 0; i < nbb_cells.length; ++i) {\n                    if (nbb_cells[i].input_prompt_number == nbb_cell_id) {\n                        if (nbb_cells[i].get_text() == nbb_unformatted_code) {\n                             nbb_cells[i].set_text(nbb_formatted_code);\n                        }\n                        break;\n                    }\n                }\n            }, 500);\n            "
     },
     "metadata": {}
    }
   ],
   "source": [
    "sorted(env.dead)"
   ]
  },
  {
   "cell_type": "code",
   "execution_count": 61,
   "metadata": {},
   "outputs": [
    {
     "output_type": "execute_result",
     "data": {
      "text/plain": [
       "[(0, 73),\n",
       " (0, 167),\n",
       " (0, 189),\n",
       " (1, 32),\n",
       " (1, 34),\n",
       " (2, 25),\n",
       " (3, 115),\n",
       " (4, 105),\n",
       " (5, 19),\n",
       " (7, 185),\n",
       " (8, 27),\n",
       " (8, 130),\n",
       " (10, 140),\n",
       " (12, 58),\n",
       " (12, 74),\n",
       " (12, 166),\n",
       " (14, 107),\n",
       " (15, 17),\n",
       " (15, 28),\n",
       " (17, 76),\n",
       " (18, 6),\n",
       " (21, 89),\n",
       " (21, 151),\n",
       " (22, 82),\n",
       " (23, 186),\n",
       " (26, 9),\n",
       " (29, 119),\n",
       " (30, 137),\n",
       " (31, 164),\n",
       " (35, 71),\n",
       " (36, 69),\n",
       " (37, 134),\n",
       " (39, 157),\n",
       " (40, 91),\n",
       " (41, 8),\n",
       " (41, 128),\n",
       " (42, 12),\n",
       " (43, 156),\n",
       " (43, 168),\n",
       " (44, 173),\n",
       " (45, 132),\n",
       " (45, 139),\n",
       " (47, 13),\n",
       " (47, 187),\n",
       " (49, 149),\n",
       " (50, 36),\n",
       " (50, 178),\n",
       " (51, 29),\n",
       " (51, 54),\n",
       " (51, 141),\n",
       " (51, 188),\n",
       " (52, 99),\n",
       " (53, 7),\n",
       " (53, 172),\n",
       " (54, 18),\n",
       " (55, 1),\n",
       " (55, 59),\n",
       " (55, 68),\n",
       " (56, 174),\n",
       " (57, 114),\n",
       " (59, 87),\n",
       " (61, 81),\n",
       " (62, 135),\n",
       " (62, 158),\n",
       " (62, 160),\n",
       " (63, 51),\n",
       " (63, 78),\n",
       " (63, 98),\n",
       " (63, 103),\n",
       " (63, 124),\n",
       " (64, 57),\n",
       " (64, 153),\n",
       " (64, 179),\n",
       " (65, 53),\n",
       " (65, 84),\n",
       " (65, 90),\n",
       " (65, 108),\n",
       " (67, 148),\n",
       " (70, 10),\n",
       " (70, 14),\n",
       " (70, 131),\n",
       " (70, 133),\n",
       " (74, 106),\n",
       " (77, 39),\n",
       " (77, 86),\n",
       " (81, 150),\n",
       " (81, 180),\n",
       " (85, 155),\n",
       " (88, 46),\n",
       " (89, 129),\n",
       " (90, 33),\n",
       " (92, 112),\n",
       " (93, 26),\n",
       " (94, 22),\n",
       " (94, 35),\n",
       " (94, 147),\n",
       " (95, 83),\n",
       " (96, 75),\n",
       " (101, 44),\n",
       " (102, 52),\n",
       " (103, 183),\n",
       " (104, 60),\n",
       " (108, 0),\n",
       " (108, 171),\n",
       " (109, 104),\n",
       " (113, 96),\n",
       " (114, 16),\n",
       " (114, 41),\n",
       " (117, 97),\n",
       " (117, 142),\n",
       " (117, 144),\n",
       " (117, 169),\n",
       " (118, 40),\n",
       " (120, 165),\n",
       " (122, 154),\n",
       " (125, 67),\n",
       " (127, 120),\n",
       " (127, 177),\n",
       " (133, 88),\n",
       " (133, 123),\n",
       " (138, 56),\n",
       " (139, 161),\n",
       " (144, 11),\n",
       " (144, 20),\n",
       " (144, 45),\n",
       " (145, 102),\n",
       " (145, 143),\n",
       " (145, 162),\n",
       " (146, 2),\n",
       " (146, 72),\n",
       " (146, 117),\n",
       " (146, 122),\n",
       " (146, 159),\n",
       " (152, 61),\n",
       " (152, 85),\n",
       " (152, 101),\n",
       " (153, 111),\n",
       " (158, 80),\n",
       " (160, 3),\n",
       " (160, 79),\n",
       " (160, 138),\n",
       " (164, 126),\n",
       " (166, 48),\n",
       " (166, 94),\n",
       " (168, 5),\n",
       " (168, 30),\n",
       " (170, 127),\n",
       " (172, 49),\n",
       " (172, 95),\n",
       " (173, 163),\n",
       " (175, 110),\n",
       " (176, 31),\n",
       " (176, 170),\n",
       " (181, 24),\n",
       " (181, 92),\n",
       " (181, 93),\n",
       " (182, 121),\n",
       " (182, 176),\n",
       " (187, 100),\n",
       " (187, 118),\n",
       " (187, 181)]"
      ]
     },
     "metadata": {},
     "execution_count": 61
    },
    {
     "output_type": "display_data",
     "data": {
      "text/plain": "<IPython.core.display.Javascript object>",
      "application/javascript": "\n            setTimeout(function() {\n                var nbb_cell_id = 61;\n                var nbb_unformatted_code = \"sorted(env.friends)\";\n                var nbb_formatted_code = \"sorted(env.friends)\";\n                var nbb_cells = Jupyter.notebook.get_cells();\n                for (var i = 0; i < nbb_cells.length; ++i) {\n                    if (nbb_cells[i].input_prompt_number == nbb_cell_id) {\n                        if (nbb_cells[i].get_text() == nbb_unformatted_code) {\n                             nbb_cells[i].set_text(nbb_formatted_code);\n                        }\n                        break;\n                    }\n                }\n            }, 500);\n            "
     },
     "metadata": {}
    }
   ],
   "source": [
    "sorted(env.friends)"
   ]
  },
  {
   "cell_type": "code",
   "execution_count": 62,
   "metadata": {},
   "outputs": [
    {
     "output_type": "execute_result",
     "data": {
      "text/plain": [
       "array([ 0.,  0.,  0.,  0.,  1.,  0.,  0.,  0.,  0.,  0.,  0.,  0.,  0.,\n",
       "        0.,  0.,  6.,  0.,  0.,  0.,  0.,  0.,  4.,  0.,  1.,  0.,  0.,\n",
       "        0.,  0.,  0.,  0.,  0.,  0.,  0.,  0.,  0.,  0.,  0.,  1.,  0.,\n",
       "        0.,  0.,  0., 16.,  9.,  0.,  0.,  0., 16.,  0.,  0.,  3.,  0.,\n",
       "        0.,  0.,  0., 10.,  0.,  0.,  0.,  0.,  0.,  0., 10.,  9., 17.,\n",
       "       20.,  0.,  0.,  0.,  0.,  9.,  0.,  0.,  0.,  0.,  0.,  0.,  6.,\n",
       "        0.,  0.,  0.,  0.,  0.,  0.,  0.,  0.,  0.,  0.,  0.,  0.,  0.,\n",
       "        0.,  0.,  0.,  0.,  0.,  0.,  0.,  0.,  0.,  0.,  0.,  0.,  0.,\n",
       "        0.,  0.,  0.,  0.,  0.,  2.,  0.,  0.,  0.,  3.,  0.,  0.,  2.,\n",
       "        0.,  0.,  0.,  0.,  0.,  0.,  0.,  0.,  3.,  0.,  0.,  0.,  0.,\n",
       "        0.,  0.,  0.,  0.,  0.,  0.,  0.,  0.,  0.,  0.,  0.,  0.,  0.,\n",
       "        0.,  0., 10., 20.,  0.,  0.,  0.,  0.,  0.,  8.,  0.,  0.,  0.,\n",
       "        0.,  0.,  0.,  0.,  0.,  0.,  0.,  0.,  0.,  0.,  0.,  0.,  0.,\n",
       "        0.,  0.,  0.,  0.,  0.,  0.,  1.,  0.,  0.,  0.,  0.,  0.,  0.,\n",
       "        3.,  0.,  0.,  0.,  0.,  0.,  0.,  0.])"
      ]
     },
     "metadata": {},
     "execution_count": 62
    },
    {
     "output_type": "display_data",
     "data": {
      "text/plain": "<IPython.core.display.Javascript object>",
      "application/javascript": "\n            setTimeout(function() {\n                var nbb_cell_id = 62;\n                var nbb_unformatted_code = \"env.values\";\n                var nbb_formatted_code = \"env.values\";\n                var nbb_cells = Jupyter.notebook.get_cells();\n                for (var i = 0; i < nbb_cells.length; ++i) {\n                    if (nbb_cells[i].input_prompt_number == nbb_cell_id) {\n                        if (nbb_cells[i].get_text() == nbb_unformatted_code) {\n                             nbb_cells[i].set_text(nbb_formatted_code);\n                        }\n                        break;\n                    }\n                }\n            }, 500);\n            "
     },
     "metadata": {}
    }
   ],
   "source": [
    "env.values"
   ]
  },
  {
   "cell_type": "code",
   "execution_count": null,
   "metadata": {},
   "outputs": [],
   "source": []
  },
  {
   "cell_type": "code",
   "execution_count": null,
   "metadata": {},
   "outputs": [],
   "source": []
  }
 ]
}