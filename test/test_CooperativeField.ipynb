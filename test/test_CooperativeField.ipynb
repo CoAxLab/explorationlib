{
 "metadata": {
  "language_info": {
   "codemirror_mode": {
    "name": "ipython",
    "version": 3
   },
   "file_extension": ".py",
   "mimetype": "text/x-python",
   "name": "python",
   "nbconvert_exporter": "python",
   "pygments_lexer": "ipython3",
   "version": "3.6.7-final"
  },
  "orig_nbformat": 2,
  "kernelspec": {
   "name": "python3",
   "display_name": "Python 3",
   "language": "python"
  }
 },
 "nbformat": 4,
 "nbformat_minor": 2,
 "cells": [
  {
   "source": [
    "# Test - moving targets - CooperativeField\n",
    "Predators hunting prey, who can team up to present a smaller target at the cost of greater visibility."
   ],
   "cell_type": "markdown",
   "metadata": {}
  },
  {
   "cell_type": "code",
   "execution_count": 24,
   "metadata": {},
   "outputs": [
    {
     "output_type": "display_data",
     "data": {
      "text/plain": "<IPython.core.display.Javascript object>",
      "application/javascript": "\n            setTimeout(function() {\n                var nbb_cell_id = 24;\n                var nbb_unformatted_code = \"import shutil\\nimport glob\\nimport os\\n\\nimport numpy as np\\nimport pandas as pd\\nimport seaborn as sns\\nimport matplotlib.pyplot as plt\\n\\nimport explorationlib\\nfrom explorationlib.agent import Diffusion2d\\nfrom explorationlib.agent import DiffusionDiscrete\\nfrom explorationlib.agent import DiffusionGrid\\n\\nfrom explorationlib.local_gym import uniform_targets\\nfrom explorationlib.local_gym import constant_values\\nfrom explorationlib.local_gym import CooperativeGrid\\n\\nfrom explorationlib.run import multi_experiment\\nfrom explorationlib.util import select_exp\\nfrom explorationlib.util import select_agent\\nfrom explorationlib.util import load\\nfrom explorationlib.util import save\\n\\nfrom explorationlib.plot import plot_position2d\\nfrom explorationlib.plot import plot_positions2d\\nfrom explorationlib.plot import plot_length_hist\\nfrom explorationlib.plot import plot_length\\nfrom explorationlib.plot import plot_targets2d\\nfrom explorationlib.plot import show_gif\\n\\nfrom explorationlib import score\\nfrom explorationlib.score import search_efficiency\\nfrom explorationlib.score import first_reward\\nfrom explorationlib.score import total_reward\";\n                var nbb_formatted_code = \"import shutil\\nimport glob\\nimport os\\n\\nimport numpy as np\\nimport pandas as pd\\nimport seaborn as sns\\nimport matplotlib.pyplot as plt\\n\\nimport explorationlib\\nfrom explorationlib.agent import Diffusion2d\\nfrom explorationlib.agent import DiffusionDiscrete\\nfrom explorationlib.agent import DiffusionGrid\\n\\nfrom explorationlib.local_gym import uniform_targets\\nfrom explorationlib.local_gym import constant_values\\nfrom explorationlib.local_gym import CooperativeGrid\\n\\nfrom explorationlib.run import multi_experiment\\nfrom explorationlib.util import select_exp\\nfrom explorationlib.util import select_agent\\nfrom explorationlib.util import load\\nfrom explorationlib.util import save\\n\\nfrom explorationlib.plot import plot_position2d\\nfrom explorationlib.plot import plot_positions2d\\nfrom explorationlib.plot import plot_length_hist\\nfrom explorationlib.plot import plot_length\\nfrom explorationlib.plot import plot_targets2d\\nfrom explorationlib.plot import show_gif\\n\\nfrom explorationlib import score\\nfrom explorationlib.score import search_efficiency\\nfrom explorationlib.score import first_reward\\nfrom explorationlib.score import total_reward\";\n                var nbb_cells = Jupyter.notebook.get_cells();\n                for (var i = 0; i < nbb_cells.length; ++i) {\n                    if (nbb_cells[i].input_prompt_number == nbb_cell_id) {\n                        if (nbb_cells[i].get_text() == nbb_unformatted_code) {\n                             nbb_cells[i].set_text(nbb_formatted_code);\n                        }\n                        break;\n                    }\n                }\n            }, 500);\n            "
     },
     "metadata": {}
    }
   ],
   "source": [
    "import shutil\n",
    "import glob\n",
    "import os\n",
    "\n",
    "import numpy as np\n",
    "import pandas as pd\n",
    "import seaborn as sns\n",
    "import matplotlib.pyplot as plt\n",
    "\n",
    "import explorationlib\n",
    "from explorationlib.agent import Diffusion2d\n",
    "from explorationlib.agent import DiffusionDiscrete\n",
    "from explorationlib.agent import DiffusionGrid\n",
    "\n",
    "from explorationlib.local_gym import uniform_targets\n",
    "from explorationlib.local_gym import constant_values\n",
    "from explorationlib.local_gym import CooperativeGrid\n",
    "\n",
    "from explorationlib.run import multi_experiment\n",
    "from explorationlib.util import select_exp\n",
    "from explorationlib.util import select_agent\n",
    "from explorationlib.util import load\n",
    "from explorationlib.util import save\n",
    "\n",
    "from explorationlib.plot import plot_position2d\n",
    "from explorationlib.plot import plot_positions2d\n",
    "from explorationlib.plot import plot_length_hist\n",
    "from explorationlib.plot import plot_length\n",
    "from explorationlib.plot import plot_targets2d\n",
    "from explorationlib.plot import show_gif\n",
    "\n",
    "from explorationlib import score\n",
    "from explorationlib.score import search_efficiency\n",
    "from explorationlib.score import first_reward\n",
    "from explorationlib.score import total_reward"
   ]
  },
  {
   "cell_type": "code",
   "execution_count": 26,
   "metadata": {},
   "outputs": [
    {
     "output_type": "stream",
     "name": "stdout",
     "text": [
      "The nb_black extension is already loaded. To reload it, use:\n  %reload_ext nb_black\nThe autoreload extension is already loaded. To reload it, use:\n  %reload_ext autoreload\n"
     ]
    },
    {
     "output_type": "display_data",
     "data": {
      "text/plain": "<IPython.core.display.Javascript object>",
      "application/javascript": "\n            setTimeout(function() {\n                var nbb_cell_id = 26;\n                var nbb_unformatted_code = \"# Pretty plots\\n%matplotlib inline\\n%config InlineBackend.figure_format='retina'\\n%config IPCompleter.greedy=True\\n\\nplt.rcParams[\\\"axes.facecolor\\\"] = \\\"white\\\"\\nplt.rcParams[\\\"figure.facecolor\\\"] = \\\"white\\\"\\nplt.rcParams[\\\"font.size\\\"] = \\\"16\\\"\\n\\n# Uncomment for local development\\n%load_ext nb_black\\n%load_ext autoreload\\n%autoreload 2\";\n                var nbb_formatted_code = \"# Pretty plots\\n%matplotlib inline\\n%config InlineBackend.figure_format='retina'\\n%config IPCompleter.greedy=True\\n\\nplt.rcParams[\\\"axes.facecolor\\\"] = \\\"white\\\"\\nplt.rcParams[\\\"figure.facecolor\\\"] = \\\"white\\\"\\nplt.rcParams[\\\"font.size\\\"] = \\\"16\\\"\\n\\n# Uncomment for local development\\n%load_ext nb_black\\n%load_ext autoreload\\n%autoreload 2\";\n                var nbb_cells = Jupyter.notebook.get_cells();\n                for (var i = 0; i < nbb_cells.length; ++i) {\n                    if (nbb_cells[i].input_prompt_number == nbb_cell_id) {\n                        if (nbb_cells[i].get_text() == nbb_unformatted_code) {\n                             nbb_cells[i].set_text(nbb_formatted_code);\n                        }\n                        break;\n                    }\n                }\n            }, 500);\n            "
     },
     "metadata": {}
    }
   ],
   "source": [
    "# Pretty plots\n",
    "%matplotlib inline\n",
    "%config InlineBackend.figure_format='retina'\n",
    "%config IPCompleter.greedy=True\n",
    "\n",
    "plt.rcParams[\"axes.facecolor\"] = \"white\"\n",
    "plt.rcParams[\"figure.facecolor\"] = \"white\"\n",
    "plt.rcParams[\"font.size\"] = \"16\"\n",
    "\n",
    "# Uncomment for local development\n",
    "%load_ext nb_black\n",
    "%load_ext autoreload\n",
    "%autoreload 2"
   ]
  },
  {
   "source": [
    "# 10 pred, 190 preys"
   ],
   "cell_type": "markdown",
   "metadata": {}
  },
  {
   "source": [
    "# How long to run? Longer is better, but slower.\n",
    "num_steps = 40\n",
    "num_experiments = 1\n",
    "\n",
    "num_agents = 200\n",
    "num_targets = 190 # aka friends\n",
    "target_index = list(range(0, num_targets))\n",
    "\n",
    "detection_radius =  1\n",
    "p_target = 0.5\n",
    "\n",
    "friend_radius =  2\n",
    "p_friend = 1.0\n",
    "\n",
    "# Intial size of 'box' targets\n",
    "# start in.\n",
    "target_boundary = (10, 10)\n",
    "min_length = 1\n",
    "step_size = 1\n",
    "\n",
    "# Create env \n",
    "env = CooperativeGrid(num_agents=num_agents)\n",
    "\n",
    "# Preds and preys\n",
    "scale = 2\n",
    "agents = [DiffusionGrid(scale=scale) for _ in range(num_agents)]\n",
    "\n",
    "# Intial target locations\n",
    "targets = uniform_targets(num_targets, target_boundary)\n",
    "values = constant_values(targets, 1.0)\n",
    "\n",
    "# Register target locations\n",
    "env.add_targets(\n",
    "    target_index, \n",
    "    targets, \n",
    "    values, \n",
    "    detection_radius=detection_radius,\n",
    "    friend_radius=friend_radius,\n",
    "    p_target=p_target,\n",
    "    p_friend=p_friend\n",
    ")\n",
    "\n",
    "# Run!\n",
    "comp_exp = multi_experiment(\n",
    "    f\"test_comp\",\n",
    "    agents, \n",
    "    env,\n",
    "    num_steps=num_steps,\n",
    "    num_experiments=num_experiments,\n",
    "    seed=404,\n",
    "    split_state=False,\n",
    "    dump=False\n",
    ")"
   ],
   "cell_type": "code",
   "metadata": {
    "tags": []
   },
   "execution_count": 28,
   "outputs": [
    {
     "output_type": "stream",
     "name": "stderr",
     "text": [
      "test_comp: 100%|██████████| 1/1 [00:03<00:00,  3.85s/it]\n"
     ]
    },
    {
     "output_type": "display_data",
     "data": {
      "text/plain": "<IPython.core.display.Javascript object>",
      "application/javascript": "\n            setTimeout(function() {\n                var nbb_cell_id = 28;\n                var nbb_unformatted_code = \"# How long to run? Longer is better, but slower.\\nnum_steps = 40\\nnum_experiments = 1\\n\\nnum_agents = 200\\nnum_targets = 190 # aka friends\\ntarget_index = list(range(0, num_targets))\\n\\ndetection_radius =  1\\np_target = 0.5\\n\\nfriend_radius =  2\\np_friend = 1.0\\n\\n# Intial size of 'box' targets\\n# start in.\\ntarget_boundary = (10, 10)\\nmin_length = 1\\nstep_size = 1\\n\\n# Create env \\nenv = CooperativeGrid(num_agents=num_agents)\\n\\n# Preds and preys\\nscale = 2\\nagents = [DiffusionGrid(scale=scale) for _ in range(num_agents)]\\n\\n# Intial target locations\\ntargets = uniform_targets(num_targets, target_boundary)\\nvalues = constant_values(targets, 1.0)\\n\\n# Register target locations\\nenv.add_targets(\\n    target_index, \\n    targets, \\n    values, \\n    detection_radius=detection_radius,\\n    friend_radius=friend_radius,\\n    p_target=p_target,\\n    p_friend=p_friend\\n)\\n\\n# Run!\\ncomp_exp = multi_experiment(\\n    f\\\"test_comp\\\",\\n    agents, \\n    env,\\n    num_steps=num_steps,\\n    num_experiments=num_experiments,\\n    seed=404,\\n    split_state=False,\\n    dump=False\\n)\";\n                var nbb_formatted_code = \"# How long to run? Longer is better, but slower.\\nnum_steps = 40\\nnum_experiments = 1\\n\\nnum_agents = 200\\nnum_targets = 190  # aka friends\\ntarget_index = list(range(0, num_targets))\\n\\ndetection_radius = 1\\np_target = 0.5\\n\\nfriend_radius = 2\\np_friend = 1.0\\n\\n# Intial size of 'box' targets\\n# start in.\\ntarget_boundary = (10, 10)\\nmin_length = 1\\nstep_size = 1\\n\\n# Create env\\nenv = CooperativeGrid(num_agents=num_agents)\\n\\n# Preds and preys\\nscale = 2\\nagents = [DiffusionGrid(scale=scale) for _ in range(num_agents)]\\n\\n# Intial target locations\\ntargets = uniform_targets(num_targets, target_boundary)\\nvalues = constant_values(targets, 1.0)\\n\\n# Register target locations\\nenv.add_targets(\\n    target_index,\\n    targets,\\n    values,\\n    detection_radius=detection_radius,\\n    friend_radius=friend_radius,\\n    p_target=p_target,\\n    p_friend=p_friend,\\n)\\n\\n# Run!\\ncomp_exp = multi_experiment(\\n    f\\\"test_comp\\\",\\n    agents,\\n    env,\\n    num_steps=num_steps,\\n    num_experiments=num_experiments,\\n    seed=404,\\n    split_state=False,\\n    dump=False,\\n)\";\n                var nbb_cells = Jupyter.notebook.get_cells();\n                for (var i = 0; i < nbb_cells.length; ++i) {\n                    if (nbb_cells[i].input_prompt_number == nbb_cell_id) {\n                        if (nbb_cells[i].get_text() == nbb_unformatted_code) {\n                             nbb_cells[i].set_text(nbb_formatted_code);\n                        }\n                        break;\n                    }\n                }\n            }, 500);\n            "
     },
     "metadata": {}
    }
   ]
  },
  {
   "cell_type": "code",
   "execution_count": 30,
   "metadata": {},
   "outputs": [
    {
     "output_type": "stream",
     "name": "stdout",
     "text": [
      ">>> Target index : [0, 1, 2, 3, 4, 5, 6, 7, 8, 9, 10, 11, 12, 13, 14, 15, 16, 17, 18, 19, 20, 21, 22, 23, 24, 25, 26, 27, 28, 29, 30, 31, 32, 33, 34, 35, 36, 37, 38, 39, 40, 41, 42, 43, 44, 45, 46, 47, 48, 49, 50, 51, 52, 53, 54, 55, 56, 57, 58, 59, 60, 61, 62, 63, 64, 65, 66, 67, 68, 69, 70, 71, 72, 73, 74, 75, 76, 77, 78, 79, 80, 81, 82, 83, 84, 85, 86, 87, 88, 89, 90, 91, 92, 93, 94, 95, 96, 97, 98, 99, 100, 101, 102, 103, 104, 105, 106, 107, 108, 109, 110, 111, 112, 113, 114, 115, 116, 117, 118, 119, 120, 121, 122, 123, 124, 125, 126, 127, 128, 129, 130, 131, 132, 133, 134, 135, 136, 137, 138, 139, 140, 141, 142, 143, 144, 145, 146, 147, 148, 149, 150, 151, 152, 153, 154, 155, 156, 157, 158, 159, 160, 161, 162, 163, 164, 165, 166, 167, 168, 169, 170, 171, 172, 173, 174, 175, 176, 177, 178, 179, 180, 181, 182, 183, 184, 185, 186, 187, 188, 189]\n"
     ]
    },
    {
     "output_type": "display_data",
     "data": {
      "text/plain": "<IPython.core.display.Javascript object>",
      "application/javascript": "\n            setTimeout(function() {\n                var nbb_cell_id = 30;\n                var nbb_unformatted_code = \"print(f\\\">>> Target index : {target_index}\\\")\";\n                var nbb_formatted_code = \"print(f\\\">>> Target index : {target_index}\\\")\";\n                var nbb_cells = Jupyter.notebook.get_cells();\n                for (var i = 0; i < nbb_cells.length; ++i) {\n                    if (nbb_cells[i].input_prompt_number == nbb_cell_id) {\n                        if (nbb_cells[i].get_text() == nbb_unformatted_code) {\n                             nbb_cells[i].set_text(nbb_formatted_code);\n                        }\n                        break;\n                    }\n                }\n            }, 500);\n            "
     },
     "metadata": {}
    }
   ],
   "source": [
    "print(f\">>> Target index : {target_index}\")"
   ]
  },
  {
   "cell_type": "code",
   "execution_count": 32,
   "metadata": {},
   "outputs": [
    {
     "output_type": "display_data",
     "data": {
      "text/plain": "<Figure size 216x216 with 1 Axes>",
      "image/png": "[encoded data removed]"
     },
     "metadata": {
      "image/png": {
       "width": 368,
       "height": 219
      }
     }
    },
    {
     "output_type": "display_data",
     "data": {
      "text/plain": "<IPython.core.display.Javascript object>",
      "application/javascript": "\n            setTimeout(function() {\n                var nbb_cell_id = 32;\n                var nbb_unformatted_code = \"num_experiment = 0\\nnum_agent = 0\\nplot_boundary = (50, 50)\\n\\n# Example bout\\nax = None\\nax = plot_positions2d(\\n    select_exp(comp_exp, num_experiment),\\n    num_agents,\\n    boundary=plot_boundary,\\n    # labels=[\\\"Prey 1\\\", \\\"Prey 2\\\", \\\"Pred\\\"],\\n    colors=None,\\n    alpha=0.3,\\n    figsize=(3, 3),\\n)\\nax = plot_targets2d(\\n    env,\\n    boundary=plot_boundary,\\n    color=\\\"black\\\",\\n    alpha=1,\\n    label=\\\"Targets\\\",\\n    ax=ax,\\n)\";\n                var nbb_formatted_code = \"num_experiment = 0\\nnum_agent = 0\\nplot_boundary = (50, 50)\\n\\n# Example bout\\nax = None\\nax = plot_positions2d(\\n    select_exp(comp_exp, num_experiment),\\n    num_agents,\\n    boundary=plot_boundary,\\n    # labels=[\\\"Prey 1\\\", \\\"Prey 2\\\", \\\"Pred\\\"],\\n    colors=None,\\n    alpha=0.3,\\n    figsize=(3, 3),\\n)\\nax = plot_targets2d(\\n    env,\\n    boundary=plot_boundary,\\n    color=\\\"black\\\",\\n    alpha=1,\\n    label=\\\"Targets\\\",\\n    ax=ax,\\n)\";\n                var nbb_cells = Jupyter.notebook.get_cells();\n                for (var i = 0; i < nbb_cells.length; ++i) {\n                    if (nbb_cells[i].input_prompt_number == nbb_cell_id) {\n                        if (nbb_cells[i].get_text() == nbb_unformatted_code) {\n                             nbb_cells[i].set_text(nbb_formatted_code);\n                        }\n                        break;\n                    }\n                }\n            }, 500);\n            "
     },
     "metadata": {}
    }
   ],
   "source": [
    "num_experiment = 0\n",
    "num_agent = 0\n",
    "plot_boundary = (50, 50)\n",
    "\n",
    "# Example bout\n",
    "ax = None\n",
    "ax = plot_positions2d(\n",
    "    select_exp(comp_exp, num_experiment),\n",
    "    num_agents,\n",
    "    boundary=plot_boundary,\n",
    "    # labels=[\"Prey 1\", \"Prey 2\", \"Pred\"],\n",
    "    colors=None,\n",
    "    alpha=0.3,\n",
    "    figsize=(3, 3),\n",
    ")\n",
    "ax = plot_targets2d(\n",
    "    env,\n",
    "    boundary=plot_boundary,\n",
    "    color=\"black\",\n",
    "    alpha=1,\n",
    "    label=\"Targets\",\n",
    "    ax=ax,\n",
    ")"
   ]
  },
  {
   "cell_type": "code",
   "execution_count": 34,
   "metadata": {},
   "outputs": [
    {
     "output_type": "stream",
     "name": "stderr",
     "text": [
      "total_reward: 100%|██████████| 1/1 [00:00<00:00, 412.05it/s]\n"
     ]
    },
    {
     "output_type": "execute_result",
     "data": {
      "text/plain": [
       "[86.0]"
      ]
     },
     "metadata": {},
     "execution_count": 34
    },
    {
     "output_type": "display_data",
     "data": {
      "text/plain": "<IPython.core.display.Javascript object>",
      "application/javascript": "\n            setTimeout(function() {\n                var nbb_cell_id = 34;\n                var nbb_unformatted_code = \"total_reward(comp_exp)\";\n                var nbb_formatted_code = \"total_reward(comp_exp)\";\n                var nbb_cells = Jupyter.notebook.get_cells();\n                for (var i = 0; i < nbb_cells.length; ++i) {\n                    if (nbb_cells[i].input_prompt_number == nbb_cell_id) {\n                        if (nbb_cells[i].get_text() == nbb_unformatted_code) {\n                             nbb_cells[i].set_text(nbb_formatted_code);\n                        }\n                        break;\n                    }\n                }\n            }, 500);\n            "
     },
     "metadata": {}
    }
   ],
   "source": [
    "total_reward(comp_exp)"
   ]
  },
  {
   "cell_type": "code",
   "execution_count": 36,
   "metadata": {},
   "outputs": [
    {
     "output_type": "execute_result",
     "data": {
      "text/plain": [
       "177"
      ]
     },
     "metadata": {},
     "execution_count": 36
    },
    {
     "output_type": "display_data",
     "data": {
      "text/plain": "<IPython.core.display.Javascript object>",
      "application/javascript": "\n            setTimeout(function() {\n                var nbb_cell_id = 36;\n                var nbb_unformatted_code = \"len(env.dead)\";\n                var nbb_formatted_code = \"len(env.dead)\";\n                var nbb_cells = Jupyter.notebook.get_cells();\n                for (var i = 0; i < nbb_cells.length; ++i) {\n                    if (nbb_cells[i].input_prompt_number == nbb_cell_id) {\n                        if (nbb_cells[i].get_text() == nbb_unformatted_code) {\n                             nbb_cells[i].set_text(nbb_formatted_code);\n                        }\n                        break;\n                    }\n                }\n            }, 500);\n            "
     },
     "metadata": {}
    }
   ],
   "source": [
    "len(env.dead)"
   ]
  },
  {
   "source": [
    "Print all friend events/pairs. (This is not the same as final team sizes as teams can have more than two member; parse common prefixs to get teams)"
   ],
   "cell_type": "markdown",
   "metadata": {}
  },
  {
   "cell_type": "code",
   "execution_count": 38,
   "metadata": {},
   "outputs": [
    {
     "output_type": "execute_result",
     "data": {
      "text/plain": [
       "[(0, 18),\n",
       " (0, 21),\n",
       " (2, 114),\n",
       " (2, 128),\n",
       " (4, 109),\n",
       " (5, 26),\n",
       " (9, 54),\n",
       " (10, 63),\n",
       " (10, 85),\n",
       " (11, 30),\n",
       " (11, 189),\n",
       " (12, 94),\n",
       " (12, 175),\n",
       " (15, 8),\n",
       " (15, 126),\n",
       " (15, 154),\n",
       " (16, 148),\n",
       " (17, 45),\n",
       " (19, 92),\n",
       " (22, 6),\n",
       " (22, 88),\n",
       " (23, 52),\n",
       " (23, 103),\n",
       " (23, 153),\n",
       " (24, 7),\n",
       " (25, 112),\n",
       " (27, 165),\n",
       " (28, 141),\n",
       " (28, 174),\n",
       " (30, 43),\n",
       " (32, 49),\n",
       " (34, 113),\n",
       " (35, 19),\n",
       " (35, 32),\n",
       " (35, 64),\n",
       " (35, 98),\n",
       " (37, 42),\n",
       " (38, 99),\n",
       " (38, 118),\n",
       " (39, 157),\n",
       " (39, 163),\n",
       " (40, 171),\n",
       " (41, 121),\n",
       " (41, 178),\n",
       " (44, 3),\n",
       " (45, 104),\n",
       " (46, 74),\n",
       " (47, 125),\n",
       " (48, 79),\n",
       " (48, 130),\n",
       " (50, 53),\n",
       " (50, 71),\n",
       " (50, 124),\n",
       " (51, 10),\n",
       " (52, 138),\n",
       " (55, 96),\n",
       " (55, 131),\n",
       " (57, 5),\n",
       " (59, 28),\n",
       " (59, 65),\n",
       " (59, 70),\n",
       " (60, 9),\n",
       " (60, 55),\n",
       " (60, 68),\n",
       " (61, 100),\n",
       " (64, 44),\n",
       " (64, 62),\n",
       " (65, 116),\n",
       " (66, 56),\n",
       " (66, 132),\n",
       " (67, 31),\n",
       " (67, 145),\n",
       " (71, 155),\n",
       " (72, 149),\n",
       " (73, 20),\n",
       " (75, 2),\n",
       " (75, 29),\n",
       " (75, 97),\n",
       " (75, 120),\n",
       " (76, 41),\n",
       " (76, 127),\n",
       " (77, 111),\n",
       " (77, 142),\n",
       " (78, 1),\n",
       " (78, 133),\n",
       " (80, 164),\n",
       " (83, 17),\n",
       " (84, 122),\n",
       " (88, 36),\n",
       " (89, 183),\n",
       " (91, 82),\n",
       " (91, 108),\n",
       " (91, 143),\n",
       " (93, 84),\n",
       " (94, 123),\n",
       " (95, 37),\n",
       " (98, 87),\n",
       " (101, 48),\n",
       " (101, 173),\n",
       " (103, 107),\n",
       " (105, 59),\n",
       " (105, 102),\n",
       " (105, 185),\n",
       " (106, 50),\n",
       " (106, 158),\n",
       " (108, 24),\n",
       " (109, 137),\n",
       " (110, 40),\n",
       " (115, 156),\n",
       " (118, 146),\n",
       " (120, 83),\n",
       " (120, 89),\n",
       " (121, 72),\n",
       " (124, 152),\n",
       " (126, 22),\n",
       " (126, 38),\n",
       " (129, 4),\n",
       " (129, 144),\n",
       " (133, 81),\n",
       " (134, 34),\n",
       " (134, 161),\n",
       " (135, 150),\n",
       " (136, 162),\n",
       " (139, 76),\n",
       " (139, 180),\n",
       " (139, 182),\n",
       " (142, 27),\n",
       " (143, 179),\n",
       " (144, 14),\n",
       " (144, 115),\n",
       " (144, 117),\n",
       " (144, 187),\n",
       " (145, 160),\n",
       " (147, 60),\n",
       " (151, 23),\n",
       " (151, 46),\n",
       " (151, 95),\n",
       " (152, 11),\n",
       " (154, 13),\n",
       " (159, 61),\n",
       " (159, 80),\n",
       " (161, 58),\n",
       " (161, 90),\n",
       " (168, 66),\n",
       " (169, 15),\n",
       " (169, 73),\n",
       " (169, 136),\n",
       " (169, 166),\n",
       " (170, 135),\n",
       " (170, 188),\n",
       " (172, 110),\n",
       " (175, 119),\n",
       " (176, 134),\n",
       " (176, 147),\n",
       " (177, 78),\n",
       " (177, 93),\n",
       " (177, 101),\n",
       " (181, 25),\n",
       " (181, 33),\n",
       " (184, 167),\n",
       " (185, 16),\n",
       " (186, 47),\n",
       " (186, 172)]"
      ]
     },
     "metadata": {},
     "execution_count": 38
    },
    {
     "output_type": "display_data",
     "data": {
      "text/plain": "<IPython.core.display.Javascript object>",
      "application/javascript": "\n            setTimeout(function() {\n                var nbb_cell_id = 38;\n                var nbb_unformatted_code = \"sorted(env.friends)\";\n                var nbb_formatted_code = \"sorted(env.friends)\";\n                var nbb_cells = Jupyter.notebook.get_cells();\n                for (var i = 0; i < nbb_cells.length; ++i) {\n                    if (nbb_cells[i].input_prompt_number == nbb_cell_id) {\n                        if (nbb_cells[i].get_text() == nbb_unformatted_code) {\n                             nbb_cells[i].set_text(nbb_formatted_code);\n                        }\n                        break;\n                    }\n                }\n            }, 500);\n            "
     },
     "metadata": {}
    }
   ],
   "source": [
    "sorted(env.friends)"
   ]
  },
  {
   "source": [
    "Any values > 0 at the end are from surviving teams"
   ],
   "cell_type": "markdown",
   "metadata": {}
  },
  {
   "cell_type": "code",
   "execution_count": 40,
   "metadata": {},
   "outputs": [
    {
     "output_type": "execute_result",
     "data": {
      "text/plain": [
       "array([ 3.,  0.,  0.,  0.,  0.,  0.,  0.,  0.,  0.,  0.,  0.,  0.,  4.,\n",
       "        0.,  0.,  0.,  0.,  0.,  0.,  0.,  0.,  0.,  0.,  0.,  0.,  0.,\n",
       "        0.,  0.,  0.,  0.,  0.,  0.,  0.,  0.,  0.,  0.,  0.,  0.,  0.,\n",
       "        0.,  0.,  0.,  0.,  0.,  0.,  0.,  0.,  0.,  0.,  0.,  0.,  0.,\n",
       "        0.,  0.,  0.,  0.,  0.,  0.,  0.,  0.,  0.,  0.,  0.,  0.,  0.,\n",
       "        0.,  0.,  0.,  0.,  0.,  0.,  0.,  0.,  0.,  0.,  0.,  0.,  4.,\n",
       "        0.,  0.,  0.,  0.,  0.,  0.,  0.,  0.,  2.,  0.,  0.,  0.,  0.,\n",
       "        0.,  0.,  0.,  0.,  0.,  0.,  0.,  0.,  0.,  0.,  0.,  0.,  0.,\n",
       "        0.,  9., 14.,  0.,  0.,  0.,  0.,  0.,  0.,  0.,  0.,  0.,  0.,\n",
       "        0.,  0.,  0.,  0.,  0.,  0.,  0.,  0.,  0.,  0.,  0.,  0., 10.,\n",
       "        0.,  0.,  0.,  0.,  0.,  0.,  0.,  0.,  0., 10.,  0.,  0.,  0.,\n",
       "        0.,  0.,  0.,  0.,  0.,  0.,  0.,  0.,  0.,  0.,  0.,  0.,  0.,\n",
       "        0.,  0.,  0.,  7.,  0.,  0.,  0.,  0.,  0.,  0.,  0.,  0.,  0.,\n",
       "       18.,  6.,  0.,  0.,  0.,  0.,  0., 15.,  0.,  0.,  0.,  0.,  2.,\n",
       "        0.,  0.,  0.,  0.,  0.,  0.,  0.,  0.])"
      ]
     },
     "metadata": {},
     "execution_count": 40
    },
    {
     "output_type": "display_data",
     "data": {
      "text/plain": "<IPython.core.display.Javascript object>",
      "application/javascript": "\n            setTimeout(function() {\n                var nbb_cell_id = 40;\n                var nbb_unformatted_code = \"env.values\";\n                var nbb_formatted_code = \"env.values\";\n                var nbb_cells = Jupyter.notebook.get_cells();\n                for (var i = 0; i < nbb_cells.length; ++i) {\n                    if (nbb_cells[i].input_prompt_number == nbb_cell_id) {\n                        if (nbb_cells[i].get_text() == nbb_unformatted_code) {\n                             nbb_cells[i].set_text(nbb_formatted_code);\n                        }\n                        break;\n                    }\n                }\n            }, 500);\n            "
     },
     "metadata": {}
    }
   ],
   "source": [
    "env.values"
   ]
  },
  {
   "source": [
    "How much value is left on the grid? How many prey are alive?"
   ],
   "cell_type": "markdown",
   "metadata": {}
  },
  {
   "cell_type": "code",
   "execution_count": 42,
   "metadata": {},
   "outputs": [
    {
     "output_type": "execute_result",
     "data": {
      "text/plain": [
       "104.0"
      ]
     },
     "metadata": {},
     "execution_count": 42
    },
    {
     "output_type": "display_data",
     "data": {
      "text/plain": "<IPython.core.display.Javascript object>",
      "application/javascript": "\n            setTimeout(function() {\n                var nbb_cell_id = 42;\n                var nbb_unformatted_code = \"sum(env.values)\";\n                var nbb_formatted_code = \"sum(env.values)\";\n                var nbb_cells = Jupyter.notebook.get_cells();\n                for (var i = 0; i < nbb_cells.length; ++i) {\n                    if (nbb_cells[i].input_prompt_number == nbb_cell_id) {\n                        if (nbb_cells[i].get_text() == nbb_unformatted_code) {\n                             nbb_cells[i].set_text(nbb_formatted_code);\n                        }\n                        break;\n                    }\n                }\n            }, 500);\n            "
     },
     "metadata": {}
    }
   ],
   "source": [
    "sum(env.values)"
   ]
  },
  {
   "source": [
    "How many rewards? Same question as, how many prey were eaten?"
   ],
   "cell_type": "markdown",
   "metadata": {}
  },
  {
   "cell_type": "code",
   "execution_count": 44,
   "metadata": {},
   "outputs": [
    {
     "output_type": "execute_result",
     "data": {
      "text/plain": [
       "86.0"
      ]
     },
     "metadata": {},
     "execution_count": 44
    },
    {
     "output_type": "display_data",
     "data": {
      "text/plain": "<IPython.core.display.Javascript object>",
      "application/javascript": "\n            setTimeout(function() {\n                var nbb_cell_id = 44;\n                var nbb_unformatted_code = \"sum(comp_exp[0][\\\"exp_reward\\\"])\";\n                var nbb_formatted_code = \"sum(comp_exp[0][\\\"exp_reward\\\"])\";\n                var nbb_cells = Jupyter.notebook.get_cells();\n                for (var i = 0; i < nbb_cells.length; ++i) {\n                    if (nbb_cells[i].input_prompt_number == nbb_cell_id) {\n                        if (nbb_cells[i].get_text() == nbb_unformatted_code) {\n                             nbb_cells[i].set_text(nbb_formatted_code);\n                        }\n                        break;\n                    }\n                }\n            }, 500);\n            "
     },
     "metadata": {}
    }
   ],
   "source": [
    "sum(comp_exp[0][\"exp_reward\"])"
   ]
  },
  {
   "source": [
    "How many teams/prey are left"
   ],
   "cell_type": "markdown",
   "metadata": {}
  },
  {
   "cell_type": "code",
   "execution_count": 45,
   "metadata": {},
   "outputs": [
    {
     "output_type": "stream",
     "name": "stdout",
     "text": [
      "13\n"
     ]
    },
    {
     "output_type": "display_data",
     "data": {
      "text/plain": "<IPython.core.display.Javascript object>",
      "application/javascript": "\n            setTimeout(function() {\n                var nbb_cell_id = 45;\n                var nbb_unformatted_code = \"num_teams = np.sum(np.array(env.values) > 0)\\nprint(num_teams)\";\n                var nbb_formatted_code = \"num_teams = np.sum(np.array(env.values) > 0)\\nprint(num_teams)\";\n                var nbb_cells = Jupyter.notebook.get_cells();\n                for (var i = 0; i < nbb_cells.length; ++i) {\n                    if (nbb_cells[i].input_prompt_number == nbb_cell_id) {\n                        if (nbb_cells[i].get_text() == nbb_unformatted_code) {\n                             nbb_cells[i].set_text(nbb_formatted_code);\n                        }\n                        break;\n                    }\n                }\n            }, 500);\n            "
     },
     "metadata": {}
    }
   ],
   "source": [
    "num_teams = np.sum(np.array(env.values) > 0)\n",
    "print(num_teams)"
   ]
  },
  {
   "source": [
    "Check that (num prey alive matches + num eaten) matches num_targets."
   ],
   "cell_type": "markdown",
   "metadata": {}
  },
  {
   "cell_type": "code",
   "execution_count": 46,
   "metadata": {},
   "outputs": [
    {
     "output_type": "display_data",
     "data": {
      "text/plain": "<IPython.core.display.Javascript object>",
      "application/javascript": "\n            setTimeout(function() {\n                var nbb_cell_id = 46;\n                var nbb_unformatted_code = \"num_eaten = sum(comp_exp[0][\\\"exp_reward\\\"])\\nnum_alive = sum(env.values)\\n\\nassert num_targets == (num_alive + num_eaten)\";\n                var nbb_formatted_code = \"num_eaten = sum(comp_exp[0][\\\"exp_reward\\\"])\\nnum_alive = sum(env.values)\\n\\nassert num_targets == (num_alive + num_eaten)\";\n                var nbb_cells = Jupyter.notebook.get_cells();\n                for (var i = 0; i < nbb_cells.length; ++i) {\n                    if (nbb_cells[i].input_prompt_number == nbb_cell_id) {\n                        if (nbb_cells[i].get_text() == nbb_unformatted_code) {\n                             nbb_cells[i].set_text(nbb_formatted_code);\n                        }\n                        break;\n                    }\n                }\n            }, 500);\n            "
     },
     "metadata": {}
    }
   ],
   "source": [
    "num_eaten = sum(comp_exp[0][\"exp_reward\"])\n",
    "num_alive = sum(env.values)\n",
    "\n",
    "assert num_targets == (num_alive + num_eaten)"
   ]
  },
  {
   "cell_type": "code",
   "execution_count": null,
   "metadata": {},
   "outputs": [],
   "source": []
  }
 ]
}