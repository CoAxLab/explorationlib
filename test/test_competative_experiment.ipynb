{
 "metadata": {
  "language_info": {
   "codemirror_mode": {
    "name": "ipython",
    "version": 3
   },
   "file_extension": ".py",
   "mimetype": "text/x-python",
   "name": "python",
   "nbconvert_exporter": "python",
   "pygments_lexer": "ipython3",
   "version": "3.6.7-final"
  },
  "orig_nbformat": 2,
  "kernelspec": {
   "name": "python3",
   "display_name": "Python 3.6.7 64-bit ('py3.6': conda)",
   "metadata": {
    "interpreter": {
     "hash": "5c0fa7a4f8f1487a2aac67eb43e7b2e553808a81f9be50af9e1ab194481cfe22"
    }
   }
  }
 },
 "nbformat": 4,
 "nbformat_minor": 2,
 "cells": [
  {
   "source": [
    "# Test - moving targets"
   ],
   "cell_type": "markdown",
   "metadata": {}
  },
  {
   "cell_type": "code",
   "execution_count": 1,
   "metadata": {},
   "outputs": [
    {
     "output_type": "stream",
     "name": "stdout",
     "text": [
      "pygame 2.0.1 (SDL 2.0.14, Python 3.6.7)\nHello from the pygame community. https://www.pygame.org/contribute.html\n"
     ]
    }
   ],
   "source": [
    "import shutil\n",
    "import glob\n",
    "import os\n",
    "\n",
    "import numpy as np\n",
    "import pandas as pd\n",
    "import seaborn as sns\n",
    "import matplotlib.pyplot as plt\n",
    "\n",
    "import explorationlib\n",
    "from explorationlib.agent import Diffusion2d\n",
    "from explorationlib.agent import DiffusionDiscrete\n",
    "\n",
    "from explorationlib.local_gym import uniform_targets\n",
    "from explorationlib.local_gym import constant_values\n",
    "from explorationlib.local_gym import CompetitiveField\n",
    "\n",
    "from explorationlib.run import multi_experiment\n",
    "from explorationlib.util import select_exp\n",
    "from explorationlib.util import select_agent\n",
    "from explorationlib.util import load\n",
    "from explorationlib.util import save\n",
    "\n",
    "from explorationlib.plot import plot_position2d\n",
    "from explorationlib.plot import plot_positions2d\n",
    "from explorationlib.plot import plot_length_hist\n",
    "from explorationlib.plot import plot_length\n",
    "from explorationlib.plot import plot_targets2d\n",
    "from explorationlib.plot import show_gif\n",
    "\n",
    "from explorationlib import score\n",
    "from explorationlib.score import search_efficiency\n",
    "from explorationlib.score import first_reward\n",
    "from explorationlib.score import average_reward\n",
    "from explorationlib.score import total_reward"
   ]
  },
  {
   "cell_type": "code",
   "execution_count": 2,
   "metadata": {},
   "outputs": [
    {
     "output_type": "display_data",
     "data": {
      "text/plain": "<IPython.core.display.Javascript object>",
      "application/javascript": "\n            setTimeout(function() {\n                var nbb_cell_id = 2;\n                var nbb_unformatted_code = \"# Pretty plots\\n%matplotlib inline\\n%config InlineBackend.figure_format='retina'\\n%config IPCompleter.greedy=True\\n\\nplt.rcParams[\\\"axes.facecolor\\\"] = \\\"white\\\"\\nplt.rcParams[\\\"figure.facecolor\\\"] = \\\"white\\\"\\nplt.rcParams[\\\"font.size\\\"] = \\\"16\\\"\\n\\n# Uncomment for local development\\n%load_ext nb_black\\n%load_ext autoreload\\n%autoreload 2\";\n                var nbb_formatted_code = \"# Pretty plots\\n%matplotlib inline\\n%config InlineBackend.figure_format='retina'\\n%config IPCompleter.greedy=True\\n\\nplt.rcParams[\\\"axes.facecolor\\\"] = \\\"white\\\"\\nplt.rcParams[\\\"figure.facecolor\\\"] = \\\"white\\\"\\nplt.rcParams[\\\"font.size\\\"] = \\\"16\\\"\\n\\n# Uncomment for local development\\n%load_ext nb_black\\n%load_ext autoreload\\n%autoreload 2\";\n                var nbb_cells = Jupyter.notebook.get_cells();\n                for (var i = 0; i < nbb_cells.length; ++i) {\n                    if (nbb_cells[i].input_prompt_number == nbb_cell_id) {\n                        if (nbb_cells[i].get_text() == nbb_unformatted_code) {\n                             nbb_cells[i].set_text(nbb_formatted_code);\n                        }\n                        break;\n                    }\n                }\n            }, 500);\n            "
     },
     "metadata": {}
    }
   ],
   "source": [
    "# Pretty plots\n",
    "%matplotlib inline\n",
    "%config InlineBackend.figure_format='retina'\n",
    "%config IPCompleter.greedy=True\n",
    "\n",
    "plt.rcParams[\"axes.facecolor\"] = \"white\"\n",
    "plt.rcParams[\"figure.facecolor\"] = \"white\"\n",
    "plt.rcParams[\"font.size\"] = \"16\"\n",
    "\n",
    "# Uncomment for local development\n",
    "%load_ext nb_black\n",
    "%load_ext autoreload\n",
    "%autoreload 2"
   ]
  },
  {
   "source": [
    "# 1 pred, 2 preys"
   ],
   "cell_type": "markdown",
   "metadata": {}
  },
  {
   "cell_type": "code",
   "execution_count": 125,
   "metadata": {
    "tags": []
   },
   "outputs": [
    {
     "output_type": "stream",
     "name": "stderr",
     "text": [
      "test_comp:   0%|          | 0/1 [00:00<?, ?it/s]1 10 1.0 [ 0.08438488 -0.05365811]\n",
      "22 18 1.0 [-1.8061904  -0.60868689]\n",
      "22 19 1.0 [-2.17184496 -0.34980092]\n",
      "47 15 1.0 [-0.17075867  3.22446648]\n",
      "57 13 1.0 [3.70197474 3.79665468]\n",
      "84 13 1.0 [4.59587875 6.34438614]\n",
      "123 12 1.0 [5.12960922 0.7665897 ]\n",
      "130 12 1.0 [5.00873142 0.07710544]\n",
      "456 19 1.0 [-4.0713749  -7.40161744]\n",
      "985 12 1.0 [  1.97138302 -11.16256209]\n",
      "test_comp: 100%|██████████| 1/1 [00:09<00:00,  9.25s/it]\n"
     ]
    },
    {
     "output_type": "display_data",
     "data": {
      "text/plain": "<IPython.core.display.Javascript object>",
      "application/javascript": "\n            setTimeout(function() {\n                var nbb_cell_id = 125;\n                var nbb_unformatted_code = \"# How long to run? Longer is better, but slower.\\nnum_steps = 5000\\nnum_experiments = 1\\n\\nnum_agents = 20\\nnum_targets = 10\\ntarget_index = list(range(0, num_targets))\\n\\ndetection_radius =  5\\np_target = 1.0\\ntarget_boundary = (10, 10)\\n\\n# -\\nmin_length = .1\\nstep_size = .1\\n\\n# Create env \\nenv = CompetitiveField(num_agents=num_agents)\\ntargets = uniform_targets(num_targets, target_boundary)\\nvalues = constant_values(targets, 1.0)\\n\\n# Preds and preys\\nscale = 1\\nagents = [Diffusion2d(scale=scale) for _ in range(num_agents)]\\n\\n# Intial targets\\nenv.add_targets(target_index, targets, values, detection_radius=detection_radius)\\n\\n# !\\ncomp_exp = multi_experiment(\\n    f\\\"test_comp\\\",\\n    agents, \\n    env,\\n    num_steps=num_steps,\\n    num_experiments=num_experiments,\\n    seed=404,\\n    split_state=False,\\n    dump=False\\n)\";\n                var nbb_formatted_code = \"# How long to run? Longer is better, but slower.\\nnum_steps = 5000\\nnum_experiments = 1\\n\\nnum_agents = 20\\nnum_targets = 10\\ntarget_index = list(range(0, num_targets))\\n\\ndetection_radius = 5\\np_target = 1.0\\ntarget_boundary = (10, 10)\\n\\n# -\\nmin_length = 0.1\\nstep_size = 0.1\\n\\n# Create env\\nenv = CompetitiveField(num_agents=num_agents)\\ntargets = uniform_targets(num_targets, target_boundary)\\nvalues = constant_values(targets, 1.0)\\n\\n# Preds and preys\\nscale = 1\\nagents = [Diffusion2d(scale=scale) for _ in range(num_agents)]\\n\\n# Intial targets\\nenv.add_targets(target_index, targets, values, detection_radius=detection_radius)\\n\\n# !\\ncomp_exp = multi_experiment(\\n    f\\\"test_comp\\\",\\n    agents,\\n    env,\\n    num_steps=num_steps,\\n    num_experiments=num_experiments,\\n    seed=404,\\n    split_state=False,\\n    dump=False,\\n)\";\n                var nbb_cells = Jupyter.notebook.get_cells();\n                for (var i = 0; i < nbb_cells.length; ++i) {\n                    if (nbb_cells[i].input_prompt_number == nbb_cell_id) {\n                        if (nbb_cells[i].get_text() == nbb_unformatted_code) {\n                             nbb_cells[i].set_text(nbb_formatted_code);\n                        }\n                        break;\n                    }\n                }\n            }, 500);\n            "
     },
     "metadata": {}
    }
   ],
   "source": [
    "# How long to run? Longer is better, but slower.\n",
    "num_steps = 5000\n",
    "num_experiments = 1\n",
    "\n",
    "num_agents = 20\n",
    "num_targets = 10\n",
    "target_index = list(range(0, num_targets))\n",
    "\n",
    "detection_radius =  5\n",
    "p_target = 1.0\n",
    "target_boundary = (10, 10)\n",
    "\n",
    "# -\n",
    "min_length = .1\n",
    "step_size = .1\n",
    "\n",
    "# Create env \n",
    "env = CompetitiveField(num_agents=num_agents)\n",
    "targets = uniform_targets(num_targets, target_boundary)\n",
    "values = constant_values(targets, 1.0)\n",
    "\n",
    "# Preds and preys\n",
    "scale = 1\n",
    "agents = [Diffusion2d(scale=scale) for _ in range(num_agents)]\n",
    "\n",
    "# Intial targets\n",
    "env.add_targets(target_index, targets, values, detection_radius=detection_radius)\n",
    "\n",
    "# !\n",
    "comp_exp = multi_experiment(\n",
    "    f\"test_comp\",\n",
    "    agents, \n",
    "    env,\n",
    "    num_steps=num_steps,\n",
    "    num_experiments=num_experiments,\n",
    "    seed=404,\n",
    "    split_state=False,\n",
    "    dump=False\n",
    ")"
   ]
  },
  {
   "cell_type": "code",
   "execution_count": 126,
   "metadata": {},
   "outputs": [
    {
     "output_type": "stream",
     "name": "stdout",
     "text": [
      ">>> Target index : [0, 1, 2, 3, 4, 5, 6, 7, 8, 9]\n"
     ]
    },
    {
     "output_type": "display_data",
     "data": {
      "text/plain": "<IPython.core.display.Javascript object>",
      "application/javascript": "\n            setTimeout(function() {\n                var nbb_cell_id = 126;\n                var nbb_unformatted_code = \"print(f\\\">>> Target index : {target_index}\\\")\";\n                var nbb_formatted_code = \"print(f\\\">>> Target index : {target_index}\\\")\";\n                var nbb_cells = Jupyter.notebook.get_cells();\n                for (var i = 0; i < nbb_cells.length; ++i) {\n                    if (nbb_cells[i].input_prompt_number == nbb_cell_id) {\n                        if (nbb_cells[i].get_text() == nbb_unformatted_code) {\n                             nbb_cells[i].set_text(nbb_formatted_code);\n                        }\n                        break;\n                    }\n                }\n            }, 500);\n            "
     },
     "metadata": {}
    }
   ],
   "source": [
    "print(f\">>> Target index : {target_index}\")"
   ]
  },
  {
   "cell_type": "code",
   "execution_count": 127,
   "metadata": {},
   "outputs": [
    {
     "output_type": "display_data",
     "data": {
      "text/plain": "<Figure size 216x216 with 1 Axes>",
      "image/png": "[encoded data removed]"
     },
     "metadata": {
      "image/png": {
       "width": 378,
       "height": 225
      }
     }
    },
    {
     "output_type": "display_data",
     "data": {
      "text/plain": "<IPython.core.display.Javascript object>",
      "application/javascript": "\n            setTimeout(function() {\n                var nbb_cell_id = 127;\n                var nbb_unformatted_code = \"num_experiment = 0\\nnum_agent = 0\\nplot_boundary = (100, 100)\\n\\n# Example bout\\nax = None\\nax = plot_positions2d(\\n    select_exp(comp_exp, num_experiment),\\n    num_agents,\\n    boundary=plot_boundary,\\n    # labels=[\\\"Prey 1\\\", \\\"Prey 2\\\", \\\"Pred\\\"],\\n    colors=None,\\n    alpha=0.3,\\n    figsize=(3, 3),\\n)\\nax = plot_targets2d(\\n    env,\\n    boundary=plot_boundary,\\n    color=\\\"black\\\",\\n    alpha=1,\\n    label=\\\"Targets\\\",\\n    ax=ax,\\n)\";\n                var nbb_formatted_code = \"num_experiment = 0\\nnum_agent = 0\\nplot_boundary = (100, 100)\\n\\n# Example bout\\nax = None\\nax = plot_positions2d(\\n    select_exp(comp_exp, num_experiment),\\n    num_agents,\\n    boundary=plot_boundary,\\n    # labels=[\\\"Prey 1\\\", \\\"Prey 2\\\", \\\"Pred\\\"],\\n    colors=None,\\n    alpha=0.3,\\n    figsize=(3, 3),\\n)\\nax = plot_targets2d(\\n    env,\\n    boundary=plot_boundary,\\n    color=\\\"black\\\",\\n    alpha=1,\\n    label=\\\"Targets\\\",\\n    ax=ax,\\n)\";\n                var nbb_cells = Jupyter.notebook.get_cells();\n                for (var i = 0; i < nbb_cells.length; ++i) {\n                    if (nbb_cells[i].input_prompt_number == nbb_cell_id) {\n                        if (nbb_cells[i].get_text() == nbb_unformatted_code) {\n                             nbb_cells[i].set_text(nbb_formatted_code);\n                        }\n                        break;\n                    }\n                }\n            }, 500);\n            "
     },
     "metadata": {}
    }
   ],
   "source": [
    "num_experiment = 0\n",
    "num_agent = 0\n",
    "plot_boundary = (100, 100)\n",
    "\n",
    "# Example bout\n",
    "ax = None\n",
    "ax = plot_positions2d(\n",
    "    select_exp(comp_exp, num_experiment),\n",
    "    num_agents,\n",
    "    boundary=plot_boundary,\n",
    "    # labels=[\"Prey 1\", \"Prey 2\", \"Pred\"],\n",
    "    colors=None,\n",
    "    alpha=0.3,\n",
    "    figsize=(3, 3),\n",
    ")\n",
    "ax = plot_targets2d(\n",
    "    env,\n",
    "    boundary=plot_boundary,\n",
    "    color=\"black\",\n",
    "    alpha=1,\n",
    "    label=\"Targets\",\n",
    "    ax=ax,\n",
    ")"
   ]
  },
  {
   "cell_type": "code",
   "execution_count": 130,
   "metadata": {},
   "outputs": [
    {
     "output_type": "stream",
     "name": "stderr",
     "text": [
      "total_reward: 100%|██████████| 1/1 [00:00<00:00, 183.72it/s]\n"
     ]
    },
    {
     "output_type": "execute_result",
     "data": {
      "text/plain": [
       "[10.0]"
      ]
     },
     "metadata": {},
     "execution_count": 130
    },
    {
     "output_type": "display_data",
     "data": {
      "text/plain": "<IPython.core.display.Javascript object>",
      "application/javascript": "\n            setTimeout(function() {\n                var nbb_cell_id = 130;\n                var nbb_unformatted_code = \"total_reward(comp_exp)\";\n                var nbb_formatted_code = \"total_reward(comp_exp)\";\n                var nbb_cells = Jupyter.notebook.get_cells();\n                for (var i = 0; i < nbb_cells.length; ++i) {\n                    if (nbb_cells[i].input_prompt_number == nbb_cell_id) {\n                        if (nbb_cells[i].get_text() == nbb_unformatted_code) {\n                             nbb_cells[i].set_text(nbb_formatted_code);\n                        }\n                        break;\n                    }\n                }\n            }, 500);\n            "
     },
     "metadata": {}
    }
   ],
   "source": [
    "total_reward(comp_exp)"
   ]
  },
  {
   "cell_type": "code",
   "execution_count": 131,
   "metadata": {},
   "outputs": [
    {
     "output_type": "execute_result",
     "data": {
      "text/plain": [
       "[0, 1, 2, 3, 4, 5, 6, 7, 8, 9]"
      ]
     },
     "metadata": {},
     "execution_count": 131
    },
    {
     "output_type": "display_data",
     "data": {
      "text/plain": "<IPython.core.display.Javascript object>",
      "application/javascript": "\n            setTimeout(function() {\n                var nbb_cell_id = 131;\n                var nbb_unformatted_code = \"sorted(env.dead)\";\n                var nbb_formatted_code = \"sorted(env.dead)\";\n                var nbb_cells = Jupyter.notebook.get_cells();\n                for (var i = 0; i < nbb_cells.length; ++i) {\n                    if (nbb_cells[i].input_prompt_number == nbb_cell_id) {\n                        if (nbb_cells[i].get_text() == nbb_unformatted_code) {\n                             nbb_cells[i].set_text(nbb_formatted_code);\n                        }\n                        break;\n                    }\n                }\n            }, 500);\n            "
     },
     "metadata": {}
    }
   ],
   "source": [
    "sorted(env.dead)"
   ]
  },
  {
   "cell_type": "code",
   "execution_count": null,
   "metadata": {},
   "outputs": [],
   "source": []
  }
 ]
}