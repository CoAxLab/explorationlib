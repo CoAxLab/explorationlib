{
 "metadata": {
  "language_info": {
   "codemirror_mode": {
    "name": "ipython",
    "version": 3
   },
   "file_extension": ".py",
   "mimetype": "text/x-python",
   "name": "python",
   "nbconvert_exporter": "python",
   "pygments_lexer": "ipython3",
   "version": "3.6.7-final"
  },
  "orig_nbformat": 2,
  "kernelspec": {
   "name": "python3",
   "display_name": "Python 3.6.7 64-bit ('py3.6': conda)",
   "metadata": {
    "interpreter": {
     "hash": "5c0fa7a4f8f1487a2aac67eb43e7b2e553808a81f9be50af9e1ab194481cfe22"
    }
   }
  }
 },
 "nbformat": 4,
 "nbformat_minor": 2,
 "cells": [
  {
   "source": [
    "# Test - FreezeLevyGrid - 1 \n",
    "Does it freeze the right number of times?\n",
    "Are the levy steps intact?"
   ],
   "cell_type": "markdown",
   "metadata": {}
  },
  {
   "cell_type": "code",
   "execution_count": 4,
   "metadata": {},
   "outputs": [
    {
     "output_type": "display_data",
     "data": {
      "text/plain": "<IPython.core.display.Javascript object>",
      "application/javascript": "\n            setTimeout(function() {\n                var nbb_cell_id = 4;\n                var nbb_unformatted_code = \"import shutil\\nimport glob\\nimport os\\n\\nimport numpy as np\\nimport pandas as pd\\nimport seaborn as sns\\nimport matplotlib.pyplot as plt\\n\\nimport explorationlib\\nfrom explorationlib.agent import FreezeLevyGrid\\nfrom explorationlib.agent import DiffusionGrid\\n\\nfrom explorationlib.local_gym import uniform_targets\\nfrom explorationlib.local_gym import constant_values\\nfrom explorationlib.local_gym import CompetitiveGrid\\n\\nfrom explorationlib.run import multi_experiment\\nfrom explorationlib.util import select_exp\\nfrom explorationlib.util import select_agent\\nfrom explorationlib.util import load\\nfrom explorationlib.util import save\\n\\nfrom explorationlib.plot import plot_position2d\\nfrom explorationlib.plot import plot_positions2d\\nfrom explorationlib.plot import plot_length_hist\\nfrom explorationlib.plot import plot_length\\nfrom explorationlib.plot import plot_targets2d\\nfrom explorationlib.plot import show_gif\\n\\nfrom explorationlib import score\\nfrom explorationlib.score import search_efficiency\\nfrom explorationlib.score import first_reward\\nfrom explorationlib.score import average_reward\\nfrom explorationlib.score import total_reward\";\n                var nbb_formatted_code = \"import shutil\\nimport glob\\nimport os\\n\\nimport numpy as np\\nimport pandas as pd\\nimport seaborn as sns\\nimport matplotlib.pyplot as plt\\n\\nimport explorationlib\\nfrom explorationlib.agent import FreezeLevyGrid\\nfrom explorationlib.agent import DiffusionGrid\\n\\nfrom explorationlib.local_gym import uniform_targets\\nfrom explorationlib.local_gym import constant_values\\nfrom explorationlib.local_gym import CompetitiveGrid\\n\\nfrom explorationlib.run import multi_experiment\\nfrom explorationlib.util import select_exp\\nfrom explorationlib.util import select_agent\\nfrom explorationlib.util import load\\nfrom explorationlib.util import save\\n\\nfrom explorationlib.plot import plot_position2d\\nfrom explorationlib.plot import plot_positions2d\\nfrom explorationlib.plot import plot_length_hist\\nfrom explorationlib.plot import plot_length\\nfrom explorationlib.plot import plot_targets2d\\nfrom explorationlib.plot import show_gif\\n\\nfrom explorationlib import score\\nfrom explorationlib.score import search_efficiency\\nfrom explorationlib.score import first_reward\\nfrom explorationlib.score import average_reward\\nfrom explorationlib.score import total_reward\";\n                var nbb_cells = Jupyter.notebook.get_cells();\n                for (var i = 0; i < nbb_cells.length; ++i) {\n                    if (nbb_cells[i].input_prompt_number == nbb_cell_id) {\n                        if (nbb_cells[i].get_text() == nbb_unformatted_code) {\n                             nbb_cells[i].set_text(nbb_formatted_code);\n                        }\n                        break;\n                    }\n                }\n            }, 500);\n            "
     },
     "metadata": {}
    }
   ],
   "source": [
    "import shutil\n",
    "import glob\n",
    "import os\n",
    "\n",
    "import numpy as np\n",
    "import pandas as pd\n",
    "import seaborn as sns\n",
    "import matplotlib.pyplot as plt\n",
    "\n",
    "import explorationlib\n",
    "from explorationlib.agent import FreezeLevyGrid\n",
    "from explorationlib.agent import DiffusionGrid\n",
    "\n",
    "from explorationlib.local_gym import uniform_targets\n",
    "from explorationlib.local_gym import constant_values\n",
    "from explorationlib.local_gym import CompetitiveGrid\n",
    "\n",
    "from explorationlib.run import multi_experiment\n",
    "from explorationlib.util import select_exp\n",
    "from explorationlib.util import select_agent\n",
    "from explorationlib.util import load\n",
    "from explorationlib.util import save\n",
    "\n",
    "from explorationlib.plot import plot_position2d\n",
    "from explorationlib.plot import plot_positions2d\n",
    "from explorationlib.plot import plot_length_hist\n",
    "from explorationlib.plot import plot_length\n",
    "from explorationlib.plot import plot_targets2d\n",
    "from explorationlib.plot import show_gif\n",
    "\n",
    "from explorationlib import score\n",
    "from explorationlib.score import search_efficiency\n",
    "from explorationlib.score import first_reward\n",
    "from explorationlib.score import average_reward\n",
    "from explorationlib.score import total_reward"
   ]
  },
  {
   "cell_type": "code",
   "execution_count": 5,
   "metadata": {},
   "outputs": [
    {
     "output_type": "stream",
     "name": "stdout",
     "text": [
      "The nb_black extension is already loaded. To reload it, use:\n  %reload_ext nb_black\nThe autoreload extension is already loaded. To reload it, use:\n  %reload_ext autoreload\n"
     ]
    },
    {
     "output_type": "display_data",
     "data": {
      "text/plain": "<IPython.core.display.Javascript object>",
      "application/javascript": "\n            setTimeout(function() {\n                var nbb_cell_id = 5;\n                var nbb_unformatted_code = \"# Pretty plots\\n%matplotlib inline\\n%config InlineBackend.figure_format='retina'\\n%config IPCompleter.greedy=True\\n\\nplt.rcParams[\\\"axes.facecolor\\\"] = \\\"white\\\"\\nplt.rcParams[\\\"figure.facecolor\\\"] = \\\"white\\\"\\nplt.rcParams[\\\"font.size\\\"] = \\\"16\\\"\\n\\n# Uncomment for local development\\n%load_ext nb_black\\n%load_ext autoreload\\n%autoreload 2\";\n                var nbb_formatted_code = \"# Pretty plots\\n%matplotlib inline\\n%config InlineBackend.figure_format='retina'\\n%config IPCompleter.greedy=True\\n\\nplt.rcParams[\\\"axes.facecolor\\\"] = \\\"white\\\"\\nplt.rcParams[\\\"figure.facecolor\\\"] = \\\"white\\\"\\nplt.rcParams[\\\"font.size\\\"] = \\\"16\\\"\\n\\n# Uncomment for local development\\n%load_ext nb_black\\n%load_ext autoreload\\n%autoreload 2\";\n                var nbb_cells = Jupyter.notebook.get_cells();\n                for (var i = 0; i < nbb_cells.length; ++i) {\n                    if (nbb_cells[i].input_prompt_number == nbb_cell_id) {\n                        if (nbb_cells[i].get_text() == nbb_unformatted_code) {\n                             nbb_cells[i].set_text(nbb_formatted_code);\n                        }\n                        break;\n                    }\n                }\n            }, 500);\n            "
     },
     "metadata": {}
    }
   ],
   "source": [
    "# Pretty plots\n",
    "%matplotlib inline\n",
    "%config InlineBackend.figure_format='retina'\n",
    "%config IPCompleter.greedy=True\n",
    "\n",
    "plt.rcParams[\"axes.facecolor\"] = \"white\"\n",
    "plt.rcParams[\"figure.facecolor\"] = \"white\"\n",
    "plt.rcParams[\"font.size\"] = \"16\"\n",
    "\n",
    "# Uncomment for local development\n",
    "%load_ext nb_black\n",
    "%load_ext autoreload\n",
    "%autoreload 2"
   ]
  },
  {
   "source": [
    "# 1 pred, 2 preys"
   ],
   "cell_type": "markdown",
   "metadata": {}
  },
  {
   "cell_type": "code",
   "execution_count": 41,
   "metadata": {
    "tags": []
   },
   "outputs": [
    {
     "output_type": "stream",
     "name": "stderr",
     "text": [
      "test_freeze: 100%|██████████| 15/15 [00:00<00:00, 33.07it/s]\n"
     ]
    },
    {
     "output_type": "display_data",
     "data": {
      "text/plain": "<IPython.core.display.Javascript object>",
      "application/javascript": "\n            setTimeout(function() {\n                var nbb_cell_id = 41;\n                var nbb_unformatted_code = \"# How long to run? Longer is better, but slower.\\nnum_steps = 100\\nnum_experiments = 15\\n\\nnum_agents = 2\\nnum_targets = 1\\ntarget_index = list(range(0, num_targets))\\n\\ndetection_radius =  1\\np_target = 1\\np_freeze = 0\\ntarget_boundary = (10, 10)\\n\\n# -\\nmin_length = 1\\nstep_size = 1\\n\\n# Create env \\nenv = CompetitiveGrid(num_agents=num_agents, mode=None)\\ntargets = uniform_targets(num_targets, target_boundary)\\nvalues = constant_values(targets, 1.0)\\n\\n# Preds, and preys\\nagents = [\\n    FreezeLevyGrid(\\n        exponent=2, \\n        p_freeze=p_freeze, \\n        step_size=step_size, \\n        min_length=min_length\\n    ), \\n    DiffusionGrid(\\n        scale=1, \\n        step_size=step_size, \\n        min_length=min_length\\n    )\\n]\\n\\n# Intial targets\\nenv.add_targets(\\n    target_index, \\n    targets, \\n    values, \\n    detection_radius=detection_radius, \\n    p_target=p_target\\n)\\n\\n# !\\ncomp_exp = multi_experiment(\\n    f\\\"test_freeze\\\",\\n    agents, \\n    env,\\n    num_steps=num_steps,\\n    num_experiments=num_experiments,\\n    seed=404,\\n    split_state=False,\\n    dump=False\\n)\";\n                var nbb_formatted_code = \"# How long to run? Longer is better, but slower.\\nnum_steps = 100\\nnum_experiments = 15\\n\\nnum_agents = 2\\nnum_targets = 1\\ntarget_index = list(range(0, num_targets))\\n\\ndetection_radius = 1\\np_target = 1\\np_freeze = 0\\ntarget_boundary = (10, 10)\\n\\n# -\\nmin_length = 1\\nstep_size = 1\\n\\n# Create env\\nenv = CompetitiveGrid(num_agents=num_agents, mode=None)\\ntargets = uniform_targets(num_targets, target_boundary)\\nvalues = constant_values(targets, 1.0)\\n\\n# Preds, and preys\\nagents = [\\n    FreezeLevyGrid(\\n        exponent=2, p_freeze=p_freeze, step_size=step_size, min_length=min_length\\n    ),\\n    DiffusionGrid(scale=1, step_size=step_size, min_length=min_length),\\n]\\n\\n# Intial targets\\nenv.add_targets(\\n    target_index, targets, values, detection_radius=detection_radius, p_target=p_target\\n)\\n\\n# !\\ncomp_exp = multi_experiment(\\n    f\\\"test_freeze\\\",\\n    agents,\\n    env,\\n    num_steps=num_steps,\\n    num_experiments=num_experiments,\\n    seed=404,\\n    split_state=False,\\n    dump=False,\\n)\";\n                var nbb_cells = Jupyter.notebook.get_cells();\n                for (var i = 0; i < nbb_cells.length; ++i) {\n                    if (nbb_cells[i].input_prompt_number == nbb_cell_id) {\n                        if (nbb_cells[i].get_text() == nbb_unformatted_code) {\n                             nbb_cells[i].set_text(nbb_formatted_code);\n                        }\n                        break;\n                    }\n                }\n            }, 500);\n            "
     },
     "metadata": {}
    }
   ],
   "source": [
    "# How long to run? Longer is better, but slower.\n",
    "num_steps = 100\n",
    "num_experiments = 15\n",
    "\n",
    "num_agents = 2\n",
    "num_targets = 1\n",
    "target_index = list(range(0, num_targets))\n",
    "\n",
    "detection_radius =  1\n",
    "p_target = 1\n",
    "p_freeze = 0\n",
    "target_boundary = (10, 10)\n",
    "\n",
    "# -\n",
    "min_length = 1\n",
    "step_size = 1\n",
    "\n",
    "# Create env \n",
    "env = CompetitiveGrid(num_agents=num_agents, mode=None)\n",
    "targets = uniform_targets(num_targets, target_boundary)\n",
    "values = constant_values(targets, 1.0)\n",
    "\n",
    "# Preds, and preys\n",
    "agents = [\n",
    "    FreezeLevyGrid(\n",
    "        exponent=2, \n",
    "        p_freeze=p_freeze, \n",
    "        step_size=step_size, \n",
    "        min_length=min_length\n",
    "    ), \n",
    "    DiffusionGrid(\n",
    "        scale=1, \n",
    "        step_size=step_size, \n",
    "        min_length=min_length\n",
    "    )\n",
    "]\n",
    "\n",
    "# Intial targets\n",
    "env.add_targets(\n",
    "    target_index, \n",
    "    targets, \n",
    "    values, \n",
    "    detection_radius=detection_radius, \n",
    "    p_target=p_target\n",
    ")\n",
    "\n",
    "# !\n",
    "comp_exp = multi_experiment(\n",
    "    f\"test_freeze\",\n",
    "    agents, \n",
    "    env,\n",
    "    num_steps=num_steps,\n",
    "    num_experiments=num_experiments,\n",
    "    seed=404,\n",
    "    split_state=False,\n",
    "    dump=False\n",
    ")"
   ]
  },
  {
   "cell_type": "code",
   "execution_count": 42,
   "metadata": {},
   "outputs": [
    {
     "output_type": "stream",
     "name": "stdout",
     "text": [
      ">>> Target index : [0]\n"
     ]
    },
    {
     "output_type": "display_data",
     "data": {
      "text/plain": "<IPython.core.display.Javascript object>",
      "application/javascript": "\n            setTimeout(function() {\n                var nbb_cell_id = 42;\n                var nbb_unformatted_code = \"print(f\\\">>> Target index : {target_index}\\\")\";\n                var nbb_formatted_code = \"print(f\\\">>> Target index : {target_index}\\\")\";\n                var nbb_cells = Jupyter.notebook.get_cells();\n                for (var i = 0; i < nbb_cells.length; ++i) {\n                    if (nbb_cells[i].input_prompt_number == nbb_cell_id) {\n                        if (nbb_cells[i].get_text() == nbb_unformatted_code) {\n                             nbb_cells[i].set_text(nbb_formatted_code);\n                        }\n                        break;\n                    }\n                }\n            }, 500);\n            "
     },
     "metadata": {}
    }
   ],
   "source": [
    "print(f\">>> Target index : {target_index}\")"
   ]
  },
  {
   "cell_type": "code",
   "execution_count": 43,
   "metadata": {},
   "outputs": [
    {
     "output_type": "display_data",
     "data": {
      "text/plain": "<Figure size 216x216 with 1 Axes>",
      "image/png": "[encoded data removed]"
     },
     "metadata": {
      "image/png": {
       "width": 368,
       "height": 219
      }
     }
    },
    {
     "output_type": "display_data",
     "data": {
      "text/plain": "<IPython.core.display.Javascript object>",
      "application/javascript": "\n            setTimeout(function() {\n                var nbb_cell_id = 43;\n                var nbb_unformatted_code = \"num_experiment = 2\\nnum_agent = 0\\nplot_boundary = (50, 50)\\n\\n# Example bout\\nax = None\\nax = plot_positions2d(\\n    select_exp(comp_exp, num_experiment),\\n    num_agents,\\n    boundary=plot_boundary,\\n    colors=None,\\n    alpha=0.6,\\n    figsize=(3, 3),\\n)\\nax = plot_targets2d(\\n    env,\\n    boundary=plot_boundary,\\n    color=\\\"black\\\",\\n    alpha=1,\\n    label=\\\"Targets\\\",\\n    ax=ax,\\n)\";\n                var nbb_formatted_code = \"num_experiment = 2\\nnum_agent = 0\\nplot_boundary = (50, 50)\\n\\n# Example bout\\nax = None\\nax = plot_positions2d(\\n    select_exp(comp_exp, num_experiment),\\n    num_agents,\\n    boundary=plot_boundary,\\n    colors=None,\\n    alpha=0.6,\\n    figsize=(3, 3),\\n)\\nax = plot_targets2d(\\n    env,\\n    boundary=plot_boundary,\\n    color=\\\"black\\\",\\n    alpha=1,\\n    label=\\\"Targets\\\",\\n    ax=ax,\\n)\";\n                var nbb_cells = Jupyter.notebook.get_cells();\n                for (var i = 0; i < nbb_cells.length; ++i) {\n                    if (nbb_cells[i].input_prompt_number == nbb_cell_id) {\n                        if (nbb_cells[i].get_text() == nbb_unformatted_code) {\n                             nbb_cells[i].set_text(nbb_formatted_code);\n                        }\n                        break;\n                    }\n                }\n            }, 500);\n            "
     },
     "metadata": {}
    }
   ],
   "source": [
    "num_experiment = 2\n",
    "num_agent = 0\n",
    "plot_boundary = (50, 50)\n",
    "\n",
    "# Example bout\n",
    "ax = None\n",
    "ax = plot_positions2d(\n",
    "    select_exp(comp_exp, num_experiment),\n",
    "    num_agents,\n",
    "    boundary=plot_boundary,\n",
    "    colors=None,\n",
    "    alpha=0.6,\n",
    "    figsize=(3, 3),\n",
    ")\n",
    "ax = plot_targets2d(\n",
    "    env,\n",
    "    boundary=plot_boundary,\n",
    "    color=\"black\",\n",
    "    alpha=1,\n",
    "    label=\"Targets\",\n",
    "    ax=ax,\n",
    ")"
   ]
  },
  {
   "cell_type": "code",
   "execution_count": 44,
   "metadata": {},
   "outputs": [
    {
     "output_type": "stream",
     "name": "stderr",
     "text": [
      "total_reward: 100%|██████████| 15/15 [00:00<00:00, 20466.68it/s]\n"
     ]
    },
    {
     "output_type": "execute_result",
     "data": {
      "text/plain": [
       "[0.0, 0.0, 0.0, 0.0, 0.0, 0.0, 0.0, 0.0, 0.0, 0.0, 1.0, 0.0, 0.0, 0.0, 1.0]"
      ]
     },
     "metadata": {},
     "execution_count": 44
    },
    {
     "output_type": "display_data",
     "data": {
      "text/plain": "<IPython.core.display.Javascript object>",
      "application/javascript": "\n            setTimeout(function() {\n                var nbb_cell_id = 44;\n                var nbb_unformatted_code = \"total_reward(comp_exp)\";\n                var nbb_formatted_code = \"total_reward(comp_exp)\";\n                var nbb_cells = Jupyter.notebook.get_cells();\n                for (var i = 0; i < nbb_cells.length; ++i) {\n                    if (nbb_cells[i].input_prompt_number == nbb_cell_id) {\n                        if (nbb_cells[i].get_text() == nbb_unformatted_code) {\n                             nbb_cells[i].set_text(nbb_formatted_code);\n                        }\n                        break;\n                    }\n                }\n            }, 500);\n            "
     },
     "metadata": {}
    }
   ],
   "source": [
    "total_reward(comp_exp)"
   ]
  },
  {
   "source": [
    "### p_freeze is right?"
   ],
   "cell_type": "markdown",
   "metadata": {}
  },
  {
   "cell_type": "code",
   "execution_count": 45,
   "metadata": {},
   "outputs": [
    {
     "output_type": "execute_result",
     "data": {
      "text/plain": [
       "0.0"
      ]
     },
     "metadata": {},
     "execution_count": 45
    },
    {
     "output_type": "display_data",
     "data": {
      "text/plain": "<IPython.core.display.Javascript object>",
      "application/javascript": "\n            setTimeout(function() {\n                var nbb_cell_id = 45;\n                var nbb_unformatted_code = \"np.sum(comp_exp[0][\\\"agent_history\\\"][0][\\\"agent_freeze\\\"]) / num_steps\";\n                var nbb_formatted_code = \"np.sum(comp_exp[0][\\\"agent_history\\\"][0][\\\"agent_freeze\\\"]) / num_steps\";\n                var nbb_cells = Jupyter.notebook.get_cells();\n                for (var i = 0; i < nbb_cells.length; ++i) {\n                    if (nbb_cells[i].input_prompt_number == nbb_cell_id) {\n                        if (nbb_cells[i].get_text() == nbb_unformatted_code) {\n                             nbb_cells[i].set_text(nbb_formatted_code);\n                        }\n                        break;\n                    }\n                }\n            }, 500);\n            "
     },
     "metadata": {}
    }
   ],
   "source": [
    "np.sum(comp_exp[0][\"agent_history\"][0][\"agent_freeze\"]) / num_steps"
   ]
  },
  {
   "cell_type": "code",
   "execution_count": null,
   "metadata": {},
   "outputs": [],
   "source": []
  }
 ]
}