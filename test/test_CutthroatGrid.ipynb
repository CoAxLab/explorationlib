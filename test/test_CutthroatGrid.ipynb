{
 "metadata": {
  "language_info": {
   "codemirror_mode": {
    "name": "ipython",
    "version": 3
   },
   "file_extension": ".py",
   "mimetype": "text/x-python",
   "name": "python",
   "nbconvert_exporter": "python",
   "pygments_lexer": "ipython3",
   "version": "3.6.7"
  },
  "orig_nbformat": 2,
  "kernelspec": {
   "name": "python367jvsc74a57bd05c0fa7a4f8f1487a2aac67eb43e7b2e553808a81f9be50af9e1ab194481cfe22",
   "display_name": "Python 3.6.7 64-bit"
  }
 },
 "nbformat": 4,
 "nbformat_minor": 2,
 "cells": [
  {
   "source": [
    "# Test - moving targets - CutthroatGrid\n",
    "Predators hunting prey, and other predators."
   ],
   "cell_type": "markdown",
   "metadata": {}
  },
  {
   "cell_type": "code",
   "execution_count": 1,
   "metadata": {},
   "outputs": [
    {
     "output_type": "stream",
     "name": "stdout",
     "text": [
      "pygame 2.0.1 (SDL 2.0.14, Python 3.6.7)\nHello from the pygame community. https://www.pygame.org/contribute.html\n"
     ]
    }
   ],
   "source": [
    "import shutil\n",
    "import glob\n",
    "import os\n",
    "\n",
    "import numpy as np\n",
    "import pandas as pd\n",
    "import seaborn as sns\n",
    "import matplotlib.pyplot as plt\n",
    "\n",
    "import explorationlib\n",
    "from explorationlib.agent import Diffusion2d\n",
    "from explorationlib.agent import DiffusionDiscrete\n",
    "from explorationlib.agent import DiffusionGrid\n",
    "\n",
    "from explorationlib.local_gym import uniform_targets\n",
    "from explorationlib.local_gym import constant_values\n",
    "from explorationlib.local_gym import CutthroatGrid\n",
    "\n",
    "from explorationlib.run import multi_experiment\n",
    "from explorationlib.util import select_exp\n",
    "from explorationlib.util import select_agent\n",
    "from explorationlib.util import load\n",
    "from explorationlib.util import save\n",
    "\n",
    "from explorationlib.plot import plot_position2d\n",
    "from explorationlib.plot import plot_positions2d\n",
    "from explorationlib.plot import plot_length_hist\n",
    "from explorationlib.plot import plot_length\n",
    "from explorationlib.plot import plot_targets2d\n",
    "from explorationlib.plot import show_gif\n",
    "\n",
    "from explorationlib import score\n",
    "from explorationlib.score import search_efficiency\n",
    "from explorationlib.score import first_reward\n",
    "from explorationlib.score import total_reward"
   ]
  },
  {
   "cell_type": "code",
   "execution_count": 2,
   "metadata": {},
   "outputs": [
    {
     "output_type": "display_data",
     "data": {
      "text/plain": "<IPython.core.display.Javascript object>",
      "application/javascript": "\n            setTimeout(function() {\n                var nbb_cell_id = 2;\n                var nbb_unformatted_code = \"# Pretty plots\\n%matplotlib inline\\n%config InlineBackend.figure_format='retina'\\n%config IPCompleter.greedy=True\\n\\nplt.rcParams[\\\"axes.facecolor\\\"] = \\\"white\\\"\\nplt.rcParams[\\\"figure.facecolor\\\"] = \\\"white\\\"\\nplt.rcParams[\\\"font.size\\\"] = \\\"16\\\"\\n\\n# Uncomment for local development\\n%load_ext nb_black\\n%load_ext autoreload\\n%autoreload 2\";\n                var nbb_formatted_code = \"# Pretty plots\\n%matplotlib inline\\n%config InlineBackend.figure_format='retina'\\n%config IPCompleter.greedy=True\\n\\nplt.rcParams[\\\"axes.facecolor\\\"] = \\\"white\\\"\\nplt.rcParams[\\\"figure.facecolor\\\"] = \\\"white\\\"\\nplt.rcParams[\\\"font.size\\\"] = \\\"16\\\"\\n\\n# Uncomment for local development\\n%load_ext nb_black\\n%load_ext autoreload\\n%autoreload 2\";\n                var nbb_cells = Jupyter.notebook.get_cells();\n                for (var i = 0; i < nbb_cells.length; ++i) {\n                    if (nbb_cells[i].input_prompt_number == nbb_cell_id) {\n                        if (nbb_cells[i].get_text() == nbb_unformatted_code) {\n                             nbb_cells[i].set_text(nbb_formatted_code);\n                        }\n                        break;\n                    }\n                }\n            }, 500);\n            "
     },
     "metadata": {}
    }
   ],
   "source": [
    "# Pretty plots\n",
    "%matplotlib inline\n",
    "%config InlineBackend.figure_format='retina'\n",
    "%config IPCompleter.greedy=True\n",
    "\n",
    "plt.rcParams[\"axes.facecolor\"] = \"white\"\n",
    "plt.rcParams[\"figure.facecolor\"] = \"white\"\n",
    "plt.rcParams[\"font.size\"] = \"16\"\n",
    "\n",
    "# Uncomment for local development\n",
    "%load_ext nb_black\n",
    "%load_ext autoreload\n",
    "%autoreload 2"
   ]
  },
  {
   "source": [
    "# 100 pred, 100 preys"
   ],
   "cell_type": "markdown",
   "metadata": {}
  },
  {
   "source": [
    "# How long to run? Longer is better, but slower.\n",
    "num_steps = 20\n",
    "num_experiments = 3\n",
    "num_agents = 200\n",
    "num_targets = 100 # aka prey\n",
    "num_enemy = num_agents - num_targets # aka pred\n",
    "\n",
    "target_index = list(range(0, num_targets))\n",
    "enemy_index = list(range(num_targets, num_agents))\n",
    "\n",
    "detection_radius =  1 \n",
    "p_target = 0.5\n",
    "\n",
    "enemy_radius =  2  # pred can see each other better? No Cammo?\n",
    "p_enemy = 0.5\n",
    "\n",
    "# Intial size of 'box' targets\n",
    "# start in.\n",
    "target_boundary = (10, 10)\n",
    "min_length = 1\n",
    "step_size = 1\n",
    "\n",
    "# Create env \n",
    "env = CutthroatGrid(num_agents=num_agents)\n",
    "\n",
    "# Preds and preys\n",
    "scale = 2\n",
    "agents = [DiffusionGrid(scale=scale) for _ in range(num_agents)]\n",
    "\n",
    "# Intial target locations\n",
    "targets = uniform_targets(num_targets, target_boundary)\n",
    "values = constant_values(targets, 1.0)\n",
    "\n",
    "# Register target locations\n",
    "env.add_targets(\n",
    "    target_index, \n",
    "    targets, \n",
    "    values, \n",
    "    detection_radius=detection_radius,\n",
    "    p_target=p_target,\n",
    ")\n",
    "\n",
    "# Intial target locations\n",
    "enemies = uniform_targets(num_enemy, target_boundary)\n",
    "enemy_values = constant_values(enemies, 0.0) # no value?\n",
    "\n",
    "# Register target locations\n",
    "env.add_enemy(\n",
    "    enemy_index, \n",
    "    enemies, \n",
    "    enemy_values, \n",
    "    enemy_radius=enemy_radius,\n",
    "    p_enemy=p_enemy,\n",
    ")"
   ],
   "cell_type": "code",
   "metadata": {
    "tags": []
   },
   "execution_count": 3,
   "outputs": [
    {
     "output_type": "display_data",
     "data": {
      "text/plain": "<IPython.core.display.Javascript object>",
      "application/javascript": "\n            setTimeout(function() {\n                var nbb_cell_id = 3;\n                var nbb_unformatted_code = \"# How long to run? Longer is better, but slower.\\nnum_steps = 20\\nnum_experiments = 3\\nnum_agents = 200\\nnum_targets = 100 # aka prey\\nnum_enemy = num_agents - num_targets # aka pred\\n\\ntarget_index = list(range(0, num_targets))\\nenemy_index = list(range(num_targets, num_agents))\\n\\ndetection_radius =  1 \\np_target = 0.5\\n\\nenemy_radius =  2  # pred can see each other better? No Cammo?\\np_enemy = 0.5\\n\\n# Intial size of 'box' targets\\n# start in.\\ntarget_boundary = (10, 10)\\nmin_length = 1\\nstep_size = 1\\n\\n# Create env \\nenv = CutthroatGrid(num_agents=num_agents)\\n\\n# Preds and preys\\nscale = 2\\nagents = [DiffusionGrid(scale=scale) for _ in range(num_agents)]\\n\\n# Intial target locations\\ntargets = uniform_targets(num_targets, target_boundary)\\nvalues = constant_values(targets, 1.0)\\n\\n# Register target locations\\nenv.add_targets(\\n    target_index, \\n    targets, \\n    values, \\n    detection_radius=detection_radius,\\n    p_target=p_target,\\n)\\n\\n# Intial target locations\\nenemies = uniform_targets(num_enemy, target_boundary)\\nenemy_values = constant_values(enemies, 0.0) # no value?\\n\\n# Register target locations\\nenv.add_enemy(\\n    enemy_index, \\n    enemies, \\n    enemy_values, \\n    enemy_radius=enemy_radius,\\n    p_enemy=p_enemy,\\n)\";\n                var nbb_formatted_code = \"# How long to run? Longer is better, but slower.\\nnum_steps = 20\\nnum_experiments = 3\\nnum_agents = 200\\nnum_targets = 100  # aka prey\\nnum_enemy = num_agents - num_targets  # aka pred\\n\\ntarget_index = list(range(0, num_targets))\\nenemy_index = list(range(num_targets, num_agents))\\n\\ndetection_radius = 1\\np_target = 0.5\\n\\nenemy_radius = 2  # pred can see each other better? No Cammo?\\np_enemy = 0.5\\n\\n# Intial size of 'box' targets\\n# start in.\\ntarget_boundary = (10, 10)\\nmin_length = 1\\nstep_size = 1\\n\\n# Create env\\nenv = CutthroatGrid(num_agents=num_agents)\\n\\n# Preds and preys\\nscale = 2\\nagents = [DiffusionGrid(scale=scale) for _ in range(num_agents)]\\n\\n# Intial target locations\\ntargets = uniform_targets(num_targets, target_boundary)\\nvalues = constant_values(targets, 1.0)\\n\\n# Register target locations\\nenv.add_targets(\\n    target_index,\\n    targets,\\n    values,\\n    detection_radius=detection_radius,\\n    p_target=p_target,\\n)\\n\\n# Intial target locations\\nenemies = uniform_targets(num_enemy, target_boundary)\\nenemy_values = constant_values(enemies, 0.0)  # no value?\\n\\n# Register target locations\\nenv.add_enemy(\\n    enemy_index,\\n    enemies,\\n    enemy_values,\\n    enemy_radius=enemy_radius,\\n    p_enemy=p_enemy,\\n)\";\n                var nbb_cells = Jupyter.notebook.get_cells();\n                for (var i = 0; i < nbb_cells.length; ++i) {\n                    if (nbb_cells[i].input_prompt_number == nbb_cell_id) {\n                        if (nbb_cells[i].get_text() == nbb_unformatted_code) {\n                             nbb_cells[i].set_text(nbb_formatted_code);\n                        }\n                        break;\n                    }\n                }\n            }, 500);\n            "
     },
     "metadata": {}
    }
   ]
  },
  {
   "cell_type": "code",
   "execution_count": 4,
   "metadata": {
    "tags": []
   },
   "outputs": [
    {
     "output_type": "stream",
     "name": "stderr",
     "text": [
      "test_comp: 100%|██████████| 3/3 [00:08<00:00,  2.78s/it]\n"
     ]
    },
    {
     "output_type": "display_data",
     "data": {
      "text/plain": "<IPython.core.display.Javascript object>",
      "application/javascript": "\n            setTimeout(function() {\n                var nbb_cell_id = 4;\n                var nbb_unformatted_code = \"# Run!\\ncomp_exp = multi_experiment(\\n    f\\\"test_comp\\\",\\n    agents, \\n    env,\\n    num_steps=num_steps,\\n    num_experiments=num_experiments,\\n    seed=404,\\n    split_state=False,\\n    dump=False\\n)\";\n                var nbb_formatted_code = \"# Run!\\ncomp_exp = multi_experiment(\\n    f\\\"test_comp\\\",\\n    agents,\\n    env,\\n    num_steps=num_steps,\\n    num_experiments=num_experiments,\\n    seed=404,\\n    split_state=False,\\n    dump=False,\\n)\";\n                var nbb_cells = Jupyter.notebook.get_cells();\n                for (var i = 0; i < nbb_cells.length; ++i) {\n                    if (nbb_cells[i].input_prompt_number == nbb_cell_id) {\n                        if (nbb_cells[i].get_text() == nbb_unformatted_code) {\n                             nbb_cells[i].set_text(nbb_formatted_code);\n                        }\n                        break;\n                    }\n                }\n            }, 500);\n            "
     },
     "metadata": {}
    }
   ],
   "source": [
    "# Run!\n",
    "comp_exp = multi_experiment(\n",
    "    f\"test_comp\",\n",
    "    agents, \n",
    "    env,\n",
    "    num_steps=num_steps,\n",
    "    num_experiments=num_experiments,\n",
    "    seed=404,\n",
    "    split_state=False,\n",
    "    dump=False\n",
    ")"
   ]
  },
  {
   "cell_type": "code",
   "execution_count": 5,
   "metadata": {},
   "outputs": [
    {
     "output_type": "stream",
     "name": "stdout",
     "text": [
      ">>> Target index : [0, 1, 2, 3, 4, 5, 6, 7, 8, 9, 10, 11, 12, 13, 14, 15, 16, 17, 18, 19, 20, 21, 22, 23, 24, 25, 26, 27, 28, 29, 30, 31, 32, 33, 34, 35, 36, 37, 38, 39, 40, 41, 42, 43, 44, 45, 46, 47, 48, 49, 50, 51, 52, 53, 54, 55, 56, 57, 58, 59, 60, 61, 62, 63, 64, 65, 66, 67, 68, 69, 70, 71, 72, 73, 74, 75, 76, 77, 78, 79, 80, 81, 82, 83, 84, 85, 86, 87, 88, 89, 90, 91, 92, 93, 94, 95, 96, 97, 98, 99]\n"
     ]
    },
    {
     "output_type": "display_data",
     "data": {
      "text/plain": "<IPython.core.display.Javascript object>",
      "application/javascript": "\n            setTimeout(function() {\n                var nbb_cell_id = 5;\n                var nbb_unformatted_code = \"print(f\\\">>> Target index : {target_index}\\\")\";\n                var nbb_formatted_code = \"print(f\\\">>> Target index : {target_index}\\\")\";\n                var nbb_cells = Jupyter.notebook.get_cells();\n                for (var i = 0; i < nbb_cells.length; ++i) {\n                    if (nbb_cells[i].input_prompt_number == nbb_cell_id) {\n                        if (nbb_cells[i].get_text() == nbb_unformatted_code) {\n                             nbb_cells[i].set_text(nbb_formatted_code);\n                        }\n                        break;\n                    }\n                }\n            }, 500);\n            "
     },
     "metadata": {}
    }
   ],
   "source": [
    "print(f\">>> Target index : {target_index}\")"
   ]
  },
  {
   "cell_type": "code",
   "execution_count": 6,
   "metadata": {},
   "outputs": [
    {
     "output_type": "stream",
     "name": "stdout",
     "text": [
      ">>> Enemy index : [100, 101, 102, 103, 104, 105, 106, 107, 108, 109, 110, 111, 112, 113, 114, 115, 116, 117, 118, 119, 120, 121, 122, 123, 124, 125, 126, 127, 128, 129, 130, 131, 132, 133, 134, 135, 136, 137, 138, 139, 140, 141, 142, 143, 144, 145, 146, 147, 148, 149, 150, 151, 152, 153, 154, 155, 156, 157, 158, 159, 160, 161, 162, 163, 164, 165, 166, 167, 168, 169, 170, 171, 172, 173, 174, 175, 176, 177, 178, 179, 180, 181, 182, 183, 184, 185, 186, 187, 188, 189, 190, 191, 192, 193, 194, 195, 196, 197, 198, 199]\n"
     ]
    },
    {
     "output_type": "display_data",
     "data": {
      "text/plain": "<IPython.core.display.Javascript object>",
      "application/javascript": "\n            setTimeout(function() {\n                var nbb_cell_id = 6;\n                var nbb_unformatted_code = \"print(f\\\">>> Enemy index : {enemy_index}\\\")\";\n                var nbb_formatted_code = \"print(f\\\">>> Enemy index : {enemy_index}\\\")\";\n                var nbb_cells = Jupyter.notebook.get_cells();\n                for (var i = 0; i < nbb_cells.length; ++i) {\n                    if (nbb_cells[i].input_prompt_number == nbb_cell_id) {\n                        if (nbb_cells[i].get_text() == nbb_unformatted_code) {\n                             nbb_cells[i].set_text(nbb_formatted_code);\n                        }\n                        break;\n                    }\n                }\n            }, 500);\n            "
     },
     "metadata": {}
    }
   ],
   "source": [
    "print(f\">>> Enemy index : {enemy_index}\")"
   ]
  },
  {
   "cell_type": "code",
   "execution_count": 7,
   "metadata": {},
   "outputs": [
    {
     "output_type": "display_data",
     "data": {
      "text/plain": "<Figure size 216x216 with 1 Axes>",
      "image/png": "[encoded data removed]"
     },
     "metadata": {
      "image/png": {
       "width": 368,
       "height": 219
      }
     }
    },
    {
     "output_type": "display_data",
     "data": {
      "text/plain": "<IPython.core.display.Javascript object>",
      "application/javascript": "\n            setTimeout(function() {\n                var nbb_cell_id = 7;\n                var nbb_unformatted_code = \"num_experiment = 1\\nnum_agent = 0\\nplot_boundary = (50, 50)\\n\\n# Example bout\\nax = None\\nax = plot_positions2d(\\n    select_exp(comp_exp, num_experiment),\\n    num_agents,\\n    boundary=plot_boundary,\\n    # labels=[\\\"Prey 1\\\", \\\"Prey 2\\\", \\\"Pred\\\"],\\n    colors=None,\\n    alpha=0.3,\\n    figsize=(3, 3),\\n)\\n\\nax = plot_targets2d(\\n    env,\\n    boundary=plot_boundary,\\n    color=\\\"black\\\",\\n    alpha=1,\\n    label=\\\"Targets\\\",\\n    ax=ax,\\n)\";\n                var nbb_formatted_code = \"num_experiment = 1\\nnum_agent = 0\\nplot_boundary = (50, 50)\\n\\n# Example bout\\nax = None\\nax = plot_positions2d(\\n    select_exp(comp_exp, num_experiment),\\n    num_agents,\\n    boundary=plot_boundary,\\n    # labels=[\\\"Prey 1\\\", \\\"Prey 2\\\", \\\"Pred\\\"],\\n    colors=None,\\n    alpha=0.3,\\n    figsize=(3, 3),\\n)\\n\\nax = plot_targets2d(\\n    env,\\n    boundary=plot_boundary,\\n    color=\\\"black\\\",\\n    alpha=1,\\n    label=\\\"Targets\\\",\\n    ax=ax,\\n)\";\n                var nbb_cells = Jupyter.notebook.get_cells();\n                for (var i = 0; i < nbb_cells.length; ++i) {\n                    if (nbb_cells[i].input_prompt_number == nbb_cell_id) {\n                        if (nbb_cells[i].get_text() == nbb_unformatted_code) {\n                             nbb_cells[i].set_text(nbb_formatted_code);\n                        }\n                        break;\n                    }\n                }\n            }, 500);\n            "
     },
     "metadata": {}
    }
   ],
   "source": [
    "num_experiment = 1\n",
    "num_agent = 0\n",
    "plot_boundary = (50, 50)\n",
    "\n",
    "# Example bout\n",
    "ax = None\n",
    "ax = plot_positions2d(\n",
    "    select_exp(comp_exp, num_experiment),\n",
    "    num_agents,\n",
    "    boundary=plot_boundary,\n",
    "    # labels=[\"Prey 1\", \"Prey 2\", \"Pred\"],\n",
    "    colors=None,\n",
    "    alpha=0.3,\n",
    "    figsize=(3, 3),\n",
    ")\n",
    "\n",
    "ax = plot_targets2d(\n",
    "    env,\n",
    "    boundary=plot_boundary,\n",
    "    color=\"black\",\n",
    "    alpha=1,\n",
    "    label=\"Targets\",\n",
    "    ax=ax,\n",
    ")"
   ]
  },
  {
   "cell_type": "code",
   "execution_count": 8,
   "metadata": {},
   "outputs": [
    {
     "output_type": "stream",
     "name": "stderr",
     "text": [
      "total_reward: 100%|██████████| 3/3 [00:00<00:00, 684.93it/s]\n"
     ]
    },
    {
     "output_type": "execute_result",
     "data": {
      "text/plain": [
       "[44.0, 48.0, 45.0]"
      ]
     },
     "metadata": {},
     "execution_count": 8
    },
    {
     "output_type": "display_data",
     "data": {
      "text/plain": "<IPython.core.display.Javascript object>",
      "application/javascript": "\n            setTimeout(function() {\n                var nbb_cell_id = 8;\n                var nbb_unformatted_code = \"total_reward(comp_exp)\";\n                var nbb_formatted_code = \"total_reward(comp_exp)\";\n                var nbb_cells = Jupyter.notebook.get_cells();\n                for (var i = 0; i < nbb_cells.length; ++i) {\n                    if (nbb_cells[i].input_prompt_number == nbb_cell_id) {\n                        if (nbb_cells[i].get_text() == nbb_unformatted_code) {\n                             nbb_cells[i].set_text(nbb_formatted_code);\n                        }\n                        break;\n                    }\n                }\n            }, 500);\n            "
     },
     "metadata": {}
    }
   ],
   "source": [
    "total_reward(comp_exp)"
   ]
  },
  {
   "cell_type": "code",
   "execution_count": 9,
   "metadata": {},
   "outputs": [
    {
     "output_type": "execute_result",
     "data": {
      "text/plain": [
       "160"
      ]
     },
     "metadata": {},
     "execution_count": 9
    },
    {
     "output_type": "display_data",
     "data": {
      "text/plain": "<IPython.core.display.Javascript object>",
      "application/javascript": "\n            setTimeout(function() {\n                var nbb_cell_id = 9;\n                var nbb_unformatted_code = \"len(env.dead)\";\n                var nbb_formatted_code = \"len(env.dead)\";\n                var nbb_cells = Jupyter.notebook.get_cells();\n                for (var i = 0; i < nbb_cells.length; ++i) {\n                    if (nbb_cells[i].input_prompt_number == nbb_cell_id) {\n                        if (nbb_cells[i].get_text() == nbb_unformatted_code) {\n                             nbb_cells[i].set_text(nbb_formatted_code);\n                        }\n                        break;\n                    }\n                }\n            }, 500);\n            "
     },
     "metadata": {}
    }
   ],
   "source": [
    "len(env.dead)"
   ]
  },
  {
   "source": [
    "Print all enemy eating enemy events/pairs. "
   ],
   "cell_type": "markdown",
   "metadata": {}
  },
  {
   "cell_type": "code",
   "execution_count": 10,
   "metadata": {},
   "outputs": [
    {
     "output_type": "execute_result",
     "data": {
      "text/plain": [
       "[(100, 75),\n",
       " (100, 95),\n",
       " (101, 34),\n",
       " (104, 18),\n",
       " (105, 3),\n",
       " (106, 12),\n",
       " (107, 98),\n",
       " (109, 15),\n",
       " (109, 19),\n",
       " (109, 37),\n",
       " (109, 40),\n",
       " (110, 61),\n",
       " (110, 74),\n",
       " (113, 78),\n",
       " (114, 91),\n",
       " (115, 49),\n",
       " (116, 22),\n",
       " (116, 87),\n",
       " (118, 11),\n",
       " (120, 83),\n",
       " (121, 28),\n",
       " (122, 1),\n",
       " (122, 13),\n",
       " (122, 52),\n",
       " (124, 63),\n",
       " (125, 77),\n",
       " (126, 10),\n",
       " (126, 17),\n",
       " (126, 45),\n",
       " (126, 48),\n",
       " (129, 30),\n",
       " (129, 59),\n",
       " (131, 44),\n",
       " (131, 47),\n",
       " (131, 65),\n",
       " (132, 84),\n",
       " (133, 54),\n",
       " (139, 23),\n",
       " (140, 24),\n",
       " (140, 38),\n",
       " (141, 97),\n",
       " (142, 39),\n",
       " (142, 70),\n",
       " (143, 29),\n",
       " (145, 68),\n",
       " (146, 58),\n",
       " (150, 14),\n",
       " (150, 35),\n",
       " (152, 93),\n",
       " (156, 4),\n",
       " (156, 96),\n",
       " (157, 72),\n",
       " (158, 99),\n",
       " (160, 64),\n",
       " (161, 27),\n",
       " (162, 73),\n",
       " (166, 92),\n",
       " (167, 20),\n",
       " (167, 25),\n",
       " (169, 7),\n",
       " (174, 8),\n",
       " (174, 41),\n",
       " (174, 90),\n",
       " (176, 71),\n",
       " (180, 32),\n",
       " (181, 2),\n",
       " (182, 66),\n",
       " (182, 86),\n",
       " (183, 5),\n",
       " (185, 21),\n",
       " (185, 76),\n",
       " (187, 57),\n",
       " (187, 85),\n",
       " (188, 33),\n",
       " (189, 42),\n",
       " (189, 50),\n",
       " (189, 81),\n",
       " (190, 51),\n",
       " (194, 6)]"
      ]
     },
     "metadata": {},
     "execution_count": 10
    },
    {
     "output_type": "display_data",
     "data": {
      "text/plain": "<IPython.core.display.Javascript object>",
      "application/javascript": "\n            setTimeout(function() {\n                var nbb_cell_id = 10;\n                var nbb_unformatted_code = \"sorted(env.dead_enemy)\";\n                var nbb_formatted_code = \"sorted(env.dead_enemy)\";\n                var nbb_cells = Jupyter.notebook.get_cells();\n                for (var i = 0; i < nbb_cells.length; ++i) {\n                    if (nbb_cells[i].input_prompt_number == nbb_cell_id) {\n                        if (nbb_cells[i].get_text() == nbb_unformatted_code) {\n                             nbb_cells[i].set_text(nbb_formatted_code);\n                        }\n                        break;\n                    }\n                }\n            }, 500);\n            "
     },
     "metadata": {}
    }
   ],
   "source": [
    "sorted(env.dead_enemy)"
   ]
  },
  {
   "source": [
    "Any values > 0 at the end are from surviving teams"
   ],
   "cell_type": "markdown",
   "metadata": {}
  },
  {
   "cell_type": "code",
   "execution_count": 11,
   "metadata": {},
   "outputs": [
    {
     "output_type": "execute_result",
     "data": {
      "text/plain": [
       "array([0., 1., 0., 1., 0., 0., 0., 1., 0., 0., 0., 0., 0., 0., 0., 0., 1.,\n",
       "       0., 0., 0., 1., 0., 0., 0., 0., 0., 0., 0., 0., 0., 1., 1., 0., 0.,\n",
       "       0., 0., 0., 0., 0., 0., 0., 0., 0., 0., 0., 0., 1., 0., 0., 0., 0.,\n",
       "       0., 0., 1., 1., 0., 1., 0., 0., 0., 1., 0., 0., 0., 0., 0., 1., 1.,\n",
       "       0., 0., 0., 0., 0., 0., 0., 0., 0., 0., 0., 0., 0., 0., 0., 0., 1.,\n",
       "       0., 0., 0., 0., 0., 0., 1., 0., 0., 1., 0., 1., 1., 0., 0.])"
      ]
     },
     "metadata": {},
     "execution_count": 11
    },
    {
     "output_type": "display_data",
     "data": {
      "text/plain": "<IPython.core.display.Javascript object>",
      "application/javascript": "\n            setTimeout(function() {\n                var nbb_cell_id = 11;\n                var nbb_unformatted_code = \"env.values\";\n                var nbb_formatted_code = \"env.values\";\n                var nbb_cells = Jupyter.notebook.get_cells();\n                for (var i = 0; i < nbb_cells.length; ++i) {\n                    if (nbb_cells[i].input_prompt_number == nbb_cell_id) {\n                        if (nbb_cells[i].get_text() == nbb_unformatted_code) {\n                             nbb_cells[i].set_text(nbb_formatted_code);\n                        }\n                        break;\n                    }\n                }\n            }, 500);\n            "
     },
     "metadata": {}
    }
   ],
   "source": [
    "env.values"
   ]
  },
  {
   "source": [
    "How much value is left on the grid? How many prey are alive?"
   ],
   "cell_type": "markdown",
   "metadata": {}
  },
  {
   "cell_type": "code",
   "execution_count": 12,
   "metadata": {},
   "outputs": [
    {
     "output_type": "execute_result",
     "data": {
      "text/plain": [
       "19.0"
      ]
     },
     "metadata": {},
     "execution_count": 12
    },
    {
     "output_type": "display_data",
     "data": {
      "text/plain": "<IPython.core.display.Javascript object>",
      "application/javascript": "\n            setTimeout(function() {\n                var nbb_cell_id = 12;\n                var nbb_unformatted_code = \"sum(env.values)\";\n                var nbb_formatted_code = \"sum(env.values)\";\n                var nbb_cells = Jupyter.notebook.get_cells();\n                for (var i = 0; i < nbb_cells.length; ++i) {\n                    if (nbb_cells[i].input_prompt_number == nbb_cell_id) {\n                        if (nbb_cells[i].get_text() == nbb_unformatted_code) {\n                             nbb_cells[i].set_text(nbb_formatted_code);\n                        }\n                        break;\n                    }\n                }\n            }, 500);\n            "
     },
     "metadata": {}
    }
   ],
   "source": [
    "sum(env.values)"
   ]
  },
  {
   "source": [
    "How many rewards? Same question as, how many prey were eaten?"
   ],
   "cell_type": "markdown",
   "metadata": {}
  },
  {
   "cell_type": "code",
   "execution_count": 15,
   "metadata": {},
   "outputs": [
    {
     "output_type": "execute_result",
     "data": {
      "text/plain": [
       "45.0"
      ]
     },
     "metadata": {},
     "execution_count": 15
    },
    {
     "output_type": "display_data",
     "data": {
      "text/plain": "<IPython.core.display.Javascript object>",
      "application/javascript": "\n            setTimeout(function() {\n                var nbb_cell_id = 15;\n                var nbb_unformatted_code = \"sum(comp_exp[2][\\\"exp_reward\\\"])\";\n                var nbb_formatted_code = \"sum(comp_exp[2][\\\"exp_reward\\\"])\";\n                var nbb_cells = Jupyter.notebook.get_cells();\n                for (var i = 0; i < nbb_cells.length; ++i) {\n                    if (nbb_cells[i].input_prompt_number == nbb_cell_id) {\n                        if (nbb_cells[i].get_text() == nbb_unformatted_code) {\n                             nbb_cells[i].set_text(nbb_formatted_code);\n                        }\n                        break;\n                    }\n                }\n            }, 500);\n            "
     },
     "metadata": {}
    }
   ],
   "source": [
    "sum(comp_exp[2][\"exp_reward\"])"
   ]
  },
  {
   "cell_type": "code",
   "execution_count": null,
   "metadata": {},
   "outputs": [],
   "source": []
  }
 ]
}